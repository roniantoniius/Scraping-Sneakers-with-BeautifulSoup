{
 "cells": [
  {
   "cell_type": "markdown",
   "id": "880308de",
   "metadata": {},
   "source": [
    "### Scraping Website Sneakers123 with BeautifulSoup"
   ]
  },
  {
   "cell_type": "code",
   "execution_count": 1,
   "id": "4f89e54b",
   "metadata": {},
   "outputs": [
    {
     "data": {
      "application/javascript": [
       "\n",
       "        if (window._pyforest_update_imports_cell) { window._pyforest_update_imports_cell('import matplotlib.pyplot as plt'); }\n",
       "    "
      ],
      "text/plain": [
       "<IPython.core.display.Javascript object>"
      ]
     },
     "metadata": {},
     "output_type": "display_data"
    }
   ],
   "source": [
    "import os\n",
    "import glob\n",
    "import json\n",
    "import folium\n",
    "import requests\n",
    "import itertools\n",
    "from math import sqrt\n",
    "from pyforest import *\n",
    "%matplotlib inline\n",
    "import branca.colormap as cm\n",
    "from datetime import datetime\n",
    "plt.style.use(\"fivethirtyeight\")\n",
    "from bs4 import BeautifulSoup\n",
    "from selenium import webdriver\n",
    "from selenium.webdriver.support.select import Select\n",
    "import time"
   ]
  },
  {
   "cell_type": "code",
   "execution_count": 2,
   "id": "314de452",
   "metadata": {},
   "outputs": [
    {
     "data": {
      "text/plain": [
       "[<section class=\"card-container sneaker-thumbnail col-6 col-md-3 col-xl-3 mp6\" data-v-7fa38404=\"\"><a class=\"card\" href=\"javascript:\" no-prefetch=\"\"><div class=\"card-buttons\"><p class=\"discount\"><span class=\"discount-number\">30</span>%\n",
       "                 </p> <div class=\"action-button notification\"><span><div class=\"custom_tooltip\"><img alt=\"icon\" class=\"notification-svg svg\" data-src=\"/_nuxt/img/595ed71.svg\" height=\"19\" lazy-default=\"/_nuxt/img/ad97b1a.svg\" src=\"/_nuxt/img/ad97b1a.svg\" width=\"19\"/> <div class=\"custom-tooltip-body left\">\n",
       " \t\t\t\tNotify about price\n",
       " \t\t\t</div></div></span></div> <div class=\"action-button favorite\"><div class=\"custom_tooltip\"><img alt=\"icon\" class=\"favorite-svg svg\" data-src=\"/_nuxt/img/57cc0f8.svg\" height=\"16\" lazy-default=\"/_nuxt/img/ad97b1a.svg\" src=\"/_nuxt/img/ad97b1a.svg\" width=\"20\"/> <div class=\"custom-tooltip-body left\">\n",
       " \t\t\tAdd to List\n",
       " \t\t</div></div></div></div> <div class=\"product-photo\"><div class=\"client-only-placeholder\"><img alt=\"sneaker thumbnail\" class=\"product-photo-img\" height=\"300\" src=\"/_nuxt/img/75030d0.jpg\" width=\"300\"/></div></div> <div class=\"transition-info-container\"><div class=\"product-names\"><div class=\"product-title\">Jordan</div> <div class=\"product-series\">1</div> <div class=\"product-mark\">553558-072</div></div> <div class=\"product-properties product-icons\"><div><p>Found at<br/> <span class=\"card-product-footer shop-count\">\n",
       "                           21 Shops\n",
       "                       </span></p></div> <div><p>Price from<br/> <span class=\"card-product-footer price-info\">73,00 €</span></p></div></div> <div class=\"product-details\"><div class=\"related-products-container\"></div> <span class=\"available-sizes-text mt-1 mb-2\">\n",
       "                         Available in several sizes\n",
       "                     </span></div></div></a></section>,\n",
       " <section class=\"card-container sneaker-thumbnail col-6 col-md-3 col-xl-3 mp6\" data-v-7fa38404=\"\"><a class=\"card\" href=\"javascript:\" no-prefetch=\"\"><div class=\"card-buttons\"><p class=\"discount\"><span class=\"discount-number\">10</span>%\n",
       "                 </p> <div class=\"action-button notification\"><span><div class=\"custom_tooltip\"><img alt=\"icon\" class=\"notification-svg svg\" data-src=\"/_nuxt/img/595ed71.svg\" height=\"19\" lazy-default=\"/_nuxt/img/ad97b1a.svg\" src=\"/_nuxt/img/ad97b1a.svg\" width=\"19\"/> <div class=\"custom-tooltip-body left\">\n",
       " \t\t\t\tNotify about price\n",
       " \t\t\t</div></div></span></div> <div class=\"action-button favorite\"><div class=\"custom_tooltip\"><img alt=\"icon\" class=\"favorite-svg svg\" data-src=\"/_nuxt/img/57cc0f8.svg\" height=\"16\" lazy-default=\"/_nuxt/img/ad97b1a.svg\" src=\"/_nuxt/img/ad97b1a.svg\" width=\"20\"/> <div class=\"custom-tooltip-body left\">\n",
       " \t\t\tAdd to List\n",
       " \t\t</div></div></div></div> <div class=\"product-photo\"><div class=\"client-only-placeholder\"><img alt=\"sneaker thumbnail\" class=\"product-photo-img\" height=\"300\" src=\"/_nuxt/img/75030d0.jpg\" width=\"300\"/></div></div> <div class=\"transition-info-container\"><div class=\"product-names\"><div class=\"product-title\">Nike</div> <div class=\"product-series\">Air Max 1 87 Leopard</div> <div class=\"product-mark\">FV6605-200</div></div> <div class=\"product-properties product-icons\"><div><p>Found at<br/> <span class=\"card-product-footer shop-count\">\n",
       "                           21 Shops\n",
       "                       </span></p></div> <div><p>Price from<br/> <span class=\"card-product-footer price-info\">144,00 €</span></p></div></div> <div class=\"product-details\"><div class=\"related-products-container\"></div> <span class=\"available-sizes-text mt-1 mb-2\">\n",
       "                         Available in several sizes\n",
       "                     </span></div></div></a></section>,\n",
       " <section class=\"card-container sneaker-thumbnail col-6 col-md-3 col-xl-3 mp6\" data-v-7fa38404=\"\"><a class=\"card\" href=\"javascript:\" no-prefetch=\"\"><div class=\"card-buttons\"><p class=\"discount\"><span class=\"discount-number\">45</span>%\n",
       "                 </p> <div class=\"action-button notification\"><span><div class=\"custom_tooltip\"><img alt=\"icon\" class=\"notification-svg svg\" data-src=\"/_nuxt/img/595ed71.svg\" height=\"19\" lazy-default=\"/_nuxt/img/ad97b1a.svg\" src=\"/_nuxt/img/ad97b1a.svg\" width=\"19\"/> <div class=\"custom-tooltip-body left\">\n",
       " \t\t\t\tNotify about price\n",
       " \t\t\t</div></div></span></div> <div class=\"action-button favorite\"><div class=\"custom_tooltip\"><img alt=\"icon\" class=\"favorite-svg svg\" data-src=\"/_nuxt/img/57cc0f8.svg\" height=\"16\" lazy-default=\"/_nuxt/img/ad97b1a.svg\" src=\"/_nuxt/img/ad97b1a.svg\" width=\"20\"/> <div class=\"custom-tooltip-body left\">\n",
       " \t\t\tAdd to List\n",
       " \t\t</div></div></div></div> <div class=\"product-photo\"><div class=\"client-only-placeholder\"><img alt=\"sneaker thumbnail\" class=\"product-photo-img\" height=\"300\" src=\"/_nuxt/img/75030d0.jpg\" width=\"300\"/></div></div> <div class=\"transition-info-container\"><div class=\"product-names\"><div class=\"product-title\">Nike</div> <div class=\"product-series\">100</div> <div class=\"product-mark\">FD7039-200</div></div> <div class=\"product-properties product-icons\"><div><p>Found at<br/> <span class=\"card-product-footer shop-count\">\n",
       "                           21 Shops\n",
       "                       </span></p></div> <div><p>Price from<br/> <span class=\"card-product-footer price-info\">83,00 €</span></p></div></div> <div class=\"product-details\"><div class=\"related-products-container\"></div> <span class=\"available-sizes-text mt-1 mb-2\">\n",
       "                         Available in several sizes\n",
       "                     </span></div></div></a></section>,\n",
       " <section class=\"card-container sneaker-thumbnail col-6 col-md-3 col-xl-3 mp6\" data-v-7fa38404=\"\"><a class=\"card\" href=\"javascript:\" no-prefetch=\"\"><div class=\"card-buttons\"><p class=\"discount\"><span class=\"discount-number\">40</span>%\n",
       "                 </p> <div class=\"action-button notification\"><span><div class=\"custom_tooltip\"><img alt=\"icon\" class=\"notification-svg svg\" data-src=\"/_nuxt/img/595ed71.svg\" height=\"19\" lazy-default=\"/_nuxt/img/ad97b1a.svg\" src=\"/_nuxt/img/ad97b1a.svg\" width=\"19\"/> <div class=\"custom-tooltip-body left\">\n",
       " \t\t\t\tNotify about price\n",
       " \t\t\t</div></div></span></div> <div class=\"action-button favorite\"><div class=\"custom_tooltip\"><img alt=\"icon\" class=\"favorite-svg svg\" data-src=\"/_nuxt/img/57cc0f8.svg\" height=\"16\" lazy-default=\"/_nuxt/img/ad97b1a.svg\" src=\"/_nuxt/img/ad97b1a.svg\" width=\"20\"/> <div class=\"custom-tooltip-body left\">\n",
       " \t\t\tAdd to List\n",
       " \t\t</div></div></div></div> <div class=\"product-photo\"><div class=\"client-only-placeholder\"><img alt=\"sneaker thumbnail\" class=\"product-photo-img\" height=\"300\" src=\"/_nuxt/img/75030d0.jpg\" width=\"300\"/></div></div> <div class=\"transition-info-container\"><div class=\"product-names\"><div class=\"product-title\">Nike</div> <div class=\"product-series\">Air Max 1</div> <div class=\"product-mark\">DZ2628-102</div></div> <div class=\"product-properties product-icons\"><div><p>Found at<br/> <span class=\"card-product-footer shop-count\">\n",
       "                           21 Shops\n",
       "                       </span></p></div> <div><p>Price from<br/> <span class=\"card-product-footer price-info\">90,00 €</span></p></div></div> <div class=\"product-details\"><div class=\"related-products-container\"></div> <span class=\"available-sizes-text mt-1 mb-2\">\n",
       "                         Available in several sizes\n",
       "                     </span></div></div></a></section>,\n",
       " <section class=\"card-container sneaker-thumbnail col-6 col-md-3 col-xl-3 mp6\" data-v-7fa38404=\"\"><a class=\"card\" href=\"javascript:\" no-prefetch=\"\"><div class=\"card-buttons\"><p class=\"discount\"><span class=\"discount-number\">45</span>%\n",
       "                 </p> <div class=\"action-button notification\"><span><div class=\"custom_tooltip\"><img alt=\"icon\" class=\"notification-svg svg\" data-src=\"/_nuxt/img/595ed71.svg\" height=\"19\" lazy-default=\"/_nuxt/img/ad97b1a.svg\" src=\"/_nuxt/img/ad97b1a.svg\" width=\"19\"/> <div class=\"custom-tooltip-body left\">\n",
       " \t\t\t\tNotify about price\n",
       " \t\t\t</div></div></span></div> <div class=\"action-button favorite\"><div class=\"custom_tooltip\"><img alt=\"icon\" class=\"favorite-svg svg\" data-src=\"/_nuxt/img/57cc0f8.svg\" height=\"16\" lazy-default=\"/_nuxt/img/ad97b1a.svg\" src=\"/_nuxt/img/ad97b1a.svg\" width=\"20\"/> <div class=\"custom-tooltip-body left\">\n",
       " \t\t\tAdd to List\n",
       " \t\t</div></div></div></div> <div class=\"product-photo\"><div class=\"client-only-placeholder\"><img alt=\"sneaker thumbnail\" class=\"product-photo-img\" height=\"300\" src=\"/_nuxt/img/75030d0.jpg\" width=\"300\"/></div></div> <div class=\"transition-info-container\"><div class=\"product-names\"><div class=\"product-title\">Nike</div> <div class=\"product-series\">Air Max 1 SC Light Dust</div> <div class=\"product-mark\">FB9660-002</div></div> <div class=\"product-properties product-icons\"><div><p>Found at<br/> <span class=\"card-product-footer shop-count\">\n",
       "                           21 Shops\n",
       "                       </span></p></div> <div><p>Price from<br/> <span class=\"card-product-footer price-info\">96,00 €</span></p></div></div> <div class=\"product-details\"><div class=\"related-products-container\"></div> <span class=\"available-sizes-text mt-1 mb-2\">\n",
       "                         Available in several sizes\n",
       "                     </span></div></div></a></section>,\n",
       " <section class=\"card-container sneaker-thumbnail col-6 col-md-3 col-xl-3 mp6\" data-v-7fa38404=\"\"><a class=\"card\" href=\"javascript:\" no-prefetch=\"\"><div class=\"card-buttons\"><p class=\"discount\"><span class=\"discount-number\">51</span>%\n",
       "                 </p> <div class=\"action-button notification\"><span><div class=\"custom_tooltip\"><img alt=\"icon\" class=\"notification-svg svg\" data-src=\"/_nuxt/img/595ed71.svg\" height=\"19\" lazy-default=\"/_nuxt/img/ad97b1a.svg\" src=\"/_nuxt/img/ad97b1a.svg\" width=\"19\"/> <div class=\"custom-tooltip-body left\">\n",
       " \t\t\t\tNotify about price\n",
       " \t\t\t</div></div></span></div> <div class=\"action-button favorite\"><div class=\"custom_tooltip\"><img alt=\"icon\" class=\"favorite-svg svg\" data-src=\"/_nuxt/img/57cc0f8.svg\" height=\"16\" lazy-default=\"/_nuxt/img/ad97b1a.svg\" src=\"/_nuxt/img/ad97b1a.svg\" width=\"20\"/> <div class=\"custom-tooltip-body left\">\n",
       " \t\t\tAdd to List\n",
       " \t\t</div></div></div></div> <div class=\"product-photo\"><div class=\"client-only-placeholder\"><img alt=\"sneaker thumbnail\" class=\"product-photo-img\" height=\"300\" src=\"/_nuxt/img/75030d0.jpg\" width=\"300\"/></div></div> <div class=\"transition-info-container\"><div class=\"product-names\"><div class=\"product-title\">Nike</div> <div class=\"product-series\">Mac Attack QS SP</div> <div class=\"product-mark\">FB8938-101</div></div> <div class=\"product-properties product-icons\"><div><p>Found at<br/> <span class=\"card-product-footer shop-count\">\n",
       "                           21 Shops\n",
       "                       </span></p></div> <div><p>Price from<br/> <span class=\"card-product-footer price-info\">70,00 €</span></p></div></div> <div class=\"product-details\"><div class=\"related-products-container\"></div> <span class=\"available-sizes-text mt-1 mb-2\">\n",
       "                         Available in several sizes\n",
       "                     </span></div></div></a></section>,\n",
       " <section class=\"card-container sneaker-thumbnail col-6 col-md-3 col-xl-3 mp6\" data-v-7fa38404=\"\"><a class=\"card\" href=\"javascript:\" no-prefetch=\"\"><div class=\"card-buttons\"><p class=\"discount\"><span class=\"discount-number\">10</span>%\n",
       "                 </p> <div class=\"action-button notification\"><span><div class=\"custom_tooltip\"><img alt=\"icon\" class=\"notification-svg svg\" data-src=\"/_nuxt/img/595ed71.svg\" height=\"19\" lazy-default=\"/_nuxt/img/ad97b1a.svg\" src=\"/_nuxt/img/ad97b1a.svg\" width=\"19\"/> <div class=\"custom-tooltip-body left\">\n",
       " \t\t\t\tNotify about price\n",
       " \t\t\t</div></div></span></div> <div class=\"action-button favorite\"><div class=\"custom_tooltip\"><img alt=\"icon\" class=\"favorite-svg svg\" data-src=\"/_nuxt/img/57cc0f8.svg\" height=\"16\" lazy-default=\"/_nuxt/img/ad97b1a.svg\" src=\"/_nuxt/img/ad97b1a.svg\" width=\"20\"/> <div class=\"custom-tooltip-body left\">\n",
       " \t\t\tAdd to List\n",
       " \t\t</div></div></div></div> <div class=\"product-photo\"><div class=\"client-only-placeholder\"><img alt=\"sneaker thumbnail\" class=\"product-photo-img\" height=\"300\" src=\"/_nuxt/img/75030d0.jpg\" width=\"300\"/></div></div> <div class=\"transition-info-container\"><div class=\"product-names\"><div class=\"product-title\">Nike</div> <div class=\"product-series\">V2K Run Summit S</div> <div class=\"product-mark\">FD0736-100</div></div> <div class=\"product-properties product-icons\"><div><p>Found at<br/> <span class=\"card-product-footer shop-count\">\n",
       "                           21 Shops\n",
       "                       </span></p></div> <div><p>Price from<br/> <span class=\"card-product-footer price-info\">108,49 €</span></p></div></div> <div class=\"product-details\"><div class=\"related-products-container\"></div> <span class=\"available-sizes-text mt-1 mb-2\">\n",
       "                         Available in several sizes\n",
       "                     </span></div></div></a></section>,\n",
       " <section class=\"card-container sneaker-thumbnail col-6 col-md-3 col-xl-3 mp6\" data-v-7fa38404=\"\"><a class=\"card\" href=\"javascript:\" no-prefetch=\"\"><div class=\"card-buttons\"><p class=\"discount\"><span class=\"discount-number\">56</span>%\n",
       "                 </p> <div class=\"action-button notification\"><span><div class=\"custom_tooltip\"><img alt=\"icon\" class=\"notification-svg svg\" data-src=\"/_nuxt/img/595ed71.svg\" height=\"19\" lazy-default=\"/_nuxt/img/ad97b1a.svg\" src=\"/_nuxt/img/ad97b1a.svg\" width=\"19\"/> <div class=\"custom-tooltip-body left\">\n",
       " \t\t\t\tNotify about price\n",
       " \t\t\t</div></div></span></div> <div class=\"action-button favorite\"><div class=\"custom_tooltip\"><img alt=\"icon\" class=\"favorite-svg svg\" data-src=\"/_nuxt/img/57cc0f8.svg\" height=\"16\" lazy-default=\"/_nuxt/img/ad97b1a.svg\" src=\"/_nuxt/img/ad97b1a.svg\" width=\"20\"/> <div class=\"custom-tooltip-body left\">\n",
       " \t\t\tAdd to List\n",
       " \t\t</div></div></div></div> <div class=\"product-photo\"><div class=\"client-only-placeholder\"><img alt=\"sneaker thumbnail\" class=\"product-photo-img\" height=\"300\" src=\"/_nuxt/img/75030d0.jpg\" width=\"300\"/></div></div> <div class=\"transition-info-container\"><div class=\"product-names\"><div class=\"product-title\">Jordan</div> <div class=\"product-series\">2 Retro Look Up In The Air S</div> <div class=\"product-mark\">DX4401-146</div></div> <div class=\"product-properties product-icons\"><div><p>Found at<br/> <span class=\"card-product-footer shop-count\">\n",
       "                           21 Shops\n",
       "                       </span></p></div> <div><p>Price from<br/> <span class=\"card-product-footer price-info\">72,00 €</span></p></div></div> <div class=\"product-details\"><div class=\"related-products-container\"></div> <span class=\"available-sizes-text mt-1 mb-2\">\n",
       "                         Available in several sizes\n",
       "                     </span></div></div></a></section>,\n",
       " <section class=\"card-container sneaker-thumbnail col-6 col-md-3 col-xl-3 mp6\" data-v-7fa38404=\"\"><a class=\"card\" href=\"javascript:\" no-prefetch=\"\"><div class=\"card-buttons\"><p class=\"discount\"><span class=\"discount-number\">30</span>%\n",
       "                 </p> <div class=\"action-button notification\"><span><div class=\"custom_tooltip\"><img alt=\"icon\" class=\"notification-svg svg\" data-src=\"/_nuxt/img/595ed71.svg\" height=\"19\" lazy-default=\"/_nuxt/img/ad97b1a.svg\" src=\"/_nuxt/img/ad97b1a.svg\" width=\"19\"/> <div class=\"custom-tooltip-body left\">\n",
       " \t\t\t\tNotify about price\n",
       " \t\t\t</div></div></span></div> <div class=\"action-button favorite\"><div class=\"custom_tooltip\"><img alt=\"icon\" class=\"favorite-svg svg\" data-src=\"/_nuxt/img/57cc0f8.svg\" height=\"16\" lazy-default=\"/_nuxt/img/ad97b1a.svg\" src=\"/_nuxt/img/ad97b1a.svg\" width=\"20\"/> <div class=\"custom-tooltip-body left\">\n",
       " \t\t\tAdd to List\n",
       " \t\t</div></div></div></div> <div class=\"product-photo\"><div class=\"client-only-placeholder\"><img alt=\"sneaker thumbnail\" class=\"product-photo-img\" height=\"300\" src=\"/_nuxt/img/75030d0.jpg\" width=\"300\"/></div></div> <div class=\"transition-info-container\"><div class=\"product-names\"><div class=\"product-title\">adidas</div> <div class=\"product-series\">Samba OG</div> <div class=\"product-mark\">IG1024</div></div> <div class=\"product-properties product-icons\"><div><p>Found at<br/> <span class=\"card-product-footer shop-count\">\n",
       "                           21 Shops\n",
       "                       </span></p></div> <div><p>Price from<br/> <span class=\"card-product-footer price-info\">84,00 €</span></p></div></div> <div class=\"product-details\"><div class=\"related-products-container\"></div> <span class=\"available-sizes-text mt-1 mb-2\">\n",
       "                         Available in several sizes\n",
       "                     </span></div></div></a></section>,\n",
       " <section class=\"card-container sneaker-thumbnail col-6 col-md-3 col-xl-3 mp6\" data-v-7fa38404=\"\"><a class=\"card\" href=\"javascript:\" no-prefetch=\"\"><div class=\"card-buttons\"><p class=\"discount\"><span class=\"discount-number\">14</span>%\n",
       "                 </p> <div class=\"action-button notification\"><span><div class=\"custom_tooltip\"><img alt=\"icon\" class=\"notification-svg svg\" data-src=\"/_nuxt/img/595ed71.svg\" height=\"19\" lazy-default=\"/_nuxt/img/ad97b1a.svg\" src=\"/_nuxt/img/ad97b1a.svg\" width=\"19\"/> <div class=\"custom-tooltip-body left\">\n",
       " \t\t\t\tNotify about price\n",
       " \t\t\t</div></div></span></div> <div class=\"action-button favorite\"><div class=\"custom_tooltip\"><img alt=\"icon\" class=\"favorite-svg svg\" data-src=\"/_nuxt/img/57cc0f8.svg\" height=\"16\" lazy-default=\"/_nuxt/img/ad97b1a.svg\" src=\"/_nuxt/img/ad97b1a.svg\" width=\"20\"/> <div class=\"custom-tooltip-body left\">\n",
       " \t\t\tAdd to List\n",
       " \t\t</div></div></div></div> <div class=\"product-photo\"><div class=\"client-only-placeholder\"><img alt=\"sneaker thumbnail\" class=\"product-photo-img\" height=\"300\" src=\"/_nuxt/img/75030d0.jpg\" width=\"300\"/></div></div> <div class=\"transition-info-container\"><div class=\"product-names\"><div class=\"product-title\">Adidas</div> <div class=\"product-series\">Campus 00S</div> <div class=\"product-mark\">H03471</div></div> <div class=\"product-properties product-icons\"><div><p>Found at<br/> <span class=\"card-product-footer shop-count\">\n",
       "                           21 Shops\n",
       "                       </span></p></div> <div><p>Price from<br/> <span class=\"card-product-footer price-info\">97,00 €</span></p></div></div> <div class=\"product-details\"><div class=\"related-products-container\"></div> <span class=\"available-sizes-text mt-1 mb-2\">\n",
       "                         Available in several sizes\n",
       "                     </span></div></div></a></section>,\n",
       " <section class=\"card-container sneaker-thumbnail col-6 col-md-3 col-xl-3 mp6\" data-v-7fa38404=\"\"><a class=\"card\" href=\"javascript:\" no-prefetch=\"\"><div class=\"card-buttons\"><p class=\"discount\"><span class=\"discount-number\">27</span>%\n",
       "                 </p> <div class=\"action-button notification\"><span><div class=\"custom_tooltip\"><img alt=\"icon\" class=\"notification-svg svg\" data-src=\"/_nuxt/img/595ed71.svg\" height=\"19\" lazy-default=\"/_nuxt/img/ad97b1a.svg\" src=\"/_nuxt/img/ad97b1a.svg\" width=\"19\"/> <div class=\"custom-tooltip-body left\">\n",
       " \t\t\t\tNotify about price\n",
       " \t\t\t</div></div></span></div> <div class=\"action-button favorite\"><div class=\"custom_tooltip\"><img alt=\"icon\" class=\"favorite-svg svg\" data-src=\"/_nuxt/img/57cc0f8.svg\" height=\"16\" lazy-default=\"/_nuxt/img/ad97b1a.svg\" src=\"/_nuxt/img/ad97b1a.svg\" width=\"20\"/> <div class=\"custom-tooltip-body left\">\n",
       " \t\t\tAdd to List\n",
       " \t\t</div></div></div></div> <div class=\"product-photo\"><div class=\"client-only-placeholder\"><img alt=\"sneaker thumbnail\" class=\"product-photo-img\" height=\"300\" src=\"/_nuxt/img/75030d0.jpg\" width=\"300\"/></div></div> <div class=\"transition-info-container\"><div class=\"product-names\"><div class=\"product-title\">New Balance</div> <div class=\"product-series\">U 9060 GRY</div> <div class=\"product-mark\">U9060GRY</div></div> <div class=\"product-properties product-icons\"><div><p>Found at<br/> <span class=\"card-product-footer shop-count\">\n",
       "                           21 Shops\n",
       "                       </span></p></div> <div><p>Price from<br/> <span class=\"card-product-footer price-info\">219,95 €</span></p></div></div> <div class=\"product-details\"><div class=\"related-products-container\"></div> <span class=\"available-sizes-text mt-1 mb-2\">\n",
       "                         Available in several sizes\n",
       "                     </span></div></div></a></section>,\n",
       " <section class=\"card-container sneaker-thumbnail col-6 col-md-3 col-xl-3 mp6\" data-v-7fa38404=\"\"><a class=\"card\" href=\"javascript:\" no-prefetch=\"\"><div class=\"card-buttons\"><p class=\"discount\"><span class=\"discount-number\">17</span>%\n",
       "                 </p> <div class=\"action-button notification\"><span><div class=\"custom_tooltip\"><img alt=\"icon\" class=\"notification-svg svg\" data-src=\"/_nuxt/img/595ed71.svg\" height=\"19\" lazy-default=\"/_nuxt/img/ad97b1a.svg\" src=\"/_nuxt/img/ad97b1a.svg\" width=\"19\"/> <div class=\"custom-tooltip-body left\">\n",
       " \t\t\t\tNotify about price\n",
       " \t\t\t</div></div></span></div> <div class=\"action-button favorite\"><div class=\"custom_tooltip\"><img alt=\"icon\" class=\"favorite-svg svg\" data-src=\"/_nuxt/img/57cc0f8.svg\" height=\"16\" lazy-default=\"/_nuxt/img/ad97b1a.svg\" src=\"/_nuxt/img/ad97b1a.svg\" width=\"20\"/> <div class=\"custom-tooltip-body left\">\n",
       " \t\t\tAdd to List\n",
       " \t\t</div></div></div></div> <div class=\"product-photo\"><div class=\"client-only-placeholder\"><img alt=\"sneaker thumbnail\" class=\"product-photo-img\" height=\"300\" src=\"/_nuxt/img/75030d0.jpg\" width=\"300\"/></div></div> <div class=\"transition-info-container\"><div class=\"product-names\"><div class=\"product-title\">Adidas</div> <div class=\"product-series\">Gazelle Indoor</div> <div class=\"product-mark\">H06260</div></div> <div class=\"product-properties product-icons\"><div><p>Found at<br/> <span class=\"card-product-footer shop-count\">\n",
       "                           21 Shops\n",
       "                       </span></p></div> <div><p>Price from<br/> <span class=\"card-product-footer price-info\">99,99 €</span></p></div></div> <div class=\"product-details\"><div class=\"related-products-container\"></div> <span class=\"available-sizes-text mt-1 mb-2\">\n",
       "                         Available in several sizes\n",
       "                     </span></div></div></a></section>,\n",
       " <section class=\"card-container sneaker-thumbnail col-6 col-md-3 col-xl-3 mp6\" data-v-7fa38404=\"\"><a class=\"card\" href=\"javascript:\" no-prefetch=\"\"><div class=\"card-buttons\"><!-- --> <div class=\"action-button notification\"><span><div class=\"custom_tooltip\"><img alt=\"icon\" class=\"notification-svg svg\" data-src=\"/_nuxt/img/595ed71.svg\" height=\"19\" lazy-default=\"/_nuxt/img/ad97b1a.svg\" src=\"/_nuxt/img/ad97b1a.svg\" width=\"19\"/> <div class=\"custom-tooltip-body left\">\n",
       " \t\t\t\tNotify about price\n",
       " \t\t\t</div></div></span></div> <div class=\"action-button favorite\"><div class=\"custom_tooltip\"><img alt=\"icon\" class=\"favorite-svg svg\" data-src=\"/_nuxt/img/57cc0f8.svg\" height=\"16\" lazy-default=\"/_nuxt/img/ad97b1a.svg\" src=\"/_nuxt/img/ad97b1a.svg\" width=\"20\"/> <div class=\"custom-tooltip-body left\">\n",
       " \t\t\tAdd to List\n",
       " \t\t</div></div></div></div> <div class=\"product-photo\"><div class=\"client-only-placeholder\"><img alt=\"sneaker thumbnail\" class=\"product-photo-img\" height=\"300\" src=\"/_nuxt/img/75030d0.jpg\" width=\"300\"/></div></div> <div class=\"transition-info-container\"><div class=\"product-names\"><div class=\"product-title\">Adidas</div> <div class=\"product-series\">Gazelle Indoor</div> <div class=\"product-mark\">H06261</div></div> <div class=\"product-properties product-icons\"><div><p>Found at<br/> <span class=\"card-product-footer shop-count\">\n",
       "                           21 Shops\n",
       "                       </span></p></div> <div><p>Price from<br/> <span class=\"card-product-footer price-info\">102,00 €</span></p></div></div> <div class=\"product-details\"><div class=\"related-products-container\"></div> <span class=\"available-sizes-text mt-1 mb-2\">\n",
       "                         Available in several sizes\n",
       "                     </span></div></div></a></section>,\n",
       " <section class=\"card-container sneaker-thumbnail col-6 col-md-3 col-xl-3 mp6\" data-v-7fa38404=\"\"><a class=\"card\" href=\"javascript:\" no-prefetch=\"\"><div class=\"card-buttons\"><p class=\"discount\"><span class=\"discount-number\">10</span>%\n",
       "                 </p> <div class=\"action-button notification\"><span><div class=\"custom_tooltip\"><img alt=\"icon\" class=\"notification-svg svg\" data-src=\"/_nuxt/img/595ed71.svg\" height=\"19\" lazy-default=\"/_nuxt/img/ad97b1a.svg\" src=\"/_nuxt/img/ad97b1a.svg\" width=\"19\"/> <div class=\"custom-tooltip-body left\">\n",
       " \t\t\t\tNotify about price\n",
       " \t\t\t</div></div></span></div> <div class=\"action-button favorite\"><div class=\"custom_tooltip\"><img alt=\"icon\" class=\"favorite-svg svg\" data-src=\"/_nuxt/img/57cc0f8.svg\" height=\"16\" lazy-default=\"/_nuxt/img/ad97b1a.svg\" src=\"/_nuxt/img/ad97b1a.svg\" width=\"20\"/> <div class=\"custom-tooltip-body left\">\n",
       " \t\t\tAdd to List\n",
       " \t\t</div></div></div></div> <div class=\"product-photo\"><div class=\"client-only-placeholder\"><img alt=\"sneaker thumbnail\" class=\"product-photo-img\" height=\"300\" src=\"/_nuxt/img/75030d0.jpg\" width=\"300\"/></div></div> <div class=\"transition-info-container\"><div class=\"product-names\"><div class=\"product-title\">Nike</div> <div class=\"product-series\">Dunk Team Croc 36</div> <div class=\"product-mark\">FJ2260-004</div></div> <div class=\"product-properties product-icons\"><div><p>Found at<br/> <span class=\"card-product-footer shop-count\">\n",
       "                           20 Shops\n",
       "                       </span></p></div> <div><p>Price from<br/> <span class=\"card-product-footer price-info\">126,49 €</span></p></div></div> <div class=\"product-details\"><div class=\"related-products-container\"></div> <span class=\"available-sizes-text mt-1 mb-2\">\n",
       "                         Available in several sizes\n",
       "                     </span></div></div></a></section>,\n",
       " <section class=\"card-container sneaker-thumbnail col-6 col-md-3 col-xl-3 mp6\" data-v-7fa38404=\"\"><a class=\"card\" href=\"javascript:\" no-prefetch=\"\"><div class=\"card-buttons\"><p class=\"discount\"><span class=\"discount-number\">10</span>%\n",
       "                 </p> <div class=\"action-button notification\"><span><div class=\"custom_tooltip\"><img alt=\"icon\" class=\"notification-svg svg\" data-src=\"/_nuxt/img/595ed71.svg\" height=\"19\" lazy-default=\"/_nuxt/img/ad97b1a.svg\" src=\"/_nuxt/img/ad97b1a.svg\" width=\"19\"/> <div class=\"custom-tooltip-body left\">\n",
       " \t\t\t\tNotify about price\n",
       " \t\t\t</div></div></span></div> <div class=\"action-button favorite\"><div class=\"custom_tooltip\"><img alt=\"icon\" class=\"favorite-svg svg\" data-src=\"/_nuxt/img/57cc0f8.svg\" height=\"16\" lazy-default=\"/_nuxt/img/ad97b1a.svg\" src=\"/_nuxt/img/ad97b1a.svg\" width=\"20\"/> <div class=\"custom-tooltip-body left\">\n",
       " \t\t\tAdd to List\n",
       " \t\t</div></div></div></div> <div class=\"product-photo\"><div class=\"client-only-placeholder\"><img alt=\"sneaker thumbnail\" class=\"product-photo-img\" height=\"300\" src=\"/_nuxt/img/75030d0.jpg\" width=\"300\"/></div></div> <div class=\"transition-info-container\"><div class=\"product-names\"><div class=\"product-title\">Nike</div> <div class=\"product-series\">Air Max 1 87 Velvet S</div> <div class=\"product-mark\">FZ3621-220</div></div> <div class=\"product-properties product-icons\"><div><p>Found at<br/> <span class=\"card-product-footer shop-count\">\n",
       "                           20 Shops\n",
       "                       </span></p></div> <div><p>Price from<br/> <span class=\"card-product-footer price-info\">144,49 €</span></p></div></div> <div class=\"product-details\"><div class=\"related-products-container\"></div> <span class=\"available-sizes-text mt-1 mb-2\">\n",
       "                         Available in several sizes\n",
       "                     </span></div></div></a></section>,\n",
       " <section class=\"card-container sneaker-thumbnail col-6 col-md-3 col-xl-3 mp6\" data-v-7fa38404=\"\"><a class=\"card\" href=\"javascript:\" no-prefetch=\"\"><div class=\"card-buttons\"><p class=\"discount\"><span class=\"discount-number\">28</span>%\n",
       "                 </p> <div class=\"action-button notification\"><span><div class=\"custom_tooltip\"><img alt=\"icon\" class=\"notification-svg svg\" data-src=\"/_nuxt/img/595ed71.svg\" height=\"19\" lazy-default=\"/_nuxt/img/ad97b1a.svg\" src=\"/_nuxt/img/ad97b1a.svg\" width=\"19\"/> <div class=\"custom-tooltip-body left\">\n",
       " \t\t\t\tNotify about price\n",
       " \t\t\t</div></div></span></div> <div class=\"action-button favorite\"><div class=\"custom_tooltip\"><img alt=\"icon\" class=\"favorite-svg svg\" data-src=\"/_nuxt/img/57cc0f8.svg\" height=\"16\" lazy-default=\"/_nuxt/img/ad97b1a.svg\" src=\"/_nuxt/img/ad97b1a.svg\" width=\"20\"/> <div class=\"custom-tooltip-body left\">\n",
       " \t\t\tAdd to List\n",
       " \t\t</div></div></div></div> <div class=\"product-photo\"><div class=\"client-only-placeholder\"><img alt=\"sneaker thumbnail\" class=\"product-photo-img\" height=\"300\" src=\"/_nuxt/img/75030d0.jpg\" width=\"300\"/></div></div> <div class=\"transition-info-container\"><div class=\"product-names\"><div class=\"product-title\">Nike</div> <div class=\"product-series\">Air Max 1 Obsidian Bloom S Size 10</div> <div class=\"product-mark\">FD9082-001</div></div> <div class=\"product-properties product-icons\"><div><p>Found at<br/> <span class=\"card-product-footer shop-count\">\n",
       "                           20 Shops\n",
       "                       </span></p></div> <div><p>Price from<br/> <span class=\"card-product-footer price-info\">90,00 €</span></p></div></div> <div class=\"product-details\"><div class=\"related-products-container\"></div> <span class=\"available-sizes-text mt-1 mb-2\">\n",
       "                         Available in several sizes\n",
       "                     </span></div></div></a></section>,\n",
       " <section class=\"card-container sneaker-thumbnail col-6 col-md-3 col-xl-3 mp6\" data-v-7fa38404=\"\"><a class=\"card\" href=\"javascript:\" no-prefetch=\"\"><div class=\"card-buttons\"><p class=\"discount\"><span class=\"discount-number\">10</span>%\n",
       "                 </p> <div class=\"action-button notification\"><span><div class=\"custom_tooltip\"><img alt=\"icon\" class=\"notification-svg svg\" data-src=\"/_nuxt/img/595ed71.svg\" height=\"19\" lazy-default=\"/_nuxt/img/ad97b1a.svg\" src=\"/_nuxt/img/ad97b1a.svg\" width=\"19\"/> <div class=\"custom-tooltip-body left\">\n",
       " \t\t\t\tNotify about price\n",
       " \t\t\t</div></div></span></div> <div class=\"action-button favorite\"><div class=\"custom_tooltip\"><img alt=\"icon\" class=\"favorite-svg svg\" data-src=\"/_nuxt/img/57cc0f8.svg\" height=\"16\" lazy-default=\"/_nuxt/img/ad97b1a.svg\" src=\"/_nuxt/img/ad97b1a.svg\" width=\"20\"/> <div class=\"custom-tooltip-body left\">\n",
       " \t\t\tAdd to List\n",
       " \t\t</div></div></div></div> <div class=\"product-photo\"><div class=\"client-only-placeholder\"><img alt=\"sneaker thumbnail\" class=\"product-photo-img\" height=\"300\" src=\"/_nuxt/img/75030d0.jpg\" width=\"300\"/></div></div> <div class=\"transition-info-container\"><div class=\"product-names\"><div class=\"product-title\">Nike</div> <div class=\"product-series\">Dunk LX Ale Ostrich S Size 10</div> <div class=\"product-mark\">FJ2260-001</div></div> <div class=\"product-properties product-icons\"><div><p>Found at<br/> <span class=\"card-product-footer shop-count\">\n",
       "                           20 Shops\n",
       "                       </span></p></div> <div><p>Price from<br/> <span class=\"card-product-footer price-info\">126,49 €</span></p></div></div> <div class=\"product-details\"><div class=\"related-products-container\"></div> <span class=\"available-sizes-text mt-1 mb-2\">\n",
       "                         Available in several sizes\n",
       "                     </span></div></div></a></section>,\n",
       " <section class=\"card-container sneaker-thumbnail col-6 col-md-3 col-xl-3 mp6\" data-v-7fa38404=\"\"><a class=\"card\" href=\"javascript:\" no-prefetch=\"\"><div class=\"card-buttons\"><p class=\"discount\"><span class=\"discount-number\">61</span>%\n",
       "                 </p> <div class=\"action-button notification\"><span><div class=\"custom_tooltip\"><img alt=\"icon\" class=\"notification-svg svg\" data-src=\"/_nuxt/img/595ed71.svg\" height=\"19\" lazy-default=\"/_nuxt/img/ad97b1a.svg\" src=\"/_nuxt/img/ad97b1a.svg\" width=\"19\"/> <div class=\"custom-tooltip-body left\">\n",
       " \t\t\t\tNotify about price\n",
       " \t\t\t</div></div></span></div> <div class=\"action-button favorite\"><div class=\"custom_tooltip\"><img alt=\"icon\" class=\"favorite-svg svg\" data-src=\"/_nuxt/img/57cc0f8.svg\" height=\"16\" lazy-default=\"/_nuxt/img/ad97b1a.svg\" src=\"/_nuxt/img/ad97b1a.svg\" width=\"20\"/> <div class=\"custom-tooltip-body left\">\n",
       " \t\t\tAdd to List\n",
       " \t\t</div></div></div></div> <div class=\"product-photo\"><div class=\"client-only-placeholder\"><img alt=\"sneaker thumbnail\" class=\"product-photo-img\" height=\"300\" src=\"/_nuxt/img/75030d0.jpg\" width=\"300\"/></div></div> <div class=\"transition-info-container\"><div class=\"product-names\"><div class=\"product-title\">Nike</div> <div class=\"product-series\">ACG Torre Mid S Size 4</div> <div class=\"product-mark\">FD0212-201</div></div> <div class=\"product-properties product-icons\"><div><p>Found at<br/> <span class=\"card-product-footer shop-count\">\n",
       "                           20 Shops\n",
       "                       </span></p></div> <div><p>Price from<br/> <span class=\"card-product-footer price-info\">59,90 €</span></p></div></div> <div class=\"product-details\"><div class=\"related-products-container\"></div> <span class=\"available-sizes-text mt-1 mb-2\">\n",
       "                         Available in several sizes\n",
       "                     </span></div></div></a></section>,\n",
       " <section class=\"card-container sneaker-thumbnail col-6 col-md-3 col-xl-3 mp6\" data-v-7fa38404=\"\"><a class=\"card\" href=\"javascript:\" no-prefetch=\"\"><div class=\"card-buttons\"><p class=\"discount\"><span class=\"discount-number\">20</span>%\n",
       "                 </p> <div class=\"action-button notification\"><span><div class=\"custom_tooltip\"><img alt=\"icon\" class=\"notification-svg svg\" data-src=\"/_nuxt/img/595ed71.svg\" height=\"19\" lazy-default=\"/_nuxt/img/ad97b1a.svg\" src=\"/_nuxt/img/ad97b1a.svg\" width=\"19\"/> <div class=\"custom-tooltip-body left\">\n",
       " \t\t\t\tNotify about price\n",
       " \t\t\t</div></div></span></div> <div class=\"action-button favorite\"><div class=\"custom_tooltip\"><img alt=\"icon\" class=\"favorite-svg svg\" data-src=\"/_nuxt/img/57cc0f8.svg\" height=\"16\" lazy-default=\"/_nuxt/img/ad97b1a.svg\" src=\"/_nuxt/img/ad97b1a.svg\" width=\"20\"/> <div class=\"custom-tooltip-body left\">\n",
       " \t\t\tAdd to List\n",
       " \t\t</div></div></div></div> <div class=\"product-photo\"><div class=\"client-only-placeholder\"><img alt=\"sneaker thumbnail\" class=\"product-photo-img\" height=\"300\" src=\"/_nuxt/img/75030d0.jpg\" width=\"300\"/></div></div> <div class=\"transition-info-container\"><div class=\"product-names\"><div class=\"product-title\">Nike</div> <div class=\"product-series\">Zoom Vomero 5</div> <div class=\"product-mark\">FZ3653-104</div></div> <div class=\"product-properties product-icons\"><div><p>Found at<br/> <span class=\"card-product-footer shop-count\">\n",
       "                           20 Shops\n",
       "                       </span></p></div> <div><p>Price from<br/> <span class=\"card-product-footer price-info\">136,00 €</span></p></div></div> <div class=\"product-details\"><div class=\"related-products-container\"></div> <span class=\"available-sizes-text mt-1 mb-2\">\n",
       "                         Available in several sizes\n",
       "                     </span></div></div></a></section>,\n",
       " <section class=\"card-container sneaker-thumbnail col-6 col-md-3 col-xl-3 mp6\" data-v-7fa38404=\"\"><a class=\"card\" href=\"javascript:\" no-prefetch=\"\"><div class=\"card-buttons\"><p class=\"discount\"><span class=\"discount-number\">27</span>%\n",
       "                 </p> <div class=\"action-button notification\"><span><div class=\"custom_tooltip\"><img alt=\"icon\" class=\"notification-svg svg\" data-src=\"/_nuxt/img/595ed71.svg\" height=\"19\" lazy-default=\"/_nuxt/img/ad97b1a.svg\" src=\"/_nuxt/img/ad97b1a.svg\" width=\"19\"/> <div class=\"custom-tooltip-body left\">\n",
       " \t\t\t\tNotify about price\n",
       " \t\t\t</div></div></span></div> <div class=\"action-button favorite\"><div class=\"custom_tooltip\"><img alt=\"icon\" class=\"favorite-svg svg\" data-src=\"/_nuxt/img/57cc0f8.svg\" height=\"16\" lazy-default=\"/_nuxt/img/ad97b1a.svg\" src=\"/_nuxt/img/ad97b1a.svg\" width=\"20\"/> <div class=\"custom-tooltip-body left\">\n",
       " \t\t\tAdd to List\n",
       " \t\t</div></div></div></div> <div class=\"product-photo\"><div class=\"client-only-placeholder\"><img alt=\"sneaker thumbnail\" class=\"product-photo-img\" height=\"300\" src=\"/_nuxt/img/75030d0.jpg\" width=\"300\"/></div></div> <div class=\"transition-info-container\"><div class=\"product-names\"><div class=\"product-title\">Jordan</div> <div class=\"product-series\">Air S 1 Mid Distressed Smoke Ref Farbe Größe 36</div> <div class=\"product-mark\">FJ3448-001</div></div> <div class=\"product-properties product-icons\"><div><p>Found at<br/> <span class=\"card-product-footer shop-count\">\n",
       "                           20 Shops\n",
       "                       </span></p></div> <div><p>Price from<br/> <span class=\"card-product-footer price-info\">97,00 €</span></p></div></div> <div class=\"product-details\"><div class=\"related-products-container\"></div> <span class=\"available-sizes-text mt-1 mb-2\">\n",
       "                         Available in several sizes\n",
       "                     </span></div></div></a></section>,\n",
       " <section class=\"card-container sneaker-thumbnail col-6 col-md-3 col-xl-3 mp6\" data-v-7fa38404=\"\"><a class=\"card\" href=\"javascript:\" no-prefetch=\"\"><div class=\"card-buttons\"><p class=\"discount\"><span class=\"discount-number\">30</span>%\n",
       "                 </p> <div class=\"action-button notification\"><span><div class=\"custom_tooltip\"><img alt=\"icon\" class=\"notification-svg svg\" data-src=\"/_nuxt/img/595ed71.svg\" height=\"19\" lazy-default=\"/_nuxt/img/ad97b1a.svg\" src=\"/_nuxt/img/ad97b1a.svg\" width=\"19\"/> <div class=\"custom-tooltip-body left\">\n",
       " \t\t\t\tNotify about price\n",
       " \t\t\t</div></div></span></div> <div class=\"action-button favorite\"><div class=\"custom_tooltip\"><img alt=\"icon\" class=\"favorite-svg svg\" data-src=\"/_nuxt/img/57cc0f8.svg\" height=\"16\" lazy-default=\"/_nuxt/img/ad97b1a.svg\" src=\"/_nuxt/img/ad97b1a.svg\" width=\"20\"/> <div class=\"custom-tooltip-body left\">\n",
       " \t\t\tAdd to List\n",
       " \t\t</div></div></div></div> <div class=\"product-photo\"><div class=\"client-only-placeholder\"><img alt=\"sneaker thumbnail\" class=\"product-photo-img\" height=\"300\" src=\"/_nuxt/img/75030d0.jpg\" width=\"300\"/></div></div> <div class=\"transition-info-container\"><div class=\"product-names\"><div class=\"product-title\">Nike</div> <div class=\"product-series\">Air Alpha Force</div> <div class=\"product-mark\">FJ4184-600</div></div> <div class=\"product-properties product-icons\"><div><p>Found at<br/> <span class=\"card-product-footer shop-count\">\n",
       "                           20 Shops\n",
       "                       </span></p></div> <div><p>Price from<br/> <span class=\"card-product-footer price-info\">89,00 €</span></p></div></div> <div class=\"product-details\"><div class=\"related-products-container\"></div> <span class=\"available-sizes-text mt-1 mb-2\">\n",
       "                         Available in several sizes\n",
       "                     </span></div></div></a></section>,\n",
       " <section class=\"card-container sneaker-thumbnail col-6 col-md-3 col-xl-3 mp6\" data-v-7fa38404=\"\"><a class=\"card\" href=\"javascript:\" no-prefetch=\"\"><div class=\"card-buttons\"><p class=\"discount\"><span class=\"discount-number\">20</span>%\n",
       "                 </p> <div class=\"action-button notification\"><span><div class=\"custom_tooltip\"><img alt=\"icon\" class=\"notification-svg svg\" data-src=\"/_nuxt/img/595ed71.svg\" height=\"19\" lazy-default=\"/_nuxt/img/ad97b1a.svg\" src=\"/_nuxt/img/ad97b1a.svg\" width=\"19\"/> <div class=\"custom-tooltip-body left\">\n",
       " \t\t\t\tNotify about price\n",
       " \t\t\t</div></div></span></div> <div class=\"action-button favorite\"><div class=\"custom_tooltip\"><img alt=\"icon\" class=\"favorite-svg svg\" data-src=\"/_nuxt/img/57cc0f8.svg\" height=\"16\" lazy-default=\"/_nuxt/img/ad97b1a.svg\" src=\"/_nuxt/img/ad97b1a.svg\" width=\"20\"/> <div class=\"custom-tooltip-body left\">\n",
       " \t\t\tAdd to List\n",
       " \t\t</div></div></div></div> <div class=\"product-photo\"><div class=\"client-only-placeholder\"><img alt=\"sneaker thumbnail\" class=\"product-photo-img\" height=\"300\" src=\"/_nuxt/img/75030d0.jpg\" width=\"300\"/></div></div> <div class=\"transition-info-container\"><div class=\"product-names\"><div class=\"product-title\">Nike</div> <div class=\"product-series\">Dunk Co JP Reverse Curry 2024</div> <div class=\"product-mark\">FQ6965-700</div></div> <div class=\"product-properties product-icons\"><div><p>Found at<br/> <span class=\"card-product-footer shop-count\">\n",
       "                           20 Shops\n",
       "                       </span></p></div> <div><p>Price from<br/> <span class=\"card-product-footer price-info\">104,00 €</span></p></div></div> <div class=\"product-details\"><div class=\"related-products-container\"></div> <span class=\"available-sizes-text mt-1 mb-2\">\n",
       "                         Available in several sizes\n",
       "                     </span></div></div></a></section>,\n",
       " <section class=\"card-container sneaker-thumbnail col-6 col-md-3 col-xl-3 mp6\" data-v-7fa38404=\"\"><a class=\"card\" href=\"javascript:\" no-prefetch=\"\"><div class=\"card-buttons\"><p class=\"discount\"><span class=\"discount-number\">35</span>%\n",
       "                 </p> <div class=\"action-button notification\"><span><div class=\"custom_tooltip\"><img alt=\"icon\" class=\"notification-svg svg\" data-src=\"/_nuxt/img/595ed71.svg\" height=\"19\" lazy-default=\"/_nuxt/img/ad97b1a.svg\" src=\"/_nuxt/img/ad97b1a.svg\" width=\"19\"/> <div class=\"custom-tooltip-body left\">\n",
       " \t\t\t\tNotify about price\n",
       " \t\t\t</div></div></span></div> <div class=\"action-button favorite\"><div class=\"custom_tooltip\"><img alt=\"icon\" class=\"favorite-svg svg\" data-src=\"/_nuxt/img/57cc0f8.svg\" height=\"16\" lazy-default=\"/_nuxt/img/ad97b1a.svg\" src=\"/_nuxt/img/ad97b1a.svg\" width=\"20\"/> <div class=\"custom-tooltip-body left\">\n",
       " \t\t\tAdd to List\n",
       " \t\t</div></div></div></div> <div class=\"product-photo\"><div class=\"client-only-placeholder\"><img alt=\"sneaker thumbnail\" class=\"product-photo-img\" height=\"300\" src=\"/_nuxt/img/75030d0.jpg\" width=\"300\"/></div></div> <div class=\"transition-info-container\"><div class=\"product-names\"><div class=\"product-title\">Nike</div> <div class=\"product-series\">V2K Run Smoke S</div> <div class=\"product-mark\">FD0736-001</div></div> <div class=\"product-properties product-icons\"><div><p>Found at<br/> <span class=\"card-product-footer shop-count\">\n",
       "                           20 Shops\n",
       "                       </span></p></div> <div><p>Price from<br/> <span class=\"card-product-footer price-info\">78,00 €</span></p></div></div> <div class=\"product-details\"><div class=\"related-products-container\"></div> <span class=\"available-sizes-text mt-1 mb-2\">\n",
       "                         Available in several sizes\n",
       "                     </span></div></div></a></section>,\n",
       " <section class=\"card-container sneaker-thumbnail col-6 col-md-3 col-xl-3 mp6\" data-v-7fa38404=\"\"><a class=\"card\" href=\"javascript:\" no-prefetch=\"\"><div class=\"card-buttons\"><p class=\"discount\"><span class=\"discount-number\">50</span>%\n",
       "                 </p> <div class=\"action-button notification\"><span><div class=\"custom_tooltip\"><img alt=\"icon\" class=\"notification-svg svg\" data-src=\"/_nuxt/img/595ed71.svg\" height=\"19\" lazy-default=\"/_nuxt/img/ad97b1a.svg\" src=\"/_nuxt/img/ad97b1a.svg\" width=\"19\"/> <div class=\"custom-tooltip-body left\">\n",
       " \t\t\t\tNotify about price\n",
       " \t\t\t</div></div></span></div> <div class=\"action-button favorite\"><div class=\"custom_tooltip\"><img alt=\"icon\" class=\"favorite-svg svg\" data-src=\"/_nuxt/img/57cc0f8.svg\" height=\"16\" lazy-default=\"/_nuxt/img/ad97b1a.svg\" src=\"/_nuxt/img/ad97b1a.svg\" width=\"20\"/> <div class=\"custom-tooltip-body left\">\n",
       " \t\t\tAdd to List\n",
       " \t\t</div></div></div></div> <div class=\"product-photo\"><div class=\"client-only-placeholder\"><img alt=\"sneaker thumbnail\" class=\"product-photo-img\" height=\"300\" src=\"/_nuxt/img/75030d0.jpg\" width=\"300\"/></div></div> <div class=\"transition-info-container\"><div class=\"product-names\"><div class=\"product-title\">Nike</div> <div class=\"product-series\">Billie Eilish X Air Alpha Force 88 SP Fire</div> <div class=\"product-mark\">DZ6763-101</div></div> <div class=\"product-properties product-icons\"><div><p>Found at<br/> <span class=\"card-product-footer shop-count\">\n",
       "                           20 Shops\n",
       "                       </span></p></div> <div><p>Price from<br/> <span class=\"card-product-footer price-info\">65,00 €</span></p></div></div> <div class=\"product-details\"><div class=\"related-products-container\"></div> <span class=\"available-sizes-text mt-1 mb-2\">\n",
       "                         Available in several sizes\n",
       "                     </span></div></div></a></section>,\n",
       " <section class=\"card-container sneaker-thumbnail col-6 col-md-3 col-xl-3 mp6\" data-v-7fa38404=\"\"><a class=\"card\" href=\"javascript:\" no-prefetch=\"\"><div class=\"card-buttons\"><p class=\"discount\"><span class=\"discount-number\">50</span>%\n",
       "                 </p> <div class=\"action-button notification\"><span><div class=\"custom_tooltip\"><img alt=\"icon\" class=\"notification-svg svg\" data-src=\"/_nuxt/img/595ed71.svg\" height=\"19\" lazy-default=\"/_nuxt/img/ad97b1a.svg\" src=\"/_nuxt/img/ad97b1a.svg\" width=\"19\"/> <div class=\"custom-tooltip-body left\">\n",
       " \t\t\t\tNotify about price\n",
       " \t\t\t</div></div></span></div> <div class=\"action-button favorite\"><div class=\"custom_tooltip\"><img alt=\"icon\" class=\"favorite-svg svg\" data-src=\"/_nuxt/img/57cc0f8.svg\" height=\"16\" lazy-default=\"/_nuxt/img/ad97b1a.svg\" src=\"/_nuxt/img/ad97b1a.svg\" width=\"20\"/> <div class=\"custom-tooltip-body left\">\n",
       " \t\t\tAdd to List\n",
       " \t\t</div></div></div></div> <div class=\"product-photo\"><div class=\"client-only-placeholder\"><img alt=\"sneaker thumbnail\" class=\"product-photo-img\" height=\"300\" src=\"/_nuxt/img/75030d0.jpg\" width=\"300\"/></div></div> <div class=\"transition-info-container\"><div class=\"product-names\"><div class=\"product-title\">Nike</div> <div class=\"product-series\">Air Alpha Force 88</div> <div class=\"product-mark\">DZ4627-100</div></div> <div class=\"product-properties product-icons\"><div><p>Found at<br/> <span class=\"card-product-footer shop-count\">\n",
       "                           20 Shops\n",
       "                       </span></p></div> <div><p>Price from<br/> <span class=\"card-product-footer price-info\">59,99 €</span></p></div></div> <div class=\"product-details\"><div class=\"related-products-container\"></div> <span class=\"available-sizes-text mt-1 mb-2\">\n",
       "                         Available in several sizes\n",
       "                     </span></div></div></a></section>,\n",
       " <section class=\"card-container sneaker-thumbnail col-6 col-md-3 col-xl-3 mp6\" data-v-7fa38404=\"\"><a class=\"card\" href=\"javascript:\" no-prefetch=\"\"><div class=\"card-buttons\"><p class=\"discount\"><span class=\"discount-number\">45</span>%\n",
       "                 </p> <div class=\"action-button notification\"><span><div class=\"custom_tooltip\"><img alt=\"icon\" class=\"notification-svg svg\" data-src=\"/_nuxt/img/595ed71.svg\" height=\"19\" lazy-default=\"/_nuxt/img/ad97b1a.svg\" src=\"/_nuxt/img/ad97b1a.svg\" width=\"19\"/> <div class=\"custom-tooltip-body left\">\n",
       " \t\t\t\tNotify about price\n",
       " \t\t\t</div></div></span></div> <div class=\"action-button favorite\"><div class=\"custom_tooltip\"><img alt=\"icon\" class=\"favorite-svg svg\" data-src=\"/_nuxt/img/57cc0f8.svg\" height=\"16\" lazy-default=\"/_nuxt/img/ad97b1a.svg\" src=\"/_nuxt/img/ad97b1a.svg\" width=\"20\"/> <div class=\"custom-tooltip-body left\">\n",
       " \t\t\tAdd to List\n",
       " \t\t</div></div></div></div> <div class=\"product-photo\"><div class=\"client-only-placeholder\"><img alt=\"sneaker thumbnail\" class=\"product-photo-img\" height=\"300\" src=\"/_nuxt/img/75030d0.jpg\" width=\"300\"/></div></div> <div class=\"transition-info-container\"><div class=\"product-names\"><div class=\"product-title\">Nike</div> <div class=\"product-series\">Cortez Sail S</div> <div class=\"product-mark\">DN1791-102</div></div> <div class=\"product-properties product-icons\"><div><p>Found at<br/> <span class=\"card-product-footer shop-count\">\n",
       "                           20 Shops\n",
       "                       </span></p></div> <div><p>Price from<br/> <span class=\"card-product-footer price-info\">55,00 €</span></p></div></div> <div class=\"product-details\"><div class=\"related-products-container\"></div> <span class=\"available-sizes-text mt-1 mb-2\">\n",
       "                         Available in several sizes\n",
       "                     </span></div></div></a></section>,\n",
       " <section class=\"card-container sneaker-thumbnail col-6 col-md-3 col-xl-3 mp6\" data-v-7fa38404=\"\"><a class=\"card\" href=\"javascript:\" no-prefetch=\"\"><div class=\"card-buttons\"><p class=\"discount\"><span class=\"discount-number\">34</span>%\n",
       "                 </p> <div class=\"action-button notification\"><span><div class=\"custom_tooltip\"><img alt=\"icon\" class=\"notification-svg svg\" data-src=\"/_nuxt/img/595ed71.svg\" height=\"19\" lazy-default=\"/_nuxt/img/ad97b1a.svg\" src=\"/_nuxt/img/ad97b1a.svg\" width=\"19\"/> <div class=\"custom-tooltip-body left\">\n",
       " \t\t\t\tNotify about price\n",
       " \t\t\t</div></div></span></div> <div class=\"action-button favorite\"><div class=\"custom_tooltip\"><img alt=\"icon\" class=\"favorite-svg svg\" data-src=\"/_nuxt/img/57cc0f8.svg\" height=\"16\" lazy-default=\"/_nuxt/img/ad97b1a.svg\" src=\"/_nuxt/img/ad97b1a.svg\" width=\"20\"/> <div class=\"custom-tooltip-body left\">\n",
       " \t\t\tAdd to List\n",
       " \t\t</div></div></div></div> <div class=\"product-photo\"><div class=\"client-only-placeholder\"><img alt=\"sneaker thumbnail\" class=\"product-photo-img\" height=\"300\" src=\"/_nuxt/img/75030d0.jpg\" width=\"300\"/></div></div> <div class=\"transition-info-container\"><div class=\"product-names\"><div class=\"product-title\">Jordan</div> <div class=\"product-series\">1 Elevate S</div> <div class=\"product-mark\">DH7004-109</div></div> <div class=\"product-properties product-icons\"><div><p>Found at<br/> <span class=\"card-product-footer shop-count\">\n",
       "                           20 Shops\n",
       "                       </span></p></div> <div><p>Price from<br/> <span class=\"card-product-footer price-info\">99,99 €</span></p></div></div> <div class=\"product-details\"><div class=\"related-products-container\"></div> <span class=\"available-sizes-text mt-1 mb-2\">\n",
       "                         Available in several sizes\n",
       "                     </span></div></div></a></section>,\n",
       " <section class=\"card-container sneaker-thumbnail col-6 col-md-3 col-xl-3 mp6\" data-v-7fa38404=\"\"><a class=\"card\" href=\"javascript:\" no-prefetch=\"\"><div class=\"card-buttons\"><p class=\"discount\"><span class=\"discount-number\">12</span>%\n",
       "                 </p> <div class=\"action-button notification\"><span><div class=\"custom_tooltip\"><img alt=\"icon\" class=\"notification-svg svg\" data-src=\"/_nuxt/img/595ed71.svg\" height=\"19\" lazy-default=\"/_nuxt/img/ad97b1a.svg\" src=\"/_nuxt/img/ad97b1a.svg\" width=\"19\"/> <div class=\"custom-tooltip-body left\">\n",
       " \t\t\t\tNotify about price\n",
       " \t\t\t</div></div></span></div> <div class=\"action-button favorite\"><div class=\"custom_tooltip\"><img alt=\"icon\" class=\"favorite-svg svg\" data-src=\"/_nuxt/img/57cc0f8.svg\" height=\"16\" lazy-default=\"/_nuxt/img/ad97b1a.svg\" src=\"/_nuxt/img/ad97b1a.svg\" width=\"20\"/> <div class=\"custom-tooltip-body left\">\n",
       " \t\t\tAdd to List\n",
       " \t\t</div></div></div></div> <div class=\"product-photo\"><div class=\"client-only-placeholder\"><img alt=\"sneaker thumbnail\" class=\"product-photo-img\" height=\"300\" src=\"/_nuxt/img/75030d0.jpg\" width=\"300\"/></div></div> <div class=\"transition-info-container\"><div class=\"product-names\"><div class=\"product-title\">Adidas</div> <div class=\"product-series\">Campus 00S</div> <div class=\"product-mark\">H03473</div></div> <div class=\"product-properties product-icons\"><div><p>Found at<br/> <span class=\"card-product-footer shop-count\">\n",
       "                           20 Shops\n",
       "                       </span></p></div> <div><p>Price from<br/> <span class=\"card-product-footer price-info\">97,00 €</span></p></div></div> <div class=\"product-details\"><div class=\"related-products-container\"></div> <span class=\"available-sizes-text mt-1 mb-2\">\n",
       "                         Available in several sizes\n",
       "                     </span></div></div></a></section>,\n",
       " <section class=\"card-container sneaker-thumbnail col-6 col-md-3 col-xl-3 mp6\" data-v-7fa38404=\"\"><a class=\"card\" href=\"javascript:\" no-prefetch=\"\"><div class=\"card-buttons\"><p class=\"discount\"><span class=\"discount-number\">34</span>%\n",
       "                 </p> <div class=\"action-button notification\"><span><div class=\"custom_tooltip\"><img alt=\"icon\" class=\"notification-svg svg\" data-src=\"/_nuxt/img/595ed71.svg\" height=\"19\" lazy-default=\"/_nuxt/img/ad97b1a.svg\" src=\"/_nuxt/img/ad97b1a.svg\" width=\"19\"/> <div class=\"custom-tooltip-body left\">\n",
       " \t\t\t\tNotify about price\n",
       " \t\t\t</div></div></span></div> <div class=\"action-button favorite\"><div class=\"custom_tooltip\"><img alt=\"icon\" class=\"favorite-svg svg\" data-src=\"/_nuxt/img/57cc0f8.svg\" height=\"16\" lazy-default=\"/_nuxt/img/ad97b1a.svg\" src=\"/_nuxt/img/ad97b1a.svg\" width=\"20\"/> <div class=\"custom-tooltip-body left\">\n",
       " \t\t\tAdd to List\n",
       " \t\t</div></div></div></div> <div class=\"product-photo\"><div class=\"client-only-placeholder\"><img alt=\"sneaker thumbnail\" class=\"product-photo-img\" height=\"300\" src=\"/_nuxt/img/75030d0.jpg\" width=\"300\"/></div></div> <div class=\"transition-info-container\"><div class=\"product-names\"><div class=\"product-title\">Adidas</div> <div class=\"product-series\">Campus 00S</div> <div class=\"product-mark\">HQ8707</div></div> <div class=\"product-properties product-icons\"><div><p>Found at<br/> <span class=\"card-product-footer shop-count\">\n",
       "                           20 Shops\n",
       "                       </span></p></div> <div><p>Price from<br/> <span class=\"card-product-footer price-info\">159,95 €</span></p></div></div> <div class=\"product-details\"><div class=\"related-products-container\"></div> <span class=\"available-sizes-text mt-1 mb-2\">\n",
       "                         Available in several sizes\n",
       "                     </span></div></div></a></section>,\n",
       " <section class=\"card-container sneaker-thumbnail col-6 col-md-3 col-xl-3 mp6\" data-v-7fa38404=\"\"><a class=\"card\" href=\"javascript:\" no-prefetch=\"\"><div class=\"card-buttons\"><!-- --> <div class=\"action-button notification\"><span><div class=\"custom_tooltip\"><img alt=\"icon\" class=\"notification-svg svg\" data-src=\"/_nuxt/img/595ed71.svg\" height=\"19\" lazy-default=\"/_nuxt/img/ad97b1a.svg\" src=\"/_nuxt/img/ad97b1a.svg\" width=\"19\"/> <div class=\"custom-tooltip-body left\">\n",
       " \t\t\t\tNotify about price\n",
       " \t\t\t</div></div></span></div> <div class=\"action-button favorite\"><div class=\"custom_tooltip\"><img alt=\"icon\" class=\"favorite-svg svg\" data-src=\"/_nuxt/img/57cc0f8.svg\" height=\"16\" lazy-default=\"/_nuxt/img/ad97b1a.svg\" src=\"/_nuxt/img/ad97b1a.svg\" width=\"20\"/> <div class=\"custom-tooltip-body left\">\n",
       " \t\t\tAdd to List\n",
       " \t\t</div></div></div></div> <div class=\"product-photo\"><div class=\"client-only-placeholder\"><img alt=\"sneaker thumbnail\" class=\"product-photo-img\" height=\"300\" src=\"/_nuxt/img/75030d0.jpg\" width=\"300\"/></div></div> <div class=\"transition-info-container\"><div class=\"product-names\"><div class=\"product-title\">Nike</div> <div class=\"product-series\">Air Force 1 07 Fresh</div> <div class=\"product-mark\">DM0211-001</div></div> <div class=\"product-properties product-icons\"><div><p>Found at<br/> <span class=\"card-product-footer shop-count\">\n",
       "                           20 Shops\n",
       "                       </span></p></div> <div><p>Price from<br/> <span class=\"card-product-footer price-info\">84,00 €</span></p></div></div> <div class=\"product-details\"><div class=\"related-products-container\"></div> <span class=\"available-sizes-text mt-1 mb-2\">\n",
       "                         Available in several sizes\n",
       "                     </span></div></div></a></section>,\n",
       " <section class=\"card-container sneaker-thumbnail col-6 col-md-3 col-xl-3 mp6\" data-v-7fa38404=\"\"><a class=\"card\" href=\"javascript:\" no-prefetch=\"\"><div class=\"card-buttons\"><p class=\"discount\"><span class=\"discount-number\">27</span>%\n",
       "                 </p> <div class=\"action-button notification\"><span><div class=\"custom_tooltip\"><img alt=\"icon\" class=\"notification-svg svg\" data-src=\"/_nuxt/img/595ed71.svg\" height=\"19\" lazy-default=\"/_nuxt/img/ad97b1a.svg\" src=\"/_nuxt/img/ad97b1a.svg\" width=\"19\"/> <div class=\"custom-tooltip-body left\">\n",
       " \t\t\t\tNotify about price\n",
       " \t\t\t</div></div></span></div> <div class=\"action-button favorite\"><div class=\"custom_tooltip\"><img alt=\"icon\" class=\"favorite-svg svg\" data-src=\"/_nuxt/img/57cc0f8.svg\" height=\"16\" lazy-default=\"/_nuxt/img/ad97b1a.svg\" src=\"/_nuxt/img/ad97b1a.svg\" width=\"20\"/> <div class=\"custom-tooltip-body left\">\n",
       " \t\t\tAdd to List\n",
       " \t\t</div></div></div></div> <div class=\"product-photo\"><div class=\"client-only-placeholder\"><img alt=\"sneaker thumbnail\" class=\"product-photo-img\" height=\"300\" src=\"/_nuxt/img/75030d0.jpg\" width=\"300\"/></div></div> <div class=\"transition-info-container\"><div class=\"product-names\"><div class=\"product-title\">Jordan</div> <div class=\"product-series\">1</div> <div class=\"product-mark\">553558-136</div></div> <div class=\"product-properties product-icons\"><div><p>Found at<br/> <span class=\"card-product-footer shop-count\">\n",
       "                           20 Shops\n",
       "                       </span></p></div> <div><p>Price from<br/> <span class=\"card-product-footer price-info\">96,00 €</span></p></div></div> <div class=\"product-details\"><div class=\"related-products-container\"></div> <span class=\"available-sizes-text mt-1 mb-2\">\n",
       "                         Available in several sizes\n",
       "                     </span></div></div></a></section>,\n",
       " <section class=\"card-container sneaker-thumbnail col-6 col-md-3 col-xl-3 mp6\" data-v-7fa38404=\"\"><a class=\"card\" href=\"javascript:\" no-prefetch=\"\"><div class=\"card-buttons\"><p class=\"discount\"><span class=\"discount-number\">35</span>%\n",
       "                 </p> <div class=\"action-button notification\"><span><div class=\"custom_tooltip\"><img alt=\"icon\" class=\"notification-svg svg\" data-src=\"/_nuxt/img/595ed71.svg\" height=\"19\" lazy-default=\"/_nuxt/img/ad97b1a.svg\" src=\"/_nuxt/img/ad97b1a.svg\" width=\"19\"/> <div class=\"custom-tooltip-body left\">\n",
       " \t\t\t\tNotify about price\n",
       " \t\t\t</div></div></span></div> <div class=\"action-button favorite\"><div class=\"custom_tooltip\"><img alt=\"icon\" class=\"favorite-svg svg\" data-src=\"/_nuxt/img/57cc0f8.svg\" height=\"16\" lazy-default=\"/_nuxt/img/ad97b1a.svg\" src=\"/_nuxt/img/ad97b1a.svg\" width=\"20\"/> <div class=\"custom-tooltip-body left\">\n",
       " \t\t\tAdd to List\n",
       " \t\t</div></div></div></div> <div class=\"product-photo\"><div class=\"client-only-placeholder\"><img alt=\"sneaker thumbnail\" class=\"product-photo-img\" height=\"300\" src=\"/_nuxt/img/75030d0.jpg\" width=\"300\"/></div></div> <div class=\"transition-info-container\"><div class=\"product-names\"><div class=\"product-title\">Jordan</div> <div class=\"product-series\">1 Mid</div> <div class=\"product-mark\">554724-136</div></div> <div class=\"product-properties product-icons\"><div><p>Found at<br/> <span class=\"card-product-footer shop-count\">\n",
       "                           20 Shops\n",
       "                       </span></p></div> <div><p>Price from<br/> <span class=\"card-product-footer price-info\">91,00 €</span></p></div></div> <div class=\"product-details\"><div class=\"related-products-container\"></div> <span class=\"available-sizes-text mt-1 mb-2\">\n",
       "                         Available in several sizes\n",
       "                     </span></div></div></a></section>]"
      ]
     },
     "execution_count": 2,
     "metadata": {},
     "output_type": "execute_result"
    }
   ],
   "source": [
    "header = {'user-agent': 'Mozilla/5.0 (Windows NT 10.0; Win64; x64) AppleWebKit/537.36 (KHTML, like Gecko) Chrome/124.0.0.0 Safari/537.36 Edg/124.0.0.0'}\n",
    "halaman = 2\n",
    "url = f'https://sneakers123.com/en/sneaker/page/{halaman}'\n",
    "req = requests.get(url, headers=header, timeout=10)\n",
    "soup = BeautifulSoup(req.content, 'html.parser')\n",
    "semua_elemen = soup.find_all('section', class_='card-container')\n",
    "semua_elemen"
   ]
  },
  {
   "cell_type": "code",
   "execution_count": 3,
   "id": "14d2fac3",
   "metadata": {},
   "outputs": [
    {
     "name": "stdout",
     "output_type": "stream",
     "text": [
      "Jordan\n",
      "Nike\n",
      "Nike\n",
      "Nike\n",
      "Nike\n",
      "Nike\n",
      "Nike\n",
      "Jordan\n",
      "adidas\n",
      "Adidas\n",
      "New Balance\n",
      "Adidas\n",
      "Adidas\n",
      "Nike\n",
      "Nike\n",
      "Nike\n",
      "Nike\n",
      "Nike\n",
      "Nike\n",
      "Jordan\n",
      "Nike\n",
      "Nike\n",
      "Nike\n",
      "Nike\n",
      "Nike\n",
      "Nike\n",
      "Jordan\n",
      "Adidas\n",
      "Adidas\n",
      "Nike\n",
      "Jordan\n",
      "Jordan\n"
     ]
    }
   ],
   "source": [
    "for elemen in semua_elemen:\n",
    "    merek = elemen.find('div', class_='product-names').find('div', class_='product-title').text.strip()\n",
    "    print(merek)"
   ]
  },
  {
   "cell_type": "code",
   "execution_count": 4,
   "id": "7b595ae6",
   "metadata": {},
   "outputs": [
    {
     "name": "stdout",
     "output_type": "stream",
     "text": [
      "1\n",
      "Air Max 1 87 Leopard\n",
      "100\n",
      "Air Max 1\n",
      "Air Max 1 SC Light Dust\n",
      "Mac Attack QS SP\n",
      "V2K Run Summit S\n",
      "2 Retro Look Up In The Air S\n",
      "Samba OG\n",
      "Campus 00S\n",
      "U 9060 GRY\n",
      "Gazelle Indoor\n",
      "Gazelle Indoor\n",
      "Dunk Team Croc 36\n",
      "Air Max 1 87 Velvet S\n",
      "Air Max 1 Obsidian Bloom S Size 10\n",
      "Dunk LX Ale Ostrich S Size 10\n",
      "ACG Torre Mid S Size 4\n",
      "Zoom Vomero 5\n",
      "Air S 1 Mid Distressed Smoke Ref Farbe Größe 36\n",
      "Air Alpha Force\n",
      "Dunk Co JP Reverse Curry 2024\n",
      "V2K Run Smoke S\n",
      "Billie Eilish X Air Alpha Force 88 SP Fire\n",
      "Air Alpha Force 88\n",
      "Cortez Sail S\n",
      "1 Elevate S\n",
      "Campus 00S\n",
      "Campus 00S\n",
      "Air Force 1 07 Fresh\n",
      "1\n",
      "1 Mid\n"
     ]
    }
   ],
   "source": [
    "for elemen in semua_elemen:\n",
    "    series_sepatu = elemen.find('div', class_='product-names').find('div', class_='product-series').text.strip()\n",
    "    print(series_sepatu)"
   ]
  },
  {
   "cell_type": "code",
   "execution_count": 5,
   "id": "84c6a295",
   "metadata": {},
   "outputs": [
    {
     "name": "stdout",
     "output_type": "stream",
     "text": [
      "553558-072\n",
      "FV6605-200\n",
      "FD7039-200\n",
      "DZ2628-102\n",
      "FB9660-002\n",
      "FB8938-101\n",
      "FD0736-100\n",
      "DX4401-146\n",
      "IG1024\n",
      "H03471\n",
      "U9060GRY\n",
      "H06260\n",
      "H06261\n",
      "FJ2260-004\n",
      "FZ3621-220\n",
      "FD9082-001\n",
      "FJ2260-001\n",
      "FD0212-201\n",
      "FZ3653-104\n",
      "FJ3448-001\n",
      "FJ4184-600\n",
      "FQ6965-700\n",
      "FD0736-001\n",
      "DZ6763-101\n",
      "DZ4627-100\n",
      "DN1791-102\n",
      "DH7004-109\n",
      "H03473\n",
      "HQ8707\n",
      "DM0211-001\n",
      "553558-136\n",
      "554724-136\n"
     ]
    }
   ],
   "source": [
    "for elemen in semua_elemen:\n",
    "    id_sepatu = elemen.find('div', class_='product-names').find('div', class_='product-mark').text.strip()\n",
    "    print(id_sepatu)"
   ]
  },
  {
   "cell_type": "code",
   "execution_count": 6,
   "id": "e36c48fa",
   "metadata": {},
   "outputs": [
    {
     "name": "stdout",
     "output_type": "stream",
     "text": [
      "21 Shops\n",
      "21 Shops\n",
      "21 Shops\n",
      "21 Shops\n",
      "21 Shops\n",
      "21 Shops\n",
      "21 Shops\n",
      "21 Shops\n",
      "21 Shops\n",
      "21 Shops\n",
      "21 Shops\n",
      "21 Shops\n",
      "21 Shops\n",
      "20 Shops\n",
      "20 Shops\n",
      "20 Shops\n",
      "20 Shops\n",
      "20 Shops\n",
      "20 Shops\n",
      "20 Shops\n",
      "20 Shops\n",
      "20 Shops\n",
      "20 Shops\n",
      "20 Shops\n",
      "20 Shops\n",
      "20 Shops\n",
      "20 Shops\n",
      "20 Shops\n",
      "20 Shops\n",
      "20 Shops\n",
      "20 Shops\n",
      "20 Shops\n"
     ]
    }
   ],
   "source": [
    "for elemen in semua_elemen:\n",
    "    shop = elemen.find('div', class_='product-properties product-icons').find('span', class_='card-product-footer').text.strip()\n",
    "    print(shop)"
   ]
  },
  {
   "cell_type": "code",
   "execution_count": 7,
   "id": "ebaa992d",
   "metadata": {},
   "outputs": [
    {
     "name": "stdout",
     "output_type": "stream",
     "text": [
      "73,00 €\n",
      "144,00 €\n",
      "83,00 €\n",
      "90,00 €\n",
      "96,00 €\n",
      "70,00 €\n",
      "108,49 €\n",
      "72,00 €\n",
      "84,00 €\n",
      "97,00 €\n",
      "219,95 €\n",
      "99,99 €\n",
      "102,00 €\n",
      "126,49 €\n",
      "144,49 €\n",
      "90,00 €\n",
      "126,49 €\n",
      "59,90 €\n",
      "136,00 €\n",
      "97,00 €\n",
      "89,00 €\n",
      "104,00 €\n",
      "78,00 €\n",
      "65,00 €\n",
      "59,99 €\n",
      "55,00 €\n",
      "99,99 €\n",
      "97,00 €\n",
      "159,95 €\n",
      "84,00 €\n",
      "96,00 €\n",
      "91,00 €\n"
     ]
    }
   ],
   "source": [
    "for elemen in semua_elemen:\n",
    "    harga_sepatu = elemen.find('div', class_='product-properties product-icons').find('span', class_='card-product-footer price-info').text.strip()\n",
    "    print(harga_sepatu)"
   ]
  },
  {
   "cell_type": "code",
   "execution_count": null,
   "id": "b925e3ca",
   "metadata": {},
   "outputs": [],
   "source": []
  },
  {
   "cell_type": "code",
   "execution_count": 8,
   "id": "b836364d",
   "metadata": {},
   "outputs": [
    {
     "name": "stdout",
     "output_type": "stream",
     "text": [
      "Available in several sizes\n",
      "Available in several sizes\n",
      "Available in several sizes\n",
      "Available in several sizes\n",
      "Available in several sizes\n",
      "Available in several sizes\n",
      "Available in several sizes\n",
      "Available in several sizes\n",
      "Available in several sizes\n",
      "Available in several sizes\n",
      "Available in several sizes\n",
      "Available in several sizes\n",
      "Available in several sizes\n",
      "Available in several sizes\n",
      "Available in several sizes\n",
      "Available in several sizes\n",
      "Available in several sizes\n",
      "Available in several sizes\n",
      "Available in several sizes\n",
      "Available in several sizes\n",
      "Available in several sizes\n",
      "Available in several sizes\n",
      "Available in several sizes\n",
      "Available in several sizes\n",
      "Available in several sizes\n",
      "Available in several sizes\n",
      "Available in several sizes\n",
      "Available in several sizes\n",
      "Available in several sizes\n",
      "Available in several sizes\n",
      "Available in several sizes\n",
      "Available in several sizes\n"
     ]
    }
   ],
   "source": [
    "for elemen in semua_elemen:\n",
    "    tersedia = elemen.find('div', class_='product-details').find('span', class_='available-sizes-text').text.strip()\n",
    "    print(tersedia)"
   ]
  },
  {
   "cell_type": "code",
   "execution_count": 9,
   "id": "14a4bf08",
   "metadata": {},
   "outputs": [
    {
     "name": "stdout",
     "output_type": "stream",
     "text": [
      "30%\n",
      "10%\n",
      "45%\n",
      "40%\n",
      "45%\n",
      "51%\n",
      "10%\n",
      "56%\n",
      "30%\n",
      "14%\n",
      "27%\n",
      "17%\n"
     ]
    },
    {
     "ename": "AttributeError",
     "evalue": "'NoneType' object has no attribute 'text'",
     "output_type": "error",
     "traceback": [
      "\u001b[1;31m---------------------------------------------------------------------------\u001b[0m",
      "\u001b[1;31mAttributeError\u001b[0m                            Traceback (most recent call last)",
      "Cell \u001b[1;32mIn[9], line 2\u001b[0m\n\u001b[0;32m      1\u001b[0m \u001b[38;5;28;01mfor\u001b[39;00m elemen \u001b[38;5;129;01min\u001b[39;00m semua_elemen:\n\u001b[1;32m----> 2\u001b[0m     diskon \u001b[38;5;241m=\u001b[39m \u001b[43melemen\u001b[49m\u001b[38;5;241;43m.\u001b[39;49m\u001b[43mfind\u001b[49m\u001b[43m(\u001b[49m\u001b[38;5;124;43m'\u001b[39;49m\u001b[38;5;124;43mdiv\u001b[39;49m\u001b[38;5;124;43m'\u001b[39;49m\u001b[43m,\u001b[49m\u001b[43m \u001b[49m\u001b[43mclass_\u001b[49m\u001b[38;5;241;43m=\u001b[39;49m\u001b[38;5;124;43m'\u001b[39;49m\u001b[38;5;124;43mcard-buttons\u001b[39;49m\u001b[38;5;124;43m'\u001b[39;49m\u001b[43m)\u001b[49m\u001b[38;5;241;43m.\u001b[39;49m\u001b[43mfind\u001b[49m\u001b[43m(\u001b[49m\u001b[38;5;124;43m'\u001b[39;49m\u001b[38;5;124;43mp\u001b[39;49m\u001b[38;5;124;43m'\u001b[39;49m\u001b[43m,\u001b[49m\u001b[43m \u001b[49m\u001b[43mclass_\u001b[49m\u001b[38;5;241;43m=\u001b[39;49m\u001b[38;5;124;43m'\u001b[39;49m\u001b[38;5;124;43mdiscount\u001b[39;49m\u001b[38;5;124;43m'\u001b[39;49m\u001b[43m)\u001b[49m\u001b[38;5;241;43m.\u001b[39;49m\u001b[43mtext\u001b[49m\u001b[38;5;241m.\u001b[39mstrip()\n\u001b[0;32m      3\u001b[0m     \u001b[38;5;28mprint\u001b[39m(diskon)\n",
      "\u001b[1;31mAttributeError\u001b[0m: 'NoneType' object has no attribute 'text'"
     ]
    }
   ],
   "source": [
    "for elemen in semua_elemen:\n",
    "    diskon = elemen.find('div', class_='card-buttons').find('p', class_='discount').text.strip()\n",
    "    print(diskon)"
   ]
  },
  {
   "cell_type": "code",
   "execution_count": 10,
   "id": "cad0baae",
   "metadata": {},
   "outputs": [
    {
     "name": "stdout",
     "output_type": "stream",
     "text": [
      "30%\n",
      "10%\n",
      "45%\n",
      "40%\n",
      "45%\n",
      "51%\n",
      "10%\n",
      "56%\n",
      "30%\n",
      "14%\n",
      "27%\n",
      "17%\n",
      "Diskon tidak tersedia\n",
      "10%\n",
      "10%\n",
      "28%\n",
      "10%\n",
      "61%\n",
      "20%\n",
      "27%\n",
      "30%\n",
      "20%\n",
      "35%\n",
      "50%\n",
      "50%\n",
      "45%\n",
      "34%\n",
      "12%\n",
      "34%\n",
      "Diskon tidak tersedia\n",
      "27%\n",
      "35%\n"
     ]
    }
   ],
   "source": [
    "for elemen in semua_elemen:\n",
    "    card_buttons = elemen.find('div', class_='card-buttons')\n",
    "    if card_buttons:\n",
    "        discount_elem = card_buttons.find('p', class_='discount')\n",
    "        if discount_elem:\n",
    "            diskon = discount_elem.text.strip()\n",
    "            print(diskon)\n",
    "        else:\n",
    "            print(\"Diskon tidak tersedia\")\n",
    "    else:\n",
    "        print(\"Tidak ada card-buttons pada elemen\")\n",
    "\n"
   ]
  },
  {
   "cell_type": "code",
   "execution_count": 11,
   "id": "941e4ff4",
   "metadata": {
    "scrolled": true
   },
   "outputs": [],
   "source": [
    "import requests\n",
    "from bs4 import BeautifulSoup\n",
    "\n",
    "def scrapweb(var_list, awal_halaman, akhir_halaman):\n",
    "    header = {'user-agent': 'Mozilla/5.0 (Windows NT 10.0; Win64; x64) AppleWebKit/537.36 (KHTML, like Gecko) Chrome/124.0.0.0 Safari/537.36 Edg/124.0.0.0'}\n",
    "    halaman = awal_halaman\n",
    "    while halaman <= akhir_halaman:\n",
    "        url = f'https://sneakers123.com/en/sneaker/page/{halaman}'\n",
    "        req = requests.get(url, headers=header, timeout=30)\n",
    "        soup = BeautifulSoup(req.content, 'html.parser')\n",
    "        semua_elemen = soup.find_all('section', class_='card-container')\n",
    "\n",
    "        for elemen in semua_elemen:\n",
    "            try:\n",
    "                merek = elemen.find('div', class_='product-names').find('div', class_='product-title').text.strip()\n",
    "            except (AttributeError, KeyError):\n",
    "                merek = None\n",
    "            try:\n",
    "                series_sepatu = elemen.find('div', class_='product-names').find('div', class_='product-series').text.strip()\n",
    "            except (AttributeError, KeyError):\n",
    "                series_sepatu = None\n",
    "            try:\n",
    "                id_sepatu = elemen.find('div', class_='product-names').find('div', class_='product-mark').text.strip()\n",
    "            except (AttributeError, KeyError):\n",
    "                id_sepatu = None\n",
    "            try:\n",
    "                harga_sepatu = elemen.find('div', class_='product-properties product-icons').find('span', class_='card-product-footer price-info').text.strip()\n",
    "            except (AttributeError, KeyError):\n",
    "                harga_sepatu = None\n",
    "            try:\n",
    "                shop = elemen.find('div', class_='product-properties product-icons').find('span', class_='card-product-footer').text.strip()\n",
    "            except (AttributeError, KeyError):\n",
    "                shop = None\n",
    "            try:\n",
    "                tersedia = elemen.find('div', class_='product-details').find('span', class_='available-sizes-text').text.strip()\n",
    "            except (AttributeError, KeyError):\n",
    "                tersedia = None\n",
    "            try:\n",
    "                diskon_elem = elemen.find('div', class_='card-buttons').find('p', class_='discount')\n",
    "                if diskon_elem:\n",
    "                    diskon = diskon_elem.text.strip()\n",
    "                else:\n",
    "                    diskon = \"Diskon tidak tersedia\"\n",
    "            except (AttributeError, KeyError):\n",
    "                diskon = \"Diskon tidak tersedia\"\n",
    "                \n",
    "            var_list.append({\n",
    "                'Merek Sneaker': merek,\n",
    "                'Nama Sneaker': series_sepatu,\n",
    "                'ID Sneaker': id_sepatu,\n",
    "                'Jml Toko Jual': shop,\n",
    "                'Available': tersedia,\n",
    "                'Harga Sneaker': harga_sepatu,\n",
    "                'Diskon': diskon\n",
    "            })\n",
    "        \n",
    "        halaman += 1"
   ]
  },
  {
   "cell_type": "code",
   "execution_count": 12,
   "id": "06986665",
   "metadata": {},
   "outputs": [
    {
     "data": {
      "text/plain": [
       "32"
      ]
     },
     "execution_count": 12,
     "metadata": {},
     "output_type": "execute_result"
    }
   ],
   "source": [
    "test = []\n",
    "scrapweb(test, 2, 2)\n",
    "len(test)"
   ]
  },
  {
   "cell_type": "code",
   "execution_count": 13,
   "id": "2f33dd15",
   "metadata": {
    "scrolled": true
   },
   "outputs": [
    {
     "data": {
      "application/javascript": [
       "\n",
       "        if (window._pyforest_update_imports_cell) { window._pyforest_update_imports_cell('import pandas as pd\\nimport matplotlib.pyplot as plt'); }\n",
       "    "
      ],
      "text/plain": [
       "<IPython.core.display.Javascript object>"
      ]
     },
     "metadata": {},
     "output_type": "display_data"
    },
    {
     "data": {
      "text/html": [
       "<div>\n",
       "<style scoped>\n",
       "    .dataframe tbody tr th:only-of-type {\n",
       "        vertical-align: middle;\n",
       "    }\n",
       "\n",
       "    .dataframe tbody tr th {\n",
       "        vertical-align: top;\n",
       "    }\n",
       "\n",
       "    .dataframe thead th {\n",
       "        text-align: right;\n",
       "    }\n",
       "</style>\n",
       "<table border=\"1\" class=\"dataframe\">\n",
       "  <thead>\n",
       "    <tr style=\"text-align: right;\">\n",
       "      <th></th>\n",
       "      <th>Merek Sneaker</th>\n",
       "      <th>Nama Sneaker</th>\n",
       "      <th>ID Sneaker</th>\n",
       "      <th>Jml Toko Jual</th>\n",
       "      <th>Available</th>\n",
       "      <th>Harga Sneaker</th>\n",
       "      <th>Diskon</th>\n",
       "    </tr>\n",
       "  </thead>\n",
       "  <tbody>\n",
       "    <tr>\n",
       "      <th>0</th>\n",
       "      <td>Jordan</td>\n",
       "      <td>1</td>\n",
       "      <td>553558-072</td>\n",
       "      <td>21 Shops</td>\n",
       "      <td>Available in several sizes</td>\n",
       "      <td>73,00 €</td>\n",
       "      <td>30%</td>\n",
       "    </tr>\n",
       "    <tr>\n",
       "      <th>1</th>\n",
       "      <td>Nike</td>\n",
       "      <td>Air Max 1 87 Leopard</td>\n",
       "      <td>FV6605-200</td>\n",
       "      <td>21 Shops</td>\n",
       "      <td>Available in several sizes</td>\n",
       "      <td>144,00 €</td>\n",
       "      <td>10%</td>\n",
       "    </tr>\n",
       "    <tr>\n",
       "      <th>2</th>\n",
       "      <td>Nike</td>\n",
       "      <td>100</td>\n",
       "      <td>FD7039-200</td>\n",
       "      <td>21 Shops</td>\n",
       "      <td>Available in several sizes</td>\n",
       "      <td>83,00 €</td>\n",
       "      <td>45%</td>\n",
       "    </tr>\n",
       "    <tr>\n",
       "      <th>3</th>\n",
       "      <td>Nike</td>\n",
       "      <td>Air Max 1</td>\n",
       "      <td>DZ2628-102</td>\n",
       "      <td>21 Shops</td>\n",
       "      <td>Available in several sizes</td>\n",
       "      <td>90,00 €</td>\n",
       "      <td>40%</td>\n",
       "    </tr>\n",
       "    <tr>\n",
       "      <th>4</th>\n",
       "      <td>Nike</td>\n",
       "      <td>Air Max 1 SC Light Dust</td>\n",
       "      <td>FB9660-002</td>\n",
       "      <td>21 Shops</td>\n",
       "      <td>Available in several sizes</td>\n",
       "      <td>96,00 €</td>\n",
       "      <td>45%</td>\n",
       "    </tr>\n",
       "  </tbody>\n",
       "</table>\n",
       "</div>"
      ],
      "text/plain": [
       "  Merek Sneaker             Nama Sneaker  ID Sneaker Jml Toko Jual  \\\n",
       "0        Jordan                        1  553558-072      21 Shops   \n",
       "1          Nike     Air Max 1 87 Leopard  FV6605-200      21 Shops   \n",
       "2          Nike                      100  FD7039-200      21 Shops   \n",
       "3          Nike                Air Max 1  DZ2628-102      21 Shops   \n",
       "4          Nike  Air Max 1 SC Light Dust  FB9660-002      21 Shops   \n",
       "\n",
       "                    Available Harga Sneaker Diskon  \n",
       "0  Available in several sizes       73,00 €    30%  \n",
       "1  Available in several sizes      144,00 €    10%  \n",
       "2  Available in several sizes       83,00 €    45%  \n",
       "3  Available in several sizes       90,00 €    40%  \n",
       "4  Available in several sizes       96,00 €    45%  "
      ]
     },
     "execution_count": 13,
     "metadata": {},
     "output_type": "execute_result"
    }
   ],
   "source": [
    "df_tes = pd.DataFrame(test)\n",
    "df_tes.head(5)"
   ]
  },
  {
   "cell_type": "markdown",
   "id": "9c475e79",
   "metadata": {},
   "source": [
    "#### Dilakukan berulang kali\n",
    "Sebagai contoh dilakukan setiap 200 halaman atau 500 halaman. Dikarenakan batasan dari cpu/gpu lokal. Maka dari itu saya menyarankan untuk menggunakan GPU yang disediakan oleh google colab"
   ]
  },
  {
   "cell_type": "code",
   "execution_count": 61,
   "id": "8a4a593f",
   "metadata": {},
   "outputs": [
    {
     "data": {
      "text/plain": [
       "6400"
      ]
     },
     "execution_count": 61,
     "metadata": {},
     "output_type": "execute_result"
    }
   ],
   "source": [
    "objek16 = []\n",
    "scrapweb(objek16, 1803, 2002)\n",
    "len(objek16)"
   ]
  },
  {
   "cell_type": "code",
   "execution_count": 62,
   "id": "577b5eed",
   "metadata": {},
   "outputs": [
    {
     "data": {
      "application/javascript": [
       "\n",
       "        if (window._pyforest_update_imports_cell) { window._pyforest_update_imports_cell('import pandas as pd\\nimport matplotlib.pyplot as plt'); }\n",
       "    "
      ],
      "text/plain": [
       "<IPython.core.display.Javascript object>"
      ]
     },
     "metadata": {},
     "output_type": "display_data"
    },
    {
     "data": {
      "text/html": [
       "<div>\n",
       "<style scoped>\n",
       "    .dataframe tbody tr th:only-of-type {\n",
       "        vertical-align: middle;\n",
       "    }\n",
       "\n",
       "    .dataframe tbody tr th {\n",
       "        vertical-align: top;\n",
       "    }\n",
       "\n",
       "    .dataframe thead th {\n",
       "        text-align: right;\n",
       "    }\n",
       "</style>\n",
       "<table border=\"1\" class=\"dataframe\">\n",
       "  <thead>\n",
       "    <tr style=\"text-align: right;\">\n",
       "      <th></th>\n",
       "      <th>Merek Sneaker</th>\n",
       "      <th>Nama Sneaker</th>\n",
       "      <th>ID Sneaker</th>\n",
       "      <th>Jml Toko Jual</th>\n",
       "      <th>Available</th>\n",
       "      <th>Harga Sneaker</th>\n",
       "      <th>Diskon</th>\n",
       "    </tr>\n",
       "  </thead>\n",
       "  <tbody>\n",
       "    <tr>\n",
       "      <th>0</th>\n",
       "      <td>Nike</td>\n",
       "      <td>Vapor Edge Shark 2</td>\n",
       "      <td>DH5088-001</td>\n",
       "      <td>2 Shops</td>\n",
       "      <td>Available in several sizes</td>\n",
       "      <td>49,00 €</td>\n",
       "      <td>Diskon tidak tersedia</td>\n",
       "    </tr>\n",
       "    <tr>\n",
       "      <th>1</th>\n",
       "      <td>Nike</td>\n",
       "      <td>Vapor Edge Elite 360 2</td>\n",
       "      <td>DA5457-003</td>\n",
       "      <td>2 Shops</td>\n",
       "      <td>Available in several sizes</td>\n",
       "      <td>93,00 €</td>\n",
       "      <td>Diskon tidak tersedia</td>\n",
       "    </tr>\n",
       "    <tr>\n",
       "      <th>2</th>\n",
       "      <td>Nike</td>\n",
       "      <td>Rival Distance</td>\n",
       "      <td>DC8725-401</td>\n",
       "      <td>2 Shops</td>\n",
       "      <td>Available in several sizes</td>\n",
       "      <td>67,00 €</td>\n",
       "      <td>Diskon tidak tersedia</td>\n",
       "    </tr>\n",
       "    <tr>\n",
       "      <th>3</th>\n",
       "      <td>Nike</td>\n",
       "      <td>Hyperdiamond 4 Keystone</td>\n",
       "      <td>CZ5918-007</td>\n",
       "      <td>2 Shops</td>\n",
       "      <td>Available in several sizes</td>\n",
       "      <td>41,00 €</td>\n",
       "      <td>Diskon tidak tersedia</td>\n",
       "    </tr>\n",
       "    <tr>\n",
       "      <th>4</th>\n",
       "      <td>Nike</td>\n",
       "      <td>Jump Elite</td>\n",
       "      <td>806561-003</td>\n",
       "      <td>2 Shops</td>\n",
       "      <td>Available in several sizes</td>\n",
       "      <td>121,00 €</td>\n",
       "      <td>Diskon tidak tersedia</td>\n",
       "    </tr>\n",
       "  </tbody>\n",
       "</table>\n",
       "</div>"
      ],
      "text/plain": [
       "  Merek Sneaker             Nama Sneaker  ID Sneaker Jml Toko Jual  \\\n",
       "0          Nike       Vapor Edge Shark 2  DH5088-001       2 Shops   \n",
       "1          Nike   Vapor Edge Elite 360 2  DA5457-003       2 Shops   \n",
       "2          Nike           Rival Distance  DC8725-401       2 Shops   \n",
       "3          Nike  Hyperdiamond 4 Keystone  CZ5918-007       2 Shops   \n",
       "4          Nike               Jump Elite  806561-003       2 Shops   \n",
       "\n",
       "                    Available Harga Sneaker                 Diskon  \n",
       "0  Available in several sizes       49,00 €  Diskon tidak tersedia  \n",
       "1  Available in several sizes       93,00 €  Diskon tidak tersedia  \n",
       "2  Available in several sizes       67,00 €  Diskon tidak tersedia  \n",
       "3  Available in several sizes       41,00 €  Diskon tidak tersedia  \n",
       "4  Available in several sizes      121,00 €  Diskon tidak tersedia  "
      ]
     },
     "execution_count": 62,
     "metadata": {},
     "output_type": "execute_result"
    }
   ],
   "source": [
    "df_2000 = pd.DataFrame(objek16)\n",
    "df_2000.head(5)"
   ]
  },
  {
   "cell_type": "code",
   "execution_count": 63,
   "id": "30fbf445",
   "metadata": {},
   "outputs": [
    {
     "name": "stdout",
     "output_type": "stream",
     "text": [
      "Data berhasil disimpan ke: C:/Users/Asus/dataset/2000_sneaker.csv\n"
     ]
    }
   ],
   "source": [
    "path = 'C:/Users/Asus/dataset/'\n",
    "\n",
    "nama_file_16 = '2000_sneaker.csv'\n",
    "\n",
    "full_path_16 = path + nama_file_16\n",
    "\n",
    "df_2000.to_csv(full_path_16, index=False)\n",
    "\n",
    "print(f\"Data berhasil disimpan ke: {full_path_16}\")"
   ]
  },
  {
   "cell_type": "code",
   "execution_count": 21,
   "id": "8b0ba81e",
   "metadata": {},
   "outputs": [
    {
     "data": {
      "text/html": [
       "<div>\n",
       "<style scoped>\n",
       "    .dataframe tbody tr th:only-of-type {\n",
       "        vertical-align: middle;\n",
       "    }\n",
       "\n",
       "    .dataframe tbody tr th {\n",
       "        vertical-align: top;\n",
       "    }\n",
       "\n",
       "    .dataframe thead th {\n",
       "        text-align: right;\n",
       "    }\n",
       "</style>\n",
       "<table border=\"1\" class=\"dataframe\">\n",
       "  <thead>\n",
       "    <tr style=\"text-align: right;\">\n",
       "      <th></th>\n",
       "      <th>Merek Sneaker</th>\n",
       "      <th>Nama Sneaker</th>\n",
       "      <th>ID Sneaker</th>\n",
       "      <th>Jml Toko Jual</th>\n",
       "      <th>Available</th>\n",
       "      <th>Harga Sneaker</th>\n",
       "      <th>Diskon</th>\n",
       "    </tr>\n",
       "  </thead>\n",
       "  <tbody>\n",
       "    <tr>\n",
       "      <th>0</th>\n",
       "      <td>New Balance</td>\n",
       "      <td>Aime Leon Dore 1300</td>\n",
       "      <td>M1300AL</td>\n",
       "      <td>5 Shops</td>\n",
       "      <td>Available in several sizes</td>\n",
       "      <td>197,00 €</td>\n",
       "      <td>Diskon tidak tersedia</td>\n",
       "    </tr>\n",
       "    <tr>\n",
       "      <th>1</th>\n",
       "      <td>Nike</td>\n",
       "      <td>Air Max BW Coded Nature</td>\n",
       "      <td>DM9094-100</td>\n",
       "      <td>5 Shops</td>\n",
       "      <td>None</td>\n",
       "      <td>184,00 €</td>\n",
       "      <td>Diskon tidak tersedia</td>\n",
       "    </tr>\n",
       "    <tr>\n",
       "      <th>2</th>\n",
       "      <td>Jordan</td>\n",
       "      <td>Nike AJ I 1 Retro Satin Royal</td>\n",
       "      <td>921193-007</td>\n",
       "      <td>5 Shops</td>\n",
       "      <td>None</td>\n",
       "      <td>957,00 €</td>\n",
       "      <td>Diskon tidak tersedia</td>\n",
       "    </tr>\n",
       "    <tr>\n",
       "      <th>3</th>\n",
       "      <td>Jordan</td>\n",
       "      <td>Nike AJ I 1 Mid Bred Color</td>\n",
       "      <td>554724-125</td>\n",
       "      <td>5 Shops</td>\n",
       "      <td>Available in several sizes</td>\n",
       "      <td>197,95 €</td>\n",
       "      <td>Diskon tidak tersedia</td>\n",
       "    </tr>\n",
       "    <tr>\n",
       "      <th>4</th>\n",
       "      <td>Adidas</td>\n",
       "      <td>Pharrell Williams Billionaire Club BBC NMD Hum...</td>\n",
       "      <td>BB9544</td>\n",
       "      <td>5 Shops</td>\n",
       "      <td>None</td>\n",
       "      <td>107,00 €</td>\n",
       "      <td>Diskon tidak tersedia</td>\n",
       "    </tr>\n",
       "  </tbody>\n",
       "</table>\n",
       "</div>"
      ],
      "text/plain": [
       "  Merek Sneaker                                       Nama Sneaker  \\\n",
       "0   New Balance                                Aime Leon Dore 1300   \n",
       "1          Nike                            Air Max BW Coded Nature   \n",
       "2        Jordan                      Nike AJ I 1 Retro Satin Royal   \n",
       "3        Jordan                         Nike AJ I 1 Mid Bred Color   \n",
       "4        Adidas  Pharrell Williams Billionaire Club BBC NMD Hum...   \n",
       "\n",
       "   ID Sneaker Jml Toko Jual                   Available Harga Sneaker  \\\n",
       "0     M1300AL       5 Shops  Available in several sizes      197,00 €   \n",
       "1  DM9094-100       5 Shops                        None      184,00 €   \n",
       "2  921193-007       5 Shops                        None      957,00 €   \n",
       "3  554724-125       5 Shops  Available in several sizes      197,95 €   \n",
       "4      BB9544       5 Shops                        None      107,00 €   \n",
       "\n",
       "                  Diskon  \n",
       "0  Diskon tidak tersedia  \n",
       "1  Diskon tidak tersedia  \n",
       "2  Diskon tidak tersedia  \n",
       "3  Diskon tidak tersedia  \n",
       "4  Diskon tidak tersedia  "
      ]
     },
     "execution_count": 21,
     "metadata": {},
     "output_type": "execute_result"
    }
   ],
   "source": [
    "df_500.head(5)"
   ]
  },
  {
   "cell_type": "code",
   "execution_count": 40,
   "id": "f461eff7",
   "metadata": {},
   "outputs": [
    {
     "name": "stdout",
     "output_type": "stream",
     "text": [
      "<class 'pandas.core.frame.DataFrame'>\n",
      "RangeIndex: 6400 entries, 0 to 6399\n",
      "Data columns (total 7 columns):\n",
      " #   Column         Non-Null Count  Dtype \n",
      "---  ------         --------------  ----- \n",
      " 0   Merek Sneaker  6400 non-null   object\n",
      " 1   Nama Sneaker   6400 non-null   object\n",
      " 2   ID Sneaker     6400 non-null   object\n",
      " 3   Jml Toko Jual  6400 non-null   object\n",
      " 4   Available      2406 non-null   object\n",
      " 5   Harga Sneaker  6400 non-null   object\n",
      " 6   Diskon         6400 non-null   object\n",
      "dtypes: object(7)\n",
      "memory usage: 350.1+ KB\n"
     ]
    }
   ],
   "source": [
    "df_1000.info()"
   ]
  },
  {
   "cell_type": "code",
   "execution_count": 41,
   "id": "aaff1f77",
   "metadata": {},
   "outputs": [
    {
     "data": {
      "text/plain": [
       "Merek Sneaker       0\n",
       "Nama Sneaker        0\n",
       "ID Sneaker          0\n",
       "Jml Toko Jual       0\n",
       "Available        3994\n",
       "Harga Sneaker       0\n",
       "Diskon              0\n",
       "dtype: int64"
      ]
     },
     "execution_count": 41,
     "metadata": {},
     "output_type": "execute_result"
    }
   ],
   "source": [
    "df_1000.isnull().sum()"
   ]
  },
  {
   "cell_type": "code",
   "execution_count": 47,
   "id": "d5081058",
   "metadata": {},
   "outputs": [
    {
     "data": {
      "text/plain": [
       "array(['4 Shops', '3 Shops'], dtype=object)"
      ]
     },
     "execution_count": 47,
     "metadata": {},
     "output_type": "execute_result"
    }
   ],
   "source": [
    "df_1000['Jml Toko Jual'].unique()"
   ]
  },
  {
   "cell_type": "markdown",
   "id": "cce64810",
   "metadata": {},
   "source": [
    "#### EDA\n",
    "1. Hapus duplikasi data\n",
    "2. Bersihkan kolom Harga Sneaker\n",
    "3. Buat fitur Harga dalam rupiah\n",
    "4. Bersihkan kolom 'Jml Toko Jual'\n",
    "5. Bersihkan kolom available\n",
    "6. Bersihkan kolom diskon"
   ]
  },
  {
   "cell_type": "markdown",
   "id": "26cc430d",
   "metadata": {},
   "source": [
    "#### Gabung semua data"
   ]
  },
  {
   "cell_type": "code",
   "execution_count": 68,
   "id": "40abe594",
   "metadata": {},
   "outputs": [],
   "source": [
    "rute = 'C:/Users/Asus/dataset/sneaker/'\n",
    "\n",
    "data_files = [\n",
    "    '200_sneaker.csv', '300_sneaker.csv', '400_sneaker.csv',\n",
    "    '500_sneaker.csv', '600_sneaker.csv', '800_sneaker.csv',\n",
    "    '1000_sneaker.csv', '1200_sneaker.csv', '1400_sneaker.csv',\n",
    "    '1600_sneaker.csv', '1800_sneaker.csv', '2000_sneaker.csv',\n",
    "    '2500_sneaker.csv', '3000_sneaker.csv', '3500_sneaker.csv',\n",
    "    '3900_sneaker.csv', '4400_sneaker.csv', '4400_sneaker_ril.csv',\n",
    "    '4900_sneaker_ril.csv', '5400_sneaker_ril.csv'\n",
    "]"
   ]
  },
  {
   "cell_type": "markdown",
   "id": "2b3a9abd",
   "metadata": {},
   "source": [
    "pada dataset 4400 itu data sepatu sudah mulai tidak memiliki harga (-)"
   ]
  },
  {
   "cell_type": "code",
   "execution_count": 69,
   "id": "4db9a7c4",
   "metadata": {},
   "outputs": [],
   "source": [
    "dfs = []"
   ]
  },
  {
   "cell_type": "code",
   "execution_count": 70,
   "id": "05ba5018",
   "metadata": {},
   "outputs": [
    {
     "data": {
      "application/javascript": [
       "\n",
       "        if (window._pyforest_update_imports_cell) { window._pyforest_update_imports_cell('import os\\nimport pandas as pd\\nimport matplotlib.pyplot as plt'); }\n",
       "    "
      ],
      "text/plain": [
       "<IPython.core.display.Javascript object>"
      ]
     },
     "metadata": {},
     "output_type": "display_data"
    },
    {
     "data": {
      "application/javascript": [
       "\n",
       "        if (window._pyforest_update_imports_cell) { window._pyforest_update_imports_cell('import os\\nimport pandas as pd\\nimport matplotlib.pyplot as plt'); }\n",
       "    "
      ],
      "text/plain": [
       "<IPython.core.display.Javascript object>"
      ]
     },
     "metadata": {},
     "output_type": "display_data"
    },
    {
     "data": {
      "application/javascript": [
       "\n",
       "        if (window._pyforest_update_imports_cell) { window._pyforest_update_imports_cell('import os\\nimport pandas as pd\\nimport matplotlib.pyplot as plt'); }\n",
       "    "
      ],
      "text/plain": [
       "<IPython.core.display.Javascript object>"
      ]
     },
     "metadata": {},
     "output_type": "display_data"
    },
    {
     "data": {
      "application/javascript": [
       "\n",
       "        if (window._pyforest_update_imports_cell) { window._pyforest_update_imports_cell('import os\\nimport pandas as pd\\nimport matplotlib.pyplot as plt'); }\n",
       "    "
      ],
      "text/plain": [
       "<IPython.core.display.Javascript object>"
      ]
     },
     "metadata": {},
     "output_type": "display_data"
    },
    {
     "data": {
      "application/javascript": [
       "\n",
       "        if (window._pyforest_update_imports_cell) { window._pyforest_update_imports_cell('import os\\nimport pandas as pd\\nimport matplotlib.pyplot as plt'); }\n",
       "    "
      ],
      "text/plain": [
       "<IPython.core.display.Javascript object>"
      ]
     },
     "metadata": {},
     "output_type": "display_data"
    },
    {
     "data": {
      "application/javascript": [
       "\n",
       "        if (window._pyforest_update_imports_cell) { window._pyforest_update_imports_cell('import os\\nimport pandas as pd\\nimport matplotlib.pyplot as plt'); }\n",
       "    "
      ],
      "text/plain": [
       "<IPython.core.display.Javascript object>"
      ]
     },
     "metadata": {},
     "output_type": "display_data"
    },
    {
     "data": {
      "application/javascript": [
       "\n",
       "        if (window._pyforest_update_imports_cell) { window._pyforest_update_imports_cell('import os\\nimport pandas as pd\\nimport matplotlib.pyplot as plt'); }\n",
       "    "
      ],
      "text/plain": [
       "<IPython.core.display.Javascript object>"
      ]
     },
     "metadata": {},
     "output_type": "display_data"
    },
    {
     "data": {
      "application/javascript": [
       "\n",
       "        if (window._pyforest_update_imports_cell) { window._pyforest_update_imports_cell('import os\\nimport pandas as pd\\nimport matplotlib.pyplot as plt'); }\n",
       "    "
      ],
      "text/plain": [
       "<IPython.core.display.Javascript object>"
      ]
     },
     "metadata": {},
     "output_type": "display_data"
    },
    {
     "data": {
      "application/javascript": [
       "\n",
       "        if (window._pyforest_update_imports_cell) { window._pyforest_update_imports_cell('import os\\nimport pandas as pd\\nimport matplotlib.pyplot as plt'); }\n",
       "    "
      ],
      "text/plain": [
       "<IPython.core.display.Javascript object>"
      ]
     },
     "metadata": {},
     "output_type": "display_data"
    },
    {
     "data": {
      "application/javascript": [
       "\n",
       "        if (window._pyforest_update_imports_cell) { window._pyforest_update_imports_cell('import os\\nimport pandas as pd\\nimport matplotlib.pyplot as plt'); }\n",
       "    "
      ],
      "text/plain": [
       "<IPython.core.display.Javascript object>"
      ]
     },
     "metadata": {},
     "output_type": "display_data"
    },
    {
     "data": {
      "application/javascript": [
       "\n",
       "        if (window._pyforest_update_imports_cell) { window._pyforest_update_imports_cell('import os\\nimport pandas as pd\\nimport matplotlib.pyplot as plt'); }\n",
       "    "
      ],
      "text/plain": [
       "<IPython.core.display.Javascript object>"
      ]
     },
     "metadata": {},
     "output_type": "display_data"
    },
    {
     "data": {
      "application/javascript": [
       "\n",
       "        if (window._pyforest_update_imports_cell) { window._pyforest_update_imports_cell('import os\\nimport pandas as pd\\nimport matplotlib.pyplot as plt'); }\n",
       "    "
      ],
      "text/plain": [
       "<IPython.core.display.Javascript object>"
      ]
     },
     "metadata": {},
     "output_type": "display_data"
    },
    {
     "data": {
      "application/javascript": [
       "\n",
       "        if (window._pyforest_update_imports_cell) { window._pyforest_update_imports_cell('import os\\nimport pandas as pd\\nimport matplotlib.pyplot as plt'); }\n",
       "    "
      ],
      "text/plain": [
       "<IPython.core.display.Javascript object>"
      ]
     },
     "metadata": {},
     "output_type": "display_data"
    },
    {
     "data": {
      "application/javascript": [
       "\n",
       "        if (window._pyforest_update_imports_cell) { window._pyforest_update_imports_cell('import os\\nimport pandas as pd\\nimport matplotlib.pyplot as plt'); }\n",
       "    "
      ],
      "text/plain": [
       "<IPython.core.display.Javascript object>"
      ]
     },
     "metadata": {},
     "output_type": "display_data"
    },
    {
     "data": {
      "application/javascript": [
       "\n",
       "        if (window._pyforest_update_imports_cell) { window._pyforest_update_imports_cell('import os\\nimport pandas as pd\\nimport matplotlib.pyplot as plt'); }\n",
       "    "
      ],
      "text/plain": [
       "<IPython.core.display.Javascript object>"
      ]
     },
     "metadata": {},
     "output_type": "display_data"
    },
    {
     "data": {
      "application/javascript": [
       "\n",
       "        if (window._pyforest_update_imports_cell) { window._pyforest_update_imports_cell('import os\\nimport pandas as pd\\nimport matplotlib.pyplot as plt'); }\n",
       "    "
      ],
      "text/plain": [
       "<IPython.core.display.Javascript object>"
      ]
     },
     "metadata": {},
     "output_type": "display_data"
    },
    {
     "data": {
      "application/javascript": [
       "\n",
       "        if (window._pyforest_update_imports_cell) { window._pyforest_update_imports_cell('import os\\nimport pandas as pd\\nimport matplotlib.pyplot as plt'); }\n",
       "    "
      ],
      "text/plain": [
       "<IPython.core.display.Javascript object>"
      ]
     },
     "metadata": {},
     "output_type": "display_data"
    },
    {
     "data": {
      "application/javascript": [
       "\n",
       "        if (window._pyforest_update_imports_cell) { window._pyforest_update_imports_cell('import os\\nimport pandas as pd\\nimport matplotlib.pyplot as plt'); }\n",
       "    "
      ],
      "text/plain": [
       "<IPython.core.display.Javascript object>"
      ]
     },
     "metadata": {},
     "output_type": "display_data"
    },
    {
     "data": {
      "application/javascript": [
       "\n",
       "        if (window._pyforest_update_imports_cell) { window._pyforest_update_imports_cell('import os\\nimport pandas as pd\\nimport matplotlib.pyplot as plt'); }\n",
       "    "
      ],
      "text/plain": [
       "<IPython.core.display.Javascript object>"
      ]
     },
     "metadata": {},
     "output_type": "display_data"
    },
    {
     "data": {
      "application/javascript": [
       "\n",
       "        if (window._pyforest_update_imports_cell) { window._pyforest_update_imports_cell('import os\\nimport pandas as pd\\nimport matplotlib.pyplot as plt'); }\n",
       "    "
      ],
      "text/plain": [
       "<IPython.core.display.Javascript object>"
      ]
     },
     "metadata": {},
     "output_type": "display_data"
    },
    {
     "data": {
      "application/javascript": [
       "\n",
       "        if (window._pyforest_update_imports_cell) { window._pyforest_update_imports_cell('import os\\nimport pandas as pd\\nimport matplotlib.pyplot as plt'); }\n",
       "    "
      ],
      "text/plain": [
       "<IPython.core.display.Javascript object>"
      ]
     },
     "metadata": {},
     "output_type": "display_data"
    },
    {
     "data": {
      "application/javascript": [
       "\n",
       "        if (window._pyforest_update_imports_cell) { window._pyforest_update_imports_cell('import os\\nimport pandas as pd\\nimport matplotlib.pyplot as plt'); }\n",
       "    "
      ],
      "text/plain": [
       "<IPython.core.display.Javascript object>"
      ]
     },
     "metadata": {},
     "output_type": "display_data"
    },
    {
     "data": {
      "application/javascript": [
       "\n",
       "        if (window._pyforest_update_imports_cell) { window._pyforest_update_imports_cell('import os\\nimport pandas as pd\\nimport matplotlib.pyplot as plt'); }\n",
       "    "
      ],
      "text/plain": [
       "<IPython.core.display.Javascript object>"
      ]
     },
     "metadata": {},
     "output_type": "display_data"
    },
    {
     "data": {
      "application/javascript": [
       "\n",
       "        if (window._pyforest_update_imports_cell) { window._pyforest_update_imports_cell('import os\\nimport pandas as pd\\nimport matplotlib.pyplot as plt'); }\n",
       "    "
      ],
      "text/plain": [
       "<IPython.core.display.Javascript object>"
      ]
     },
     "metadata": {},
     "output_type": "display_data"
    },
    {
     "data": {
      "application/javascript": [
       "\n",
       "        if (window._pyforest_update_imports_cell) { window._pyforest_update_imports_cell('import os\\nimport pandas as pd\\nimport matplotlib.pyplot as plt'); }\n",
       "    "
      ],
      "text/plain": [
       "<IPython.core.display.Javascript object>"
      ]
     },
     "metadata": {},
     "output_type": "display_data"
    },
    {
     "data": {
      "application/javascript": [
       "\n",
       "        if (window._pyforest_update_imports_cell) { window._pyforest_update_imports_cell('import os\\nimport pandas as pd\\nimport matplotlib.pyplot as plt'); }\n",
       "    "
      ],
      "text/plain": [
       "<IPython.core.display.Javascript object>"
      ]
     },
     "metadata": {},
     "output_type": "display_data"
    },
    {
     "data": {
      "application/javascript": [
       "\n",
       "        if (window._pyforest_update_imports_cell) { window._pyforest_update_imports_cell('import os\\nimport pandas as pd\\nimport matplotlib.pyplot as plt'); }\n",
       "    "
      ],
      "text/plain": [
       "<IPython.core.display.Javascript object>"
      ]
     },
     "metadata": {},
     "output_type": "display_data"
    },
    {
     "data": {
      "application/javascript": [
       "\n",
       "        if (window._pyforest_update_imports_cell) { window._pyforest_update_imports_cell('import os\\nimport pandas as pd\\nimport matplotlib.pyplot as plt'); }\n",
       "    "
      ],
      "text/plain": [
       "<IPython.core.display.Javascript object>"
      ]
     },
     "metadata": {},
     "output_type": "display_data"
    },
    {
     "data": {
      "application/javascript": [
       "\n",
       "        if (window._pyforest_update_imports_cell) { window._pyforest_update_imports_cell('import os\\nimport pandas as pd\\nimport matplotlib.pyplot as plt'); }\n",
       "    "
      ],
      "text/plain": [
       "<IPython.core.display.Javascript object>"
      ]
     },
     "metadata": {},
     "output_type": "display_data"
    },
    {
     "data": {
      "application/javascript": [
       "\n",
       "        if (window._pyforest_update_imports_cell) { window._pyforest_update_imports_cell('import os\\nimport pandas as pd\\nimport matplotlib.pyplot as plt'); }\n",
       "    "
      ],
      "text/plain": [
       "<IPython.core.display.Javascript object>"
      ]
     },
     "metadata": {},
     "output_type": "display_data"
    },
    {
     "data": {
      "application/javascript": [
       "\n",
       "        if (window._pyforest_update_imports_cell) { window._pyforest_update_imports_cell('import os\\nimport pandas as pd\\nimport matplotlib.pyplot as plt'); }\n",
       "    "
      ],
      "text/plain": [
       "<IPython.core.display.Javascript object>"
      ]
     },
     "metadata": {},
     "output_type": "display_data"
    },
    {
     "data": {
      "application/javascript": [
       "\n",
       "        if (window._pyforest_update_imports_cell) { window._pyforest_update_imports_cell('import os\\nimport pandas as pd\\nimport matplotlib.pyplot as plt'); }\n",
       "    "
      ],
      "text/plain": [
       "<IPython.core.display.Javascript object>"
      ]
     },
     "metadata": {},
     "output_type": "display_data"
    },
    {
     "data": {
      "application/javascript": [
       "\n",
       "        if (window._pyforest_update_imports_cell) { window._pyforest_update_imports_cell('import os\\nimport pandas as pd\\nimport matplotlib.pyplot as plt'); }\n",
       "    "
      ],
      "text/plain": [
       "<IPython.core.display.Javascript object>"
      ]
     },
     "metadata": {},
     "output_type": "display_data"
    },
    {
     "data": {
      "application/javascript": [
       "\n",
       "        if (window._pyforest_update_imports_cell) { window._pyforest_update_imports_cell('import os\\nimport pandas as pd\\nimport matplotlib.pyplot as plt'); }\n",
       "    "
      ],
      "text/plain": [
       "<IPython.core.display.Javascript object>"
      ]
     },
     "metadata": {},
     "output_type": "display_data"
    },
    {
     "data": {
      "application/javascript": [
       "\n",
       "        if (window._pyforest_update_imports_cell) { window._pyforest_update_imports_cell('import os\\nimport pandas as pd\\nimport matplotlib.pyplot as plt'); }\n",
       "    "
      ],
      "text/plain": [
       "<IPython.core.display.Javascript object>"
      ]
     },
     "metadata": {},
     "output_type": "display_data"
    },
    {
     "data": {
      "application/javascript": [
       "\n",
       "        if (window._pyforest_update_imports_cell) { window._pyforest_update_imports_cell('import os\\nimport pandas as pd\\nimport matplotlib.pyplot as plt'); }\n",
       "    "
      ],
      "text/plain": [
       "<IPython.core.display.Javascript object>"
      ]
     },
     "metadata": {},
     "output_type": "display_data"
    },
    {
     "data": {
      "application/javascript": [
       "\n",
       "        if (window._pyforest_update_imports_cell) { window._pyforest_update_imports_cell('import os\\nimport pandas as pd\\nimport matplotlib.pyplot as plt'); }\n",
       "    "
      ],
      "text/plain": [
       "<IPython.core.display.Javascript object>"
      ]
     },
     "metadata": {},
     "output_type": "display_data"
    },
    {
     "data": {
      "application/javascript": [
       "\n",
       "        if (window._pyforest_update_imports_cell) { window._pyforest_update_imports_cell('import os\\nimport pandas as pd\\nimport matplotlib.pyplot as plt'); }\n",
       "    "
      ],
      "text/plain": [
       "<IPython.core.display.Javascript object>"
      ]
     },
     "metadata": {},
     "output_type": "display_data"
    },
    {
     "data": {
      "application/javascript": [
       "\n",
       "        if (window._pyforest_update_imports_cell) { window._pyforest_update_imports_cell('import os\\nimport pandas as pd\\nimport matplotlib.pyplot as plt'); }\n",
       "    "
      ],
      "text/plain": [
       "<IPython.core.display.Javascript object>"
      ]
     },
     "metadata": {},
     "output_type": "display_data"
    },
    {
     "data": {
      "application/javascript": [
       "\n",
       "        if (window._pyforest_update_imports_cell) { window._pyforest_update_imports_cell('import os\\nimport pandas as pd\\nimport matplotlib.pyplot as plt'); }\n",
       "    "
      ],
      "text/plain": [
       "<IPython.core.display.Javascript object>"
      ]
     },
     "metadata": {},
     "output_type": "display_data"
    },
    {
     "data": {
      "application/javascript": [
       "\n",
       "        if (window._pyforest_update_imports_cell) { window._pyforest_update_imports_cell('import os\\nimport pandas as pd\\nimport matplotlib.pyplot as plt'); }\n",
       "    "
      ],
      "text/plain": [
       "<IPython.core.display.Javascript object>"
      ]
     },
     "metadata": {},
     "output_type": "display_data"
    }
   ],
   "source": [
    "for file in data_files:\n",
    "    file_path = os.path.join(rute, file)\n",
    "    df = pd.read_csv(file_path)\n",
    "    dfs.append(df)\n",
    "\n",
    "dataset = pd.concat(dfs, ignore_index=True)"
   ]
  },
  {
   "cell_type": "code",
   "execution_count": null,
   "id": "ebb7ce85",
   "metadata": {
    "scrolled": true
   },
   "outputs": [],
   "source": []
  },
  {
   "cell_type": "code",
   "execution_count": 2,
   "id": "0584fdb7",
   "metadata": {},
   "outputs": [
    {
     "data": {
      "application/javascript": [
       "\n",
       "        if (window._pyforest_update_imports_cell) { window._pyforest_update_imports_cell('import matplotlib.pyplot as plt\\nimport pandas as pd'); }\n",
       "    "
      ],
      "text/plain": [
       "<IPython.core.display.Javascript object>"
      ]
     },
     "metadata": {},
     "output_type": "display_data"
    },
    {
     "data": {
      "text/html": [
       "<div>\n",
       "<style scoped>\n",
       "    .dataframe tbody tr th:only-of-type {\n",
       "        vertical-align: middle;\n",
       "    }\n",
       "\n",
       "    .dataframe tbody tr th {\n",
       "        vertical-align: top;\n",
       "    }\n",
       "\n",
       "    .dataframe thead th {\n",
       "        text-align: right;\n",
       "    }\n",
       "</style>\n",
       "<table border=\"1\" class=\"dataframe\">\n",
       "  <thead>\n",
       "    <tr style=\"text-align: right;\">\n",
       "      <th></th>\n",
       "      <th>Merek Sneaker</th>\n",
       "      <th>Nama Sneaker</th>\n",
       "      <th>ID Sneaker</th>\n",
       "      <th>Jml Toko Jual</th>\n",
       "      <th>Available</th>\n",
       "      <th>Harga Sneaker</th>\n",
       "      <th>Diskon</th>\n",
       "    </tr>\n",
       "  </thead>\n",
       "  <tbody>\n",
       "    <tr>\n",
       "      <th>0</th>\n",
       "      <td>Nike</td>\n",
       "      <td>Killshot 2</td>\n",
       "      <td>FZ5630-100</td>\n",
       "      <td>21 Shops</td>\n",
       "      <td>Available in several sizes</td>\n",
       "      <td>76,00 €</td>\n",
       "      <td>20%</td>\n",
       "    </tr>\n",
       "    <tr>\n",
       "      <th>1</th>\n",
       "      <td>Jordan</td>\n",
       "      <td>1</td>\n",
       "      <td>553558-072</td>\n",
       "      <td>21 Shops</td>\n",
       "      <td>Available in several sizes</td>\n",
       "      <td>73,00 €</td>\n",
       "      <td>30%</td>\n",
       "    </tr>\n",
       "    <tr>\n",
       "      <th>2</th>\n",
       "      <td>Nike</td>\n",
       "      <td>Air Max 1 87 Leopard</td>\n",
       "      <td>FV6605-200</td>\n",
       "      <td>21 Shops</td>\n",
       "      <td>Available in several sizes</td>\n",
       "      <td>144,00 €</td>\n",
       "      <td>10%</td>\n",
       "    </tr>\n",
       "    <tr>\n",
       "      <th>3</th>\n",
       "      <td>Nike</td>\n",
       "      <td>100</td>\n",
       "      <td>FD7039-200</td>\n",
       "      <td>21 Shops</td>\n",
       "      <td>Available in several sizes</td>\n",
       "      <td>83,00 €</td>\n",
       "      <td>45%</td>\n",
       "    </tr>\n",
       "    <tr>\n",
       "      <th>4</th>\n",
       "      <td>Nike</td>\n",
       "      <td>Air Max 1 SC Light Dust</td>\n",
       "      <td>FB9660-002</td>\n",
       "      <td>21 Shops</td>\n",
       "      <td>Available in several sizes</td>\n",
       "      <td>96,00 €</td>\n",
       "      <td>45%</td>\n",
       "    </tr>\n",
       "    <tr>\n",
       "      <th>...</th>\n",
       "      <td>...</td>\n",
       "      <td>...</td>\n",
       "      <td>...</td>\n",
       "      <td>...</td>\n",
       "      <td>...</td>\n",
       "      <td>...</td>\n",
       "      <td>...</td>\n",
       "    </tr>\n",
       "    <tr>\n",
       "      <th>212893</th>\n",
       "      <td>Adidas</td>\n",
       "      <td>Court Vantage Adicolor Reflective</td>\n",
       "      <td>S80256</td>\n",
       "      <td>Sold Out</td>\n",
       "      <td>Available in several sizes</td>\n",
       "      <td>-</td>\n",
       "      <td>Diskon tidak tersedia</td>\n",
       "    </tr>\n",
       "    <tr>\n",
       "      <th>212894</th>\n",
       "      <td>Adidas</td>\n",
       "      <td>Stan Smith Adicolor</td>\n",
       "      <td>S80246</td>\n",
       "      <td>Sold Out</td>\n",
       "      <td>Available in several sizes</td>\n",
       "      <td>-</td>\n",
       "      <td>Diskon tidak tersedia</td>\n",
       "    </tr>\n",
       "    <tr>\n",
       "      <th>212895</th>\n",
       "      <td>Adidas</td>\n",
       "      <td>Court Vantage Adicolor</td>\n",
       "      <td>S80254</td>\n",
       "      <td>Sold Out</td>\n",
       "      <td>Available in several sizes</td>\n",
       "      <td>-</td>\n",
       "      <td>Diskon tidak tersedia</td>\n",
       "    </tr>\n",
       "    <tr>\n",
       "      <th>212896</th>\n",
       "      <td>Adidas</td>\n",
       "      <td>Court Vantage Adicolor</td>\n",
       "      <td>S80257</td>\n",
       "      <td>Sold Out</td>\n",
       "      <td>Available in several sizes</td>\n",
       "      <td>-</td>\n",
       "      <td>Diskon tidak tersedia</td>\n",
       "    </tr>\n",
       "    <tr>\n",
       "      <th>212897</th>\n",
       "      <td>Adidas</td>\n",
       "      <td>Stan Smith Adicolor</td>\n",
       "      <td>S80250</td>\n",
       "      <td>Sold Out</td>\n",
       "      <td>Available in several sizes</td>\n",
       "      <td>-</td>\n",
       "      <td>Diskon tidak tersedia</td>\n",
       "    </tr>\n",
       "  </tbody>\n",
       "</table>\n",
       "<p>212898 rows × 7 columns</p>\n",
       "</div>"
      ],
      "text/plain": [
       "       Merek Sneaker                       Nama Sneaker  ID Sneaker  \\\n",
       "0               Nike                         Killshot 2  FZ5630-100   \n",
       "1             Jordan                                  1  553558-072   \n",
       "2               Nike               Air Max 1 87 Leopard  FV6605-200   \n",
       "3               Nike                                100  FD7039-200   \n",
       "4               Nike            Air Max 1 SC Light Dust  FB9660-002   \n",
       "...              ...                                ...         ...   \n",
       "212893        Adidas  Court Vantage Adicolor Reflective      S80256   \n",
       "212894        Adidas                Stan Smith Adicolor      S80246   \n",
       "212895        Adidas             Court Vantage Adicolor      S80254   \n",
       "212896        Adidas             Court Vantage Adicolor      S80257   \n",
       "212897        Adidas                Stan Smith Adicolor      S80250   \n",
       "\n",
       "       Jml Toko Jual                   Available Harga Sneaker  \\\n",
       "0           21 Shops  Available in several sizes       76,00 €   \n",
       "1           21 Shops  Available in several sizes       73,00 €   \n",
       "2           21 Shops  Available in several sizes      144,00 €   \n",
       "3           21 Shops  Available in several sizes       83,00 €   \n",
       "4           21 Shops  Available in several sizes       96,00 €   \n",
       "...              ...                         ...           ...   \n",
       "212893      Sold Out  Available in several sizes             -   \n",
       "212894      Sold Out  Available in several sizes             -   \n",
       "212895      Sold Out  Available in several sizes             -   \n",
       "212896      Sold Out  Available in several sizes             -   \n",
       "212897      Sold Out  Available in several sizes             -   \n",
       "\n",
       "                       Diskon  \n",
       "0                         20%  \n",
       "1                         30%  \n",
       "2                         10%  \n",
       "3                         45%  \n",
       "4                         45%  \n",
       "...                       ...  \n",
       "212893  Diskon tidak tersedia  \n",
       "212894  Diskon tidak tersedia  \n",
       "212895  Diskon tidak tersedia  \n",
       "212896  Diskon tidak tersedia  \n",
       "212897  Diskon tidak tersedia  \n",
       "\n",
       "[212898 rows x 7 columns]"
      ]
     },
     "execution_count": 2,
     "metadata": {},
     "output_type": "execute_result"
    }
   ],
   "source": [
    "path = 'C:/Users/Asus/dataset/sneaker/sneaker.csv'\n",
    "\n",
    "dataset = pd.read_csv(path)\n",
    "dataset"
   ]
  },
  {
   "cell_type": "code",
   "execution_count": 3,
   "id": "3c91874e",
   "metadata": {},
   "outputs": [
    {
     "data": {
      "text/html": [
       "<div>\n",
       "<style scoped>\n",
       "    .dataframe tbody tr th:only-of-type {\n",
       "        vertical-align: middle;\n",
       "    }\n",
       "\n",
       "    .dataframe tbody tr th {\n",
       "        vertical-align: top;\n",
       "    }\n",
       "\n",
       "    .dataframe thead th {\n",
       "        text-align: right;\n",
       "    }\n",
       "</style>\n",
       "<table border=\"1\" class=\"dataframe\">\n",
       "  <thead>\n",
       "    <tr style=\"text-align: right;\">\n",
       "      <th></th>\n",
       "      <th>Merek Sneaker</th>\n",
       "      <th>Nama Sneaker</th>\n",
       "      <th>ID Sneaker</th>\n",
       "      <th>Jml Toko Jual</th>\n",
       "      <th>Available</th>\n",
       "      <th>Harga Sneaker</th>\n",
       "      <th>Diskon</th>\n",
       "    </tr>\n",
       "  </thead>\n",
       "  <tbody>\n",
       "    <tr>\n",
       "      <th>105471</th>\n",
       "      <td>Filling Pieces</td>\n",
       "      <td>Mondo 2 Ripple Nappa</td>\n",
       "      <td>not-found-sku-function</td>\n",
       "      <td>1 Shops</td>\n",
       "      <td>NaN</td>\n",
       "      <td>$ 246.00</td>\n",
       "      <td>Diskon tidak tersedia</td>\n",
       "    </tr>\n",
       "    <tr>\n",
       "      <th>124768</th>\n",
       "      <td>Nike</td>\n",
       "      <td>Mercurial Victory 6 CR7 DF FG Cleat</td>\n",
       "      <td>903605-401</td>\n",
       "      <td>1 Shops</td>\n",
       "      <td>NaN</td>\n",
       "      <td>$ 535.00</td>\n",
       "      <td>Diskon tidak tersedia</td>\n",
       "    </tr>\n",
       "    <tr>\n",
       "      <th>124769</th>\n",
       "      <td>New Balance</td>\n",
       "      <td>New Balance 520 V7</td>\n",
       "      <td>W520RW7</td>\n",
       "      <td>1 Shops</td>\n",
       "      <td>NaN</td>\n",
       "      <td>$ 138.00</td>\n",
       "      <td>Diskon tidak tersedia</td>\n",
       "    </tr>\n",
       "    <tr>\n",
       "      <th>124770</th>\n",
       "      <td>Vans</td>\n",
       "      <td>Comfycush Authentic</td>\n",
       "      <td>VN0A3WM7B1E</td>\n",
       "      <td>1 Shops</td>\n",
       "      <td>NaN</td>\n",
       "      <td>$ 83.00</td>\n",
       "      <td>Diskon tidak tersedia</td>\n",
       "    </tr>\n",
       "    <tr>\n",
       "      <th>124771</th>\n",
       "      <td>Reebok</td>\n",
       "      <td>Instapump Fury</td>\n",
       "      <td>V47898</td>\n",
       "      <td>1 Shops</td>\n",
       "      <td>NaN</td>\n",
       "      <td>$ 239.00</td>\n",
       "      <td>Diskon tidak tersedia</td>\n",
       "    </tr>\n",
       "    <tr>\n",
       "      <th>...</th>\n",
       "      <td>...</td>\n",
       "      <td>...</td>\n",
       "      <td>...</td>\n",
       "      <td>...</td>\n",
       "      <td>...</td>\n",
       "      <td>...</td>\n",
       "      <td>...</td>\n",
       "    </tr>\n",
       "    <tr>\n",
       "      <th>185563</th>\n",
       "      <td>Nike</td>\n",
       "      <td>KD 15 Olympics Medal</td>\n",
       "      <td>DC1975-700/DM1054-700</td>\n",
       "      <td>1 Shops</td>\n",
       "      <td>Available in several sizes</td>\n",
       "      <td>$ 132.00</td>\n",
       "      <td>Diskon tidak tersedia</td>\n",
       "    </tr>\n",
       "    <tr>\n",
       "      <th>185564</th>\n",
       "      <td>Nike</td>\n",
       "      <td>Pg 6 Bred</td>\n",
       "      <td>DC1974-003/DH8447-003</td>\n",
       "      <td>1 Shops</td>\n",
       "      <td>Available in several sizes</td>\n",
       "      <td>$ 153.00</td>\n",
       "      <td>Diskon tidak tersedia</td>\n",
       "    </tr>\n",
       "    <tr>\n",
       "      <th>185565</th>\n",
       "      <td>Nike</td>\n",
       "      <td>KD 15 My Roots</td>\n",
       "      <td>DC1975-004/DM1054-004</td>\n",
       "      <td>1 Shops</td>\n",
       "      <td>Available in several sizes</td>\n",
       "      <td>$ 169.00</td>\n",
       "      <td>Diskon tidak tersedia</td>\n",
       "    </tr>\n",
       "    <tr>\n",
       "      <th>185566</th>\n",
       "      <td>Nike</td>\n",
       "      <td>Air Max Plus Wolf</td>\n",
       "      <td>DC1936-002</td>\n",
       "      <td>1 Shops</td>\n",
       "      <td>Available in several sizes</td>\n",
       "      <td>$ 529.00</td>\n",
       "      <td>Diskon tidak tersedia</td>\n",
       "    </tr>\n",
       "    <tr>\n",
       "      <th>185567</th>\n",
       "      <td>Nike</td>\n",
       "      <td>KD 15 Brooklyn Nets</td>\n",
       "      <td>DC1975-100/DM1054-100</td>\n",
       "      <td>1 Shops</td>\n",
       "      <td>Available in several sizes</td>\n",
       "      <td>$ 195.00</td>\n",
       "      <td>Diskon tidak tersedia</td>\n",
       "    </tr>\n",
       "  </tbody>\n",
       "</table>\n",
       "<p>44801 rows × 7 columns</p>\n",
       "</div>"
      ],
      "text/plain": [
       "         Merek Sneaker                         Nama Sneaker  \\\n",
       "105471  Filling Pieces                 Mondo 2 Ripple Nappa   \n",
       "124768            Nike  Mercurial Victory 6 CR7 DF FG Cleat   \n",
       "124769     New Balance                   New Balance 520 V7   \n",
       "124770            Vans                  Comfycush Authentic   \n",
       "124771          Reebok                       Instapump Fury   \n",
       "...                ...                                  ...   \n",
       "185563            Nike                 KD 15 Olympics Medal   \n",
       "185564            Nike                            Pg 6 Bred   \n",
       "185565            Nike                       KD 15 My Roots   \n",
       "185566            Nike                    Air Max Plus Wolf   \n",
       "185567            Nike                  KD 15 Brooklyn Nets   \n",
       "\n",
       "                    ID Sneaker Jml Toko Jual                   Available  \\\n",
       "105471  not-found-sku-function       1 Shops                         NaN   \n",
       "124768              903605-401       1 Shops                         NaN   \n",
       "124769                 W520RW7       1 Shops                         NaN   \n",
       "124770             VN0A3WM7B1E       1 Shops                         NaN   \n",
       "124771                  V47898       1 Shops                         NaN   \n",
       "...                        ...           ...                         ...   \n",
       "185563   DC1975-700/DM1054-700       1 Shops  Available in several sizes   \n",
       "185564   DC1974-003/DH8447-003       1 Shops  Available in several sizes   \n",
       "185565   DC1975-004/DM1054-004       1 Shops  Available in several sizes   \n",
       "185566              DC1936-002       1 Shops  Available in several sizes   \n",
       "185567   DC1975-100/DM1054-100       1 Shops  Available in several sizes   \n",
       "\n",
       "       Harga Sneaker                 Diskon  \n",
       "105471      $ 246.00  Diskon tidak tersedia  \n",
       "124768      $ 535.00  Diskon tidak tersedia  \n",
       "124769      $ 138.00  Diskon tidak tersedia  \n",
       "124770       $ 83.00  Diskon tidak tersedia  \n",
       "124771      $ 239.00  Diskon tidak tersedia  \n",
       "...              ...                    ...  \n",
       "185563      $ 132.00  Diskon tidak tersedia  \n",
       "185564      $ 153.00  Diskon tidak tersedia  \n",
       "185565      $ 169.00  Diskon tidak tersedia  \n",
       "185566      $ 529.00  Diskon tidak tersedia  \n",
       "185567      $ 195.00  Diskon tidak tersedia  \n",
       "\n",
       "[44801 rows x 7 columns]"
      ]
     },
     "execution_count": 3,
     "metadata": {},
     "output_type": "execute_result"
    }
   ],
   "source": [
    "duplikasi = dataset[dataset.duplicated()]\n",
    "duplikasi"
   ]
  },
  {
   "cell_type": "code",
   "execution_count": 4,
   "id": "a216f0e6",
   "metadata": {},
   "outputs": [
    {
     "name": "stdout",
     "output_type": "stream",
     "text": [
      "Duplikasiny ada:\n",
      "         Merek Sneaker                         Nama Sneaker  \\\n",
      "105471  Filling Pieces                 Mondo 2 Ripple Nappa   \n",
      "124768            Nike  Mercurial Victory 6 CR7 DF FG Cleat   \n",
      "124769     New Balance                   New Balance 520 V7   \n",
      "124770            Vans                  Comfycush Authentic   \n",
      "124771          Reebok                       Instapump Fury   \n",
      "...                ...                                  ...   \n",
      "185563            Nike                 KD 15 Olympics Medal   \n",
      "185564            Nike                            Pg 6 Bred   \n",
      "185565            Nike                       KD 15 My Roots   \n",
      "185566            Nike                    Air Max Plus Wolf   \n",
      "185567            Nike                  KD 15 Brooklyn Nets   \n",
      "\n",
      "                    ID Sneaker Jml Toko Jual                   Available  \\\n",
      "105471  not-found-sku-function       1 Shops                         NaN   \n",
      "124768              903605-401       1 Shops                         NaN   \n",
      "124769                 W520RW7       1 Shops                         NaN   \n",
      "124770             VN0A3WM7B1E       1 Shops                         NaN   \n",
      "124771                  V47898       1 Shops                         NaN   \n",
      "...                        ...           ...                         ...   \n",
      "185563   DC1975-700/DM1054-700       1 Shops  Available in several sizes   \n",
      "185564   DC1974-003/DH8447-003       1 Shops  Available in several sizes   \n",
      "185565   DC1975-004/DM1054-004       1 Shops  Available in several sizes   \n",
      "185566              DC1936-002       1 Shops  Available in several sizes   \n",
      "185567   DC1975-100/DM1054-100       1 Shops  Available in several sizes   \n",
      "\n",
      "       Harga Sneaker                 Diskon  \n",
      "105471      $ 246.00  Diskon tidak tersedia  \n",
      "124768      $ 535.00  Diskon tidak tersedia  \n",
      "124769      $ 138.00  Diskon tidak tersedia  \n",
      "124770       $ 83.00  Diskon tidak tersedia  \n",
      "124771      $ 239.00  Diskon tidak tersedia  \n",
      "...              ...                    ...  \n",
      "185563      $ 132.00  Diskon tidak tersedia  \n",
      "185564      $ 153.00  Diskon tidak tersedia  \n",
      "185565      $ 169.00  Diskon tidak tersedia  \n",
      "185566      $ 529.00  Diskon tidak tersedia  \n",
      "185567      $ 195.00  Diskon tidak tersedia  \n",
      "\n",
      "[44801 rows x 7 columns]\n",
      "\n",
      "setelah hapus duplikasi:\n",
      "       Merek Sneaker                       Nama Sneaker  ID Sneaker  \\\n",
      "0               Nike                         Killshot 2  FZ5630-100   \n",
      "1             Jordan                                  1  553558-072   \n",
      "2               Nike               Air Max 1 87 Leopard  FV6605-200   \n",
      "3               Nike                                100  FD7039-200   \n",
      "4               Nike            Air Max 1 SC Light Dust  FB9660-002   \n",
      "...              ...                                ...         ...   \n",
      "212893        Adidas  Court Vantage Adicolor Reflective      S80256   \n",
      "212894        Adidas                Stan Smith Adicolor      S80246   \n",
      "212895        Adidas             Court Vantage Adicolor      S80254   \n",
      "212896        Adidas             Court Vantage Adicolor      S80257   \n",
      "212897        Adidas                Stan Smith Adicolor      S80250   \n",
      "\n",
      "       Jml Toko Jual                   Available Harga Sneaker  \\\n",
      "0           21 Shops  Available in several sizes       76,00 €   \n",
      "1           21 Shops  Available in several sizes       73,00 €   \n",
      "2           21 Shops  Available in several sizes      144,00 €   \n",
      "3           21 Shops  Available in several sizes       83,00 €   \n",
      "4           21 Shops  Available in several sizes       96,00 €   \n",
      "...              ...                         ...           ...   \n",
      "212893      Sold Out  Available in several sizes             -   \n",
      "212894      Sold Out  Available in several sizes             -   \n",
      "212895      Sold Out  Available in several sizes             -   \n",
      "212896      Sold Out  Available in several sizes             -   \n",
      "212897      Sold Out  Available in several sizes             -   \n",
      "\n",
      "                       Diskon  \n",
      "0                         20%  \n",
      "1                         30%  \n",
      "2                         10%  \n",
      "3                         45%  \n",
      "4                         45%  \n",
      "...                       ...  \n",
      "212893  Diskon tidak tersedia  \n",
      "212894  Diskon tidak tersedia  \n",
      "212895  Diskon tidak tersedia  \n",
      "212896  Diskon tidak tersedia  \n",
      "212897  Diskon tidak tersedia  \n",
      "\n",
      "[168097 rows x 7 columns]\n"
     ]
    }
   ],
   "source": [
    "if not duplikasi.empty:\n",
    "    print(\"Duplikasiny ada:\")\n",
    "    print(duplikasi)\n",
    "    print()\n",
    "\n",
    "    data_bersih = dataset.drop_duplicates()\n",
    "    print(\"setelah hapus duplikasi:\")\n",
    "    print(data_bersih)\n",
    "else:\n",
    "    print(\"gak ada dupe\")"
   ]
  },
  {
   "cell_type": "code",
   "execution_count": 5,
   "id": "c6de15b0",
   "metadata": {},
   "outputs": [
    {
     "data": {
      "text/html": [
       "<div>\n",
       "<style scoped>\n",
       "    .dataframe tbody tr th:only-of-type {\n",
       "        vertical-align: middle;\n",
       "    }\n",
       "\n",
       "    .dataframe tbody tr th {\n",
       "        vertical-align: top;\n",
       "    }\n",
       "\n",
       "    .dataframe thead th {\n",
       "        text-align: right;\n",
       "    }\n",
       "</style>\n",
       "<table border=\"1\" class=\"dataframe\">\n",
       "  <thead>\n",
       "    <tr style=\"text-align: right;\">\n",
       "      <th></th>\n",
       "      <th>Merek Sneaker</th>\n",
       "      <th>Nama Sneaker</th>\n",
       "      <th>ID Sneaker</th>\n",
       "      <th>Jml Toko Jual</th>\n",
       "      <th>Available</th>\n",
       "      <th>Harga Sneaker</th>\n",
       "      <th>Diskon</th>\n",
       "    </tr>\n",
       "  </thead>\n",
       "  <tbody>\n",
       "    <tr>\n",
       "      <th>0</th>\n",
       "      <td>Nike</td>\n",
       "      <td>Killshot 2</td>\n",
       "      <td>FZ5630-100</td>\n",
       "      <td>21 Shops</td>\n",
       "      <td>Available in several sizes</td>\n",
       "      <td>76,00 €</td>\n",
       "      <td>20%</td>\n",
       "    </tr>\n",
       "    <tr>\n",
       "      <th>1</th>\n",
       "      <td>Jordan</td>\n",
       "      <td>1</td>\n",
       "      <td>553558-072</td>\n",
       "      <td>21 Shops</td>\n",
       "      <td>Available in several sizes</td>\n",
       "      <td>73,00 €</td>\n",
       "      <td>30%</td>\n",
       "    </tr>\n",
       "    <tr>\n",
       "      <th>2</th>\n",
       "      <td>Nike</td>\n",
       "      <td>Air Max 1 87 Leopard</td>\n",
       "      <td>FV6605-200</td>\n",
       "      <td>21 Shops</td>\n",
       "      <td>Available in several sizes</td>\n",
       "      <td>144,00 €</td>\n",
       "      <td>10%</td>\n",
       "    </tr>\n",
       "    <tr>\n",
       "      <th>3</th>\n",
       "      <td>Nike</td>\n",
       "      <td>100</td>\n",
       "      <td>FD7039-200</td>\n",
       "      <td>21 Shops</td>\n",
       "      <td>Available in several sizes</td>\n",
       "      <td>83,00 €</td>\n",
       "      <td>45%</td>\n",
       "    </tr>\n",
       "    <tr>\n",
       "      <th>4</th>\n",
       "      <td>Nike</td>\n",
       "      <td>Air Max 1 SC Light Dust</td>\n",
       "      <td>FB9660-002</td>\n",
       "      <td>21 Shops</td>\n",
       "      <td>Available in several sizes</td>\n",
       "      <td>96,00 €</td>\n",
       "      <td>45%</td>\n",
       "    </tr>\n",
       "    <tr>\n",
       "      <th>...</th>\n",
       "      <td>...</td>\n",
       "      <td>...</td>\n",
       "      <td>...</td>\n",
       "      <td>...</td>\n",
       "      <td>...</td>\n",
       "      <td>...</td>\n",
       "      <td>...</td>\n",
       "    </tr>\n",
       "    <tr>\n",
       "      <th>212893</th>\n",
       "      <td>Adidas</td>\n",
       "      <td>Court Vantage Adicolor Reflective</td>\n",
       "      <td>S80256</td>\n",
       "      <td>Sold Out</td>\n",
       "      <td>Available in several sizes</td>\n",
       "      <td>-</td>\n",
       "      <td>Diskon tidak tersedia</td>\n",
       "    </tr>\n",
       "    <tr>\n",
       "      <th>212894</th>\n",
       "      <td>Adidas</td>\n",
       "      <td>Stan Smith Adicolor</td>\n",
       "      <td>S80246</td>\n",
       "      <td>Sold Out</td>\n",
       "      <td>Available in several sizes</td>\n",
       "      <td>-</td>\n",
       "      <td>Diskon tidak tersedia</td>\n",
       "    </tr>\n",
       "    <tr>\n",
       "      <th>212895</th>\n",
       "      <td>Adidas</td>\n",
       "      <td>Court Vantage Adicolor</td>\n",
       "      <td>S80254</td>\n",
       "      <td>Sold Out</td>\n",
       "      <td>Available in several sizes</td>\n",
       "      <td>-</td>\n",
       "      <td>Diskon tidak tersedia</td>\n",
       "    </tr>\n",
       "    <tr>\n",
       "      <th>212896</th>\n",
       "      <td>Adidas</td>\n",
       "      <td>Court Vantage Adicolor</td>\n",
       "      <td>S80257</td>\n",
       "      <td>Sold Out</td>\n",
       "      <td>Available in several sizes</td>\n",
       "      <td>-</td>\n",
       "      <td>Diskon tidak tersedia</td>\n",
       "    </tr>\n",
       "    <tr>\n",
       "      <th>212897</th>\n",
       "      <td>Adidas</td>\n",
       "      <td>Stan Smith Adicolor</td>\n",
       "      <td>S80250</td>\n",
       "      <td>Sold Out</td>\n",
       "      <td>Available in several sizes</td>\n",
       "      <td>-</td>\n",
       "      <td>Diskon tidak tersedia</td>\n",
       "    </tr>\n",
       "  </tbody>\n",
       "</table>\n",
       "<p>168097 rows × 7 columns</p>\n",
       "</div>"
      ],
      "text/plain": [
       "       Merek Sneaker                       Nama Sneaker  ID Sneaker  \\\n",
       "0               Nike                         Killshot 2  FZ5630-100   \n",
       "1             Jordan                                  1  553558-072   \n",
       "2               Nike               Air Max 1 87 Leopard  FV6605-200   \n",
       "3               Nike                                100  FD7039-200   \n",
       "4               Nike            Air Max 1 SC Light Dust  FB9660-002   \n",
       "...              ...                                ...         ...   \n",
       "212893        Adidas  Court Vantage Adicolor Reflective      S80256   \n",
       "212894        Adidas                Stan Smith Adicolor      S80246   \n",
       "212895        Adidas             Court Vantage Adicolor      S80254   \n",
       "212896        Adidas             Court Vantage Adicolor      S80257   \n",
       "212897        Adidas                Stan Smith Adicolor      S80250   \n",
       "\n",
       "       Jml Toko Jual                   Available Harga Sneaker  \\\n",
       "0           21 Shops  Available in several sizes       76,00 €   \n",
       "1           21 Shops  Available in several sizes       73,00 €   \n",
       "2           21 Shops  Available in several sizes      144,00 €   \n",
       "3           21 Shops  Available in several sizes       83,00 €   \n",
       "4           21 Shops  Available in several sizes       96,00 €   \n",
       "...              ...                         ...           ...   \n",
       "212893      Sold Out  Available in several sizes             -   \n",
       "212894      Sold Out  Available in several sizes             -   \n",
       "212895      Sold Out  Available in several sizes             -   \n",
       "212896      Sold Out  Available in several sizes             -   \n",
       "212897      Sold Out  Available in several sizes             -   \n",
       "\n",
       "                       Diskon  \n",
       "0                         20%  \n",
       "1                         30%  \n",
       "2                         10%  \n",
       "3                         45%  \n",
       "4                         45%  \n",
       "...                       ...  \n",
       "212893  Diskon tidak tersedia  \n",
       "212894  Diskon tidak tersedia  \n",
       "212895  Diskon tidak tersedia  \n",
       "212896  Diskon tidak tersedia  \n",
       "212897  Diskon tidak tersedia  \n",
       "\n",
       "[168097 rows x 7 columns]"
      ]
     },
     "execution_count": 5,
     "metadata": {},
     "output_type": "execute_result"
    }
   ],
   "source": [
    "data_bersih"
   ]
  },
  {
   "cell_type": "markdown",
   "id": "7749afc1",
   "metadata": {},
   "source": [
    "#### Fitur Harga"
   ]
  },
  {
   "cell_type": "code",
   "execution_count": 6,
   "id": "714c9bab",
   "metadata": {},
   "outputs": [
    {
     "data": {
      "text/html": [
       "<div>\n",
       "<style scoped>\n",
       "    .dataframe tbody tr th:only-of-type {\n",
       "        vertical-align: middle;\n",
       "    }\n",
       "\n",
       "    .dataframe tbody tr th {\n",
       "        vertical-align: top;\n",
       "    }\n",
       "\n",
       "    .dataframe thead th {\n",
       "        text-align: right;\n",
       "    }\n",
       "</style>\n",
       "<table border=\"1\" class=\"dataframe\">\n",
       "  <thead>\n",
       "    <tr style=\"text-align: right;\">\n",
       "      <th></th>\n",
       "      <th>Merek Sneaker</th>\n",
       "      <th>Nama Sneaker</th>\n",
       "      <th>ID Sneaker</th>\n",
       "      <th>Jml Toko Jual</th>\n",
       "      <th>Available</th>\n",
       "      <th>Harga Sneaker</th>\n",
       "      <th>Diskon</th>\n",
       "    </tr>\n",
       "  </thead>\n",
       "  <tbody>\n",
       "    <tr>\n",
       "      <th>4094</th>\n",
       "      <td>Jordan</td>\n",
       "      <td>3 Retro</td>\n",
       "      <td>FQ9174-121</td>\n",
       "      <td>8 Shops</td>\n",
       "      <td>Available in several sizes</td>\n",
       "      <td>-</td>\n",
       "      <td>Diskon tidak tersedia</td>\n",
       "    </tr>\n",
       "    <tr>\n",
       "      <th>4167</th>\n",
       "      <td>Jordan</td>\n",
       "      <td>4 Retro</td>\n",
       "      <td>AQ9129-101</td>\n",
       "      <td>8 Shops</td>\n",
       "      <td>Available in several sizes</td>\n",
       "      <td>-</td>\n",
       "      <td>Diskon tidak tersedia</td>\n",
       "    </tr>\n",
       "    <tr>\n",
       "      <th>9459</th>\n",
       "      <td>Jordan</td>\n",
       "      <td>1 Mid Carbon Fiber</td>\n",
       "      <td>DD2192-001</td>\n",
       "      <td>6 Shops</td>\n",
       "      <td>Available in several sizes</td>\n",
       "      <td>-</td>\n",
       "      <td>Diskon tidak tersedia</td>\n",
       "    </tr>\n",
       "    <tr>\n",
       "      <th>91390</th>\n",
       "      <td>Jordan</td>\n",
       "      <td>Jumpman Jack Tr</td>\n",
       "      <td>FJ2852-100</td>\n",
       "      <td>1 Shops</td>\n",
       "      <td>Available in several sizes</td>\n",
       "      <td>-</td>\n",
       "      <td>Diskon tidak tersedia</td>\n",
       "    </tr>\n",
       "    <tr>\n",
       "      <th>91819</th>\n",
       "      <td>Nike</td>\n",
       "      <td>Cortez</td>\n",
       "      <td>FZ1347-100</td>\n",
       "      <td>1 Shops</td>\n",
       "      <td>Available in several sizes</td>\n",
       "      <td>-</td>\n",
       "      <td>Diskon tidak tersedia</td>\n",
       "    </tr>\n",
       "    <tr>\n",
       "      <th>...</th>\n",
       "      <td>...</td>\n",
       "      <td>...</td>\n",
       "      <td>...</td>\n",
       "      <td>...</td>\n",
       "      <td>...</td>\n",
       "      <td>...</td>\n",
       "      <td>...</td>\n",
       "    </tr>\n",
       "    <tr>\n",
       "      <th>212893</th>\n",
       "      <td>Adidas</td>\n",
       "      <td>Court Vantage Adicolor Reflective</td>\n",
       "      <td>S80256</td>\n",
       "      <td>Sold Out</td>\n",
       "      <td>Available in several sizes</td>\n",
       "      <td>-</td>\n",
       "      <td>Diskon tidak tersedia</td>\n",
       "    </tr>\n",
       "    <tr>\n",
       "      <th>212894</th>\n",
       "      <td>Adidas</td>\n",
       "      <td>Stan Smith Adicolor</td>\n",
       "      <td>S80246</td>\n",
       "      <td>Sold Out</td>\n",
       "      <td>Available in several sizes</td>\n",
       "      <td>-</td>\n",
       "      <td>Diskon tidak tersedia</td>\n",
       "    </tr>\n",
       "    <tr>\n",
       "      <th>212895</th>\n",
       "      <td>Adidas</td>\n",
       "      <td>Court Vantage Adicolor</td>\n",
       "      <td>S80254</td>\n",
       "      <td>Sold Out</td>\n",
       "      <td>Available in several sizes</td>\n",
       "      <td>-</td>\n",
       "      <td>Diskon tidak tersedia</td>\n",
       "    </tr>\n",
       "    <tr>\n",
       "      <th>212896</th>\n",
       "      <td>Adidas</td>\n",
       "      <td>Court Vantage Adicolor</td>\n",
       "      <td>S80257</td>\n",
       "      <td>Sold Out</td>\n",
       "      <td>Available in several sizes</td>\n",
       "      <td>-</td>\n",
       "      <td>Diskon tidak tersedia</td>\n",
       "    </tr>\n",
       "    <tr>\n",
       "      <th>212897</th>\n",
       "      <td>Adidas</td>\n",
       "      <td>Stan Smith Adicolor</td>\n",
       "      <td>S80250</td>\n",
       "      <td>Sold Out</td>\n",
       "      <td>Available in several sizes</td>\n",
       "      <td>-</td>\n",
       "      <td>Diskon tidak tersedia</td>\n",
       "    </tr>\n",
       "  </tbody>\n",
       "</table>\n",
       "<p>18195 rows × 7 columns</p>\n",
       "</div>"
      ],
      "text/plain": [
       "       Merek Sneaker                       Nama Sneaker  ID Sneaker  \\\n",
       "4094          Jordan                            3 Retro  FQ9174-121   \n",
       "4167          Jordan                            4 Retro  AQ9129-101   \n",
       "9459          Jordan                 1 Mid Carbon Fiber  DD2192-001   \n",
       "91390         Jordan                    Jumpman Jack Tr  FJ2852-100   \n",
       "91819           Nike                             Cortez  FZ1347-100   \n",
       "...              ...                                ...         ...   \n",
       "212893        Adidas  Court Vantage Adicolor Reflective      S80256   \n",
       "212894        Adidas                Stan Smith Adicolor      S80246   \n",
       "212895        Adidas             Court Vantage Adicolor      S80254   \n",
       "212896        Adidas             Court Vantage Adicolor      S80257   \n",
       "212897        Adidas                Stan Smith Adicolor      S80250   \n",
       "\n",
       "       Jml Toko Jual                   Available Harga Sneaker  \\\n",
       "4094         8 Shops  Available in several sizes             -   \n",
       "4167         8 Shops  Available in several sizes             -   \n",
       "9459         6 Shops  Available in several sizes             -   \n",
       "91390        1 Shops  Available in several sizes             -   \n",
       "91819        1 Shops  Available in several sizes             -   \n",
       "...              ...                         ...           ...   \n",
       "212893      Sold Out  Available in several sizes             -   \n",
       "212894      Sold Out  Available in several sizes             -   \n",
       "212895      Sold Out  Available in several sizes             -   \n",
       "212896      Sold Out  Available in several sizes             -   \n",
       "212897      Sold Out  Available in several sizes             -   \n",
       "\n",
       "                       Diskon  \n",
       "4094    Diskon tidak tersedia  \n",
       "4167    Diskon tidak tersedia  \n",
       "9459    Diskon tidak tersedia  \n",
       "91390   Diskon tidak tersedia  \n",
       "91819   Diskon tidak tersedia  \n",
       "...                       ...  \n",
       "212893  Diskon tidak tersedia  \n",
       "212894  Diskon tidak tersedia  \n",
       "212895  Diskon tidak tersedia  \n",
       "212896  Diskon tidak tersedia  \n",
       "212897  Diskon tidak tersedia  \n",
       "\n",
       "[18195 rows x 7 columns]"
      ]
     },
     "execution_count": 6,
     "metadata": {},
     "output_type": "execute_result"
    }
   ],
   "source": [
    "rentang_harga = data_bersih[data_bersih['Harga Sneaker'].str.contains('-')]\n",
    "rentang_harga"
   ]
  },
  {
   "cell_type": "code",
   "execution_count": 7,
   "id": "0e7d0c8d",
   "metadata": {},
   "outputs": [],
   "source": [
    "data_bersih = data_bersih.drop(rentang_harga.index)"
   ]
  },
  {
   "cell_type": "code",
   "execution_count": 8,
   "id": "b81de01c",
   "metadata": {},
   "outputs": [
    {
     "data": {
      "text/html": [
       "<div>\n",
       "<style scoped>\n",
       "    .dataframe tbody tr th:only-of-type {\n",
       "        vertical-align: middle;\n",
       "    }\n",
       "\n",
       "    .dataframe tbody tr th {\n",
       "        vertical-align: top;\n",
       "    }\n",
       "\n",
       "    .dataframe thead th {\n",
       "        text-align: right;\n",
       "    }\n",
       "</style>\n",
       "<table border=\"1\" class=\"dataframe\">\n",
       "  <thead>\n",
       "    <tr style=\"text-align: right;\">\n",
       "      <th></th>\n",
       "      <th>Merek Sneaker</th>\n",
       "      <th>Nama Sneaker</th>\n",
       "      <th>ID Sneaker</th>\n",
       "      <th>Jml Toko Jual</th>\n",
       "      <th>Available</th>\n",
       "      <th>Harga Sneaker</th>\n",
       "      <th>Diskon</th>\n",
       "    </tr>\n",
       "  </thead>\n",
       "  <tbody>\n",
       "    <tr>\n",
       "      <th>0</th>\n",
       "      <td>Nike</td>\n",
       "      <td>Killshot 2</td>\n",
       "      <td>FZ5630-100</td>\n",
       "      <td>21 Shops</td>\n",
       "      <td>Available in several sizes</td>\n",
       "      <td>76,00 €</td>\n",
       "      <td>20%</td>\n",
       "    </tr>\n",
       "    <tr>\n",
       "      <th>1</th>\n",
       "      <td>Jordan</td>\n",
       "      <td>1</td>\n",
       "      <td>553558-072</td>\n",
       "      <td>21 Shops</td>\n",
       "      <td>Available in several sizes</td>\n",
       "      <td>73,00 €</td>\n",
       "      <td>30%</td>\n",
       "    </tr>\n",
       "    <tr>\n",
       "      <th>2</th>\n",
       "      <td>Nike</td>\n",
       "      <td>Air Max 1 87 Leopard</td>\n",
       "      <td>FV6605-200</td>\n",
       "      <td>21 Shops</td>\n",
       "      <td>Available in several sizes</td>\n",
       "      <td>144,00 €</td>\n",
       "      <td>10%</td>\n",
       "    </tr>\n",
       "    <tr>\n",
       "      <th>3</th>\n",
       "      <td>Nike</td>\n",
       "      <td>100</td>\n",
       "      <td>FD7039-200</td>\n",
       "      <td>21 Shops</td>\n",
       "      <td>Available in several sizes</td>\n",
       "      <td>83,00 €</td>\n",
       "      <td>45%</td>\n",
       "    </tr>\n",
       "    <tr>\n",
       "      <th>4</th>\n",
       "      <td>Nike</td>\n",
       "      <td>Air Max 1 SC Light Dust</td>\n",
       "      <td>FB9660-002</td>\n",
       "      <td>21 Shops</td>\n",
       "      <td>Available in several sizes</td>\n",
       "      <td>96,00 €</td>\n",
       "      <td>45%</td>\n",
       "    </tr>\n",
       "    <tr>\n",
       "      <th>...</th>\n",
       "      <td>...</td>\n",
       "      <td>...</td>\n",
       "      <td>...</td>\n",
       "      <td>...</td>\n",
       "      <td>...</td>\n",
       "      <td>...</td>\n",
       "      <td>...</td>\n",
       "    </tr>\n",
       "    <tr>\n",
       "      <th>194712</th>\n",
       "      <td>Adidas</td>\n",
       "      <td>Tubular Runner Primeknit</td>\n",
       "      <td>B25573</td>\n",
       "      <td>1 Shops</td>\n",
       "      <td>Available in several sizes</td>\n",
       "      <td>$ 110.00</td>\n",
       "      <td>Diskon tidak tersedia</td>\n",
       "    </tr>\n",
       "    <tr>\n",
       "      <th>194713</th>\n",
       "      <td>Adidas</td>\n",
       "      <td>Superstar 80S Primeknit</td>\n",
       "      <td>S82780</td>\n",
       "      <td>1 Shops</td>\n",
       "      <td>Available in several sizes</td>\n",
       "      <td>$ 119.00</td>\n",
       "      <td>Diskon tidak tersedia</td>\n",
       "    </tr>\n",
       "    <tr>\n",
       "      <th>194714</th>\n",
       "      <td>Adidas</td>\n",
       "      <td>Y 3 Qr Run</td>\n",
       "      <td>AQ5497</td>\n",
       "      <td>1 Shops</td>\n",
       "      <td>Available in several sizes</td>\n",
       "      <td>$ 406.00</td>\n",
       "      <td>Diskon tidak tersedia</td>\n",
       "    </tr>\n",
       "    <tr>\n",
       "      <th>194715</th>\n",
       "      <td>Adidas</td>\n",
       "      <td>Y 3 Retro Boost</td>\n",
       "      <td>AQ5494</td>\n",
       "      <td>1 Shops</td>\n",
       "      <td>Available in several sizes</td>\n",
       "      <td>$ 706.00</td>\n",
       "      <td>Diskon tidak tersedia</td>\n",
       "    </tr>\n",
       "    <tr>\n",
       "      <th>194716</th>\n",
       "      <td>Adidas</td>\n",
       "      <td>Superstar 80S</td>\n",
       "      <td>S75056</td>\n",
       "      <td>1 Shops</td>\n",
       "      <td>NaN</td>\n",
       "      <td>$ 2,486.00</td>\n",
       "      <td>Diskon tidak tersedia</td>\n",
       "    </tr>\n",
       "  </tbody>\n",
       "</table>\n",
       "<p>149902 rows × 7 columns</p>\n",
       "</div>"
      ],
      "text/plain": [
       "       Merek Sneaker              Nama Sneaker  ID Sneaker Jml Toko Jual  \\\n",
       "0               Nike                Killshot 2  FZ5630-100      21 Shops   \n",
       "1             Jordan                         1  553558-072      21 Shops   \n",
       "2               Nike      Air Max 1 87 Leopard  FV6605-200      21 Shops   \n",
       "3               Nike                       100  FD7039-200      21 Shops   \n",
       "4               Nike   Air Max 1 SC Light Dust  FB9660-002      21 Shops   \n",
       "...              ...                       ...         ...           ...   \n",
       "194712        Adidas  Tubular Runner Primeknit      B25573       1 Shops   \n",
       "194713        Adidas   Superstar 80S Primeknit      S82780       1 Shops   \n",
       "194714        Adidas                Y 3 Qr Run      AQ5497       1 Shops   \n",
       "194715        Adidas           Y 3 Retro Boost      AQ5494       1 Shops   \n",
       "194716        Adidas             Superstar 80S      S75056       1 Shops   \n",
       "\n",
       "                         Available Harga Sneaker                 Diskon  \n",
       "0       Available in several sizes       76,00 €                    20%  \n",
       "1       Available in several sizes       73,00 €                    30%  \n",
       "2       Available in several sizes      144,00 €                    10%  \n",
       "3       Available in several sizes       83,00 €                    45%  \n",
       "4       Available in several sizes       96,00 €                    45%  \n",
       "...                            ...           ...                    ...  \n",
       "194712  Available in several sizes      $ 110.00  Diskon tidak tersedia  \n",
       "194713  Available in several sizes      $ 119.00  Diskon tidak tersedia  \n",
       "194714  Available in several sizes      $ 406.00  Diskon tidak tersedia  \n",
       "194715  Available in several sizes      $ 706.00  Diskon tidak tersedia  \n",
       "194716                         NaN    $ 2,486.00  Diskon tidak tersedia  \n",
       "\n",
       "[149902 rows x 7 columns]"
      ]
     },
     "execution_count": 8,
     "metadata": {},
     "output_type": "execute_result"
    }
   ],
   "source": [
    "data_bersih"
   ]
  },
  {
   "cell_type": "code",
   "execution_count": 9,
   "id": "2e00ed87",
   "metadata": {},
   "outputs": [
    {
     "data": {
      "text/html": [
       "<div>\n",
       "<style scoped>\n",
       "    .dataframe tbody tr th:only-of-type {\n",
       "        vertical-align: middle;\n",
       "    }\n",
       "\n",
       "    .dataframe tbody tr th {\n",
       "        vertical-align: top;\n",
       "    }\n",
       "\n",
       "    .dataframe thead th {\n",
       "        text-align: right;\n",
       "    }\n",
       "</style>\n",
       "<table border=\"1\" class=\"dataframe\">\n",
       "  <thead>\n",
       "    <tr style=\"text-align: right;\">\n",
       "      <th></th>\n",
       "      <th>Merek Sneaker</th>\n",
       "      <th>Nama Sneaker</th>\n",
       "      <th>ID Sneaker</th>\n",
       "      <th>Jml Toko Jual</th>\n",
       "      <th>Available</th>\n",
       "      <th>Diskon</th>\n",
       "      <th>Harga</th>\n",
       "    </tr>\n",
       "  </thead>\n",
       "  <tbody>\n",
       "    <tr>\n",
       "      <th>0</th>\n",
       "      <td>Nike</td>\n",
       "      <td>Killshot 2</td>\n",
       "      <td>FZ5630-100</td>\n",
       "      <td>21 Shops</td>\n",
       "      <td>Available in several sizes</td>\n",
       "      <td>20%</td>\n",
       "      <td>76,00 €</td>\n",
       "    </tr>\n",
       "    <tr>\n",
       "      <th>1</th>\n",
       "      <td>Jordan</td>\n",
       "      <td>1</td>\n",
       "      <td>553558-072</td>\n",
       "      <td>21 Shops</td>\n",
       "      <td>Available in several sizes</td>\n",
       "      <td>30%</td>\n",
       "      <td>73,00 €</td>\n",
       "    </tr>\n",
       "    <tr>\n",
       "      <th>2</th>\n",
       "      <td>Nike</td>\n",
       "      <td>Air Max 1 87 Leopard</td>\n",
       "      <td>FV6605-200</td>\n",
       "      <td>21 Shops</td>\n",
       "      <td>Available in several sizes</td>\n",
       "      <td>10%</td>\n",
       "      <td>144,00 €</td>\n",
       "    </tr>\n",
       "    <tr>\n",
       "      <th>3</th>\n",
       "      <td>Nike</td>\n",
       "      <td>100</td>\n",
       "      <td>FD7039-200</td>\n",
       "      <td>21 Shops</td>\n",
       "      <td>Available in several sizes</td>\n",
       "      <td>45%</td>\n",
       "      <td>83,00 €</td>\n",
       "    </tr>\n",
       "    <tr>\n",
       "      <th>4</th>\n",
       "      <td>Nike</td>\n",
       "      <td>Air Max 1 SC Light Dust</td>\n",
       "      <td>FB9660-002</td>\n",
       "      <td>21 Shops</td>\n",
       "      <td>Available in several sizes</td>\n",
       "      <td>45%</td>\n",
       "      <td>96,00 €</td>\n",
       "    </tr>\n",
       "    <tr>\n",
       "      <th>...</th>\n",
       "      <td>...</td>\n",
       "      <td>...</td>\n",
       "      <td>...</td>\n",
       "      <td>...</td>\n",
       "      <td>...</td>\n",
       "      <td>...</td>\n",
       "      <td>...</td>\n",
       "    </tr>\n",
       "    <tr>\n",
       "      <th>194712</th>\n",
       "      <td>Adidas</td>\n",
       "      <td>Tubular Runner Primeknit</td>\n",
       "      <td>B25573</td>\n",
       "      <td>1 Shops</td>\n",
       "      <td>Available in several sizes</td>\n",
       "      <td>Diskon tidak tersedia</td>\n",
       "      <td>$ 110.00</td>\n",
       "    </tr>\n",
       "    <tr>\n",
       "      <th>194713</th>\n",
       "      <td>Adidas</td>\n",
       "      <td>Superstar 80S Primeknit</td>\n",
       "      <td>S82780</td>\n",
       "      <td>1 Shops</td>\n",
       "      <td>Available in several sizes</td>\n",
       "      <td>Diskon tidak tersedia</td>\n",
       "      <td>$ 119.00</td>\n",
       "    </tr>\n",
       "    <tr>\n",
       "      <th>194714</th>\n",
       "      <td>Adidas</td>\n",
       "      <td>Y 3 Qr Run</td>\n",
       "      <td>AQ5497</td>\n",
       "      <td>1 Shops</td>\n",
       "      <td>Available in several sizes</td>\n",
       "      <td>Diskon tidak tersedia</td>\n",
       "      <td>$ 406.00</td>\n",
       "    </tr>\n",
       "    <tr>\n",
       "      <th>194715</th>\n",
       "      <td>Adidas</td>\n",
       "      <td>Y 3 Retro Boost</td>\n",
       "      <td>AQ5494</td>\n",
       "      <td>1 Shops</td>\n",
       "      <td>Available in several sizes</td>\n",
       "      <td>Diskon tidak tersedia</td>\n",
       "      <td>$ 706.00</td>\n",
       "    </tr>\n",
       "    <tr>\n",
       "      <th>194716</th>\n",
       "      <td>Adidas</td>\n",
       "      <td>Superstar 80S</td>\n",
       "      <td>S75056</td>\n",
       "      <td>1 Shops</td>\n",
       "      <td>NaN</td>\n",
       "      <td>Diskon tidak tersedia</td>\n",
       "      <td>$ 2,486.00</td>\n",
       "    </tr>\n",
       "  </tbody>\n",
       "</table>\n",
       "<p>149902 rows × 7 columns</p>\n",
       "</div>"
      ],
      "text/plain": [
       "       Merek Sneaker              Nama Sneaker  ID Sneaker Jml Toko Jual  \\\n",
       "0               Nike                Killshot 2  FZ5630-100      21 Shops   \n",
       "1             Jordan                         1  553558-072      21 Shops   \n",
       "2               Nike      Air Max 1 87 Leopard  FV6605-200      21 Shops   \n",
       "3               Nike                       100  FD7039-200      21 Shops   \n",
       "4               Nike   Air Max 1 SC Light Dust  FB9660-002      21 Shops   \n",
       "...              ...                       ...         ...           ...   \n",
       "194712        Adidas  Tubular Runner Primeknit      B25573       1 Shops   \n",
       "194713        Adidas   Superstar 80S Primeknit      S82780       1 Shops   \n",
       "194714        Adidas                Y 3 Qr Run      AQ5497       1 Shops   \n",
       "194715        Adidas           Y 3 Retro Boost      AQ5494       1 Shops   \n",
       "194716        Adidas             Superstar 80S      S75056       1 Shops   \n",
       "\n",
       "                         Available                 Diskon       Harga  \n",
       "0       Available in several sizes                    20%     76,00 €  \n",
       "1       Available in several sizes                    30%     73,00 €  \n",
       "2       Available in several sizes                    10%    144,00 €  \n",
       "3       Available in several sizes                    45%     83,00 €  \n",
       "4       Available in several sizes                    45%     96,00 €  \n",
       "...                            ...                    ...         ...  \n",
       "194712  Available in several sizes  Diskon tidak tersedia    $ 110.00  \n",
       "194713  Available in several sizes  Diskon tidak tersedia    $ 119.00  \n",
       "194714  Available in several sizes  Diskon tidak tersedia    $ 406.00  \n",
       "194715  Available in several sizes  Diskon tidak tersedia    $ 706.00  \n",
       "194716                         NaN  Diskon tidak tersedia  $ 2,486.00  \n",
       "\n",
       "[149902 rows x 7 columns]"
      ]
     },
     "execution_count": 9,
     "metadata": {},
     "output_type": "execute_result"
    }
   ],
   "source": [
    "data_bersih['Harga'] = data_bersih['Harga Sneaker']\n",
    "data = data_bersih.drop('Harga Sneaker', axis=1)\n",
    "data"
   ]
  },
  {
   "cell_type": "markdown",
   "id": "8ebb8319",
   "metadata": {},
   "source": [
    "#### Konversi mata uang menjadi Rupiah"
   ]
  },
  {
   "cell_type": "code",
   "execution_count": 10,
   "id": "82bbe4a2",
   "metadata": {},
   "outputs": [],
   "source": [
    "data['euro'] = data['Harga'].apply(lambda x: 1 if '€' in x else 0)"
   ]
  },
  {
   "cell_type": "code",
   "execution_count": 11,
   "id": "5ce77498",
   "metadata": {},
   "outputs": [],
   "source": [
    "data['dolar'] = data['Harga'].apply(lambda x: 1 if '$' in x else 0)"
   ]
  },
  {
   "cell_type": "code",
   "execution_count": 15,
   "id": "15cd058a",
   "metadata": {},
   "outputs": [],
   "source": [
    "data['Harga'] = data['Harga'].str.replace(' €', '').str.replace('$ ', '')"
   ]
  },
  {
   "cell_type": "code",
   "execution_count": 18,
   "id": "83305c81",
   "metadata": {},
   "outputs": [],
   "source": [
    "def hapus_data_setelah_koma1(kolom):\n",
    "    if kolom['euro'] == 1:\n",
    "        return kolom['Harga'].split(',')[0]  # ambil data bagian sebelum koma\n",
    "    else:\n",
    "        return kolom['Harga']"
   ]
  },
  {
   "cell_type": "code",
   "execution_count": 19,
   "id": "9d5c30fb",
   "metadata": {},
   "outputs": [],
   "source": [
    "data['Harga'] = data.apply(hapus_data_setelah_koma1, axis=1)"
   ]
  },
  {
   "cell_type": "code",
   "execution_count": 22,
   "id": "80036d84",
   "metadata": {},
   "outputs": [],
   "source": [
    "def hapus_data_setelah_koma2(kolom):\n",
    "    if kolom['dolar'] == 1:\n",
    "        return kolom['Harga'].split('.')[0]  # ambil data bagian sebelum titik\n",
    "    else:\n",
    "        return kolom['Harga']"
   ]
  },
  {
   "cell_type": "code",
   "execution_count": 23,
   "id": "f2320de3",
   "metadata": {},
   "outputs": [],
   "source": [
    "data['Harga'] = data.apply(hapus_data_setelah_koma2, axis=1)"
   ]
  },
  {
   "cell_type": "code",
   "execution_count": 25,
   "id": "9058b2df",
   "metadata": {},
   "outputs": [],
   "source": [
    "def hapus_koma_jika_dolar(kolom):\n",
    "    if kolom['dolar'] == 1:\n",
    "        return kolom['Harga'].replace(',', '')  # Menghapus tanda koma\n",
    "    else:\n",
    "        return kolom['Harga']"
   ]
  },
  {
   "cell_type": "code",
   "execution_count": 26,
   "id": "b66bd1fd",
   "metadata": {},
   "outputs": [
    {
     "data": {
      "text/html": [
       "<div>\n",
       "<style scoped>\n",
       "    .dataframe tbody tr th:only-of-type {\n",
       "        vertical-align: middle;\n",
       "    }\n",
       "\n",
       "    .dataframe tbody tr th {\n",
       "        vertical-align: top;\n",
       "    }\n",
       "\n",
       "    .dataframe thead th {\n",
       "        text-align: right;\n",
       "    }\n",
       "</style>\n",
       "<table border=\"1\" class=\"dataframe\">\n",
       "  <thead>\n",
       "    <tr style=\"text-align: right;\">\n",
       "      <th></th>\n",
       "      <th>Merek Sneaker</th>\n",
       "      <th>Nama Sneaker</th>\n",
       "      <th>ID Sneaker</th>\n",
       "      <th>Jml Toko Jual</th>\n",
       "      <th>Available</th>\n",
       "      <th>Diskon</th>\n",
       "      <th>Harga</th>\n",
       "      <th>euro</th>\n",
       "      <th>dolar</th>\n",
       "    </tr>\n",
       "  </thead>\n",
       "  <tbody>\n",
       "    <tr>\n",
       "      <th>0</th>\n",
       "      <td>Nike</td>\n",
       "      <td>Killshot 2</td>\n",
       "      <td>FZ5630-100</td>\n",
       "      <td>21 Shops</td>\n",
       "      <td>Available in several sizes</td>\n",
       "      <td>20%</td>\n",
       "      <td>76</td>\n",
       "      <td>1</td>\n",
       "      <td>0</td>\n",
       "    </tr>\n",
       "    <tr>\n",
       "      <th>1</th>\n",
       "      <td>Jordan</td>\n",
       "      <td>1</td>\n",
       "      <td>553558-072</td>\n",
       "      <td>21 Shops</td>\n",
       "      <td>Available in several sizes</td>\n",
       "      <td>30%</td>\n",
       "      <td>73</td>\n",
       "      <td>1</td>\n",
       "      <td>0</td>\n",
       "    </tr>\n",
       "    <tr>\n",
       "      <th>2</th>\n",
       "      <td>Nike</td>\n",
       "      <td>Air Max 1 87 Leopard</td>\n",
       "      <td>FV6605-200</td>\n",
       "      <td>21 Shops</td>\n",
       "      <td>Available in several sizes</td>\n",
       "      <td>10%</td>\n",
       "      <td>144</td>\n",
       "      <td>1</td>\n",
       "      <td>0</td>\n",
       "    </tr>\n",
       "    <tr>\n",
       "      <th>3</th>\n",
       "      <td>Nike</td>\n",
       "      <td>100</td>\n",
       "      <td>FD7039-200</td>\n",
       "      <td>21 Shops</td>\n",
       "      <td>Available in several sizes</td>\n",
       "      <td>45%</td>\n",
       "      <td>83</td>\n",
       "      <td>1</td>\n",
       "      <td>0</td>\n",
       "    </tr>\n",
       "    <tr>\n",
       "      <th>4</th>\n",
       "      <td>Nike</td>\n",
       "      <td>Air Max 1 SC Light Dust</td>\n",
       "      <td>FB9660-002</td>\n",
       "      <td>21 Shops</td>\n",
       "      <td>Available in several sizes</td>\n",
       "      <td>45%</td>\n",
       "      <td>96</td>\n",
       "      <td>1</td>\n",
       "      <td>0</td>\n",
       "    </tr>\n",
       "    <tr>\n",
       "      <th>...</th>\n",
       "      <td>...</td>\n",
       "      <td>...</td>\n",
       "      <td>...</td>\n",
       "      <td>...</td>\n",
       "      <td>...</td>\n",
       "      <td>...</td>\n",
       "      <td>...</td>\n",
       "      <td>...</td>\n",
       "      <td>...</td>\n",
       "    </tr>\n",
       "    <tr>\n",
       "      <th>194712</th>\n",
       "      <td>Adidas</td>\n",
       "      <td>Tubular Runner Primeknit</td>\n",
       "      <td>B25573</td>\n",
       "      <td>1 Shops</td>\n",
       "      <td>Available in several sizes</td>\n",
       "      <td>Diskon tidak tersedia</td>\n",
       "      <td>110</td>\n",
       "      <td>0</td>\n",
       "      <td>1</td>\n",
       "    </tr>\n",
       "    <tr>\n",
       "      <th>194713</th>\n",
       "      <td>Adidas</td>\n",
       "      <td>Superstar 80S Primeknit</td>\n",
       "      <td>S82780</td>\n",
       "      <td>1 Shops</td>\n",
       "      <td>Available in several sizes</td>\n",
       "      <td>Diskon tidak tersedia</td>\n",
       "      <td>119</td>\n",
       "      <td>0</td>\n",
       "      <td>1</td>\n",
       "    </tr>\n",
       "    <tr>\n",
       "      <th>194714</th>\n",
       "      <td>Adidas</td>\n",
       "      <td>Y 3 Qr Run</td>\n",
       "      <td>AQ5497</td>\n",
       "      <td>1 Shops</td>\n",
       "      <td>Available in several sizes</td>\n",
       "      <td>Diskon tidak tersedia</td>\n",
       "      <td>406</td>\n",
       "      <td>0</td>\n",
       "      <td>1</td>\n",
       "    </tr>\n",
       "    <tr>\n",
       "      <th>194715</th>\n",
       "      <td>Adidas</td>\n",
       "      <td>Y 3 Retro Boost</td>\n",
       "      <td>AQ5494</td>\n",
       "      <td>1 Shops</td>\n",
       "      <td>Available in several sizes</td>\n",
       "      <td>Diskon tidak tersedia</td>\n",
       "      <td>706</td>\n",
       "      <td>0</td>\n",
       "      <td>1</td>\n",
       "    </tr>\n",
       "    <tr>\n",
       "      <th>194716</th>\n",
       "      <td>Adidas</td>\n",
       "      <td>Superstar 80S</td>\n",
       "      <td>S75056</td>\n",
       "      <td>1 Shops</td>\n",
       "      <td>NaN</td>\n",
       "      <td>Diskon tidak tersedia</td>\n",
       "      <td>2486</td>\n",
       "      <td>0</td>\n",
       "      <td>1</td>\n",
       "    </tr>\n",
       "  </tbody>\n",
       "</table>\n",
       "<p>149902 rows × 9 columns</p>\n",
       "</div>"
      ],
      "text/plain": [
       "       Merek Sneaker              Nama Sneaker  ID Sneaker Jml Toko Jual  \\\n",
       "0               Nike                Killshot 2  FZ5630-100      21 Shops   \n",
       "1             Jordan                         1  553558-072      21 Shops   \n",
       "2               Nike      Air Max 1 87 Leopard  FV6605-200      21 Shops   \n",
       "3               Nike                       100  FD7039-200      21 Shops   \n",
       "4               Nike   Air Max 1 SC Light Dust  FB9660-002      21 Shops   \n",
       "...              ...                       ...         ...           ...   \n",
       "194712        Adidas  Tubular Runner Primeknit      B25573       1 Shops   \n",
       "194713        Adidas   Superstar 80S Primeknit      S82780       1 Shops   \n",
       "194714        Adidas                Y 3 Qr Run      AQ5497       1 Shops   \n",
       "194715        Adidas           Y 3 Retro Boost      AQ5494       1 Shops   \n",
       "194716        Adidas             Superstar 80S      S75056       1 Shops   \n",
       "\n",
       "                         Available                 Diskon Harga  euro  dolar  \n",
       "0       Available in several sizes                    20%    76     1      0  \n",
       "1       Available in several sizes                    30%    73     1      0  \n",
       "2       Available in several sizes                    10%   144     1      0  \n",
       "3       Available in several sizes                    45%    83     1      0  \n",
       "4       Available in several sizes                    45%    96     1      0  \n",
       "...                            ...                    ...   ...   ...    ...  \n",
       "194712  Available in several sizes  Diskon tidak tersedia   110     0      1  \n",
       "194713  Available in several sizes  Diskon tidak tersedia   119     0      1  \n",
       "194714  Available in several sizes  Diskon tidak tersedia   406     0      1  \n",
       "194715  Available in several sizes  Diskon tidak tersedia   706     0      1  \n",
       "194716                         NaN  Diskon tidak tersedia  2486     0      1  \n",
       "\n",
       "[149902 rows x 9 columns]"
      ]
     },
     "execution_count": 26,
     "metadata": {},
     "output_type": "execute_result"
    }
   ],
   "source": [
    "data['Harga'] = data.apply(hapus_koma_jika_dolar, axis=1)"
   ]
  },
  {
   "cell_type": "code",
   "execution_count": 27,
   "id": "3c5f192b",
   "metadata": {},
   "outputs": [],
   "source": [
    "def hapus_titik_jika_euro(kolom):\n",
    "    if kolom['dolar'] == 1:\n",
    "        return kolom['Harga'].replace('.', '')  # Menghapus tanda koma\n",
    "    else:\n",
    "        return kolom['Harga']"
   ]
  },
  {
   "cell_type": "code",
   "execution_count": 28,
   "id": "34fd4845",
   "metadata": {},
   "outputs": [
    {
     "data": {
      "text/html": [
       "<div>\n",
       "<style scoped>\n",
       "    .dataframe tbody tr th:only-of-type {\n",
       "        vertical-align: middle;\n",
       "    }\n",
       "\n",
       "    .dataframe tbody tr th {\n",
       "        vertical-align: top;\n",
       "    }\n",
       "\n",
       "    .dataframe thead th {\n",
       "        text-align: right;\n",
       "    }\n",
       "</style>\n",
       "<table border=\"1\" class=\"dataframe\">\n",
       "  <thead>\n",
       "    <tr style=\"text-align: right;\">\n",
       "      <th></th>\n",
       "      <th>Merek Sneaker</th>\n",
       "      <th>Nama Sneaker</th>\n",
       "      <th>ID Sneaker</th>\n",
       "      <th>Jml Toko Jual</th>\n",
       "      <th>Available</th>\n",
       "      <th>Diskon</th>\n",
       "      <th>Harga</th>\n",
       "      <th>euro</th>\n",
       "      <th>dolar</th>\n",
       "    </tr>\n",
       "  </thead>\n",
       "  <tbody>\n",
       "    <tr>\n",
       "      <th>0</th>\n",
       "      <td>Nike</td>\n",
       "      <td>Killshot 2</td>\n",
       "      <td>FZ5630-100</td>\n",
       "      <td>21 Shops</td>\n",
       "      <td>Available in several sizes</td>\n",
       "      <td>20%</td>\n",
       "      <td>76</td>\n",
       "      <td>1</td>\n",
       "      <td>0</td>\n",
       "    </tr>\n",
       "    <tr>\n",
       "      <th>1</th>\n",
       "      <td>Jordan</td>\n",
       "      <td>1</td>\n",
       "      <td>553558-072</td>\n",
       "      <td>21 Shops</td>\n",
       "      <td>Available in several sizes</td>\n",
       "      <td>30%</td>\n",
       "      <td>73</td>\n",
       "      <td>1</td>\n",
       "      <td>0</td>\n",
       "    </tr>\n",
       "    <tr>\n",
       "      <th>2</th>\n",
       "      <td>Nike</td>\n",
       "      <td>Air Max 1 87 Leopard</td>\n",
       "      <td>FV6605-200</td>\n",
       "      <td>21 Shops</td>\n",
       "      <td>Available in several sizes</td>\n",
       "      <td>10%</td>\n",
       "      <td>144</td>\n",
       "      <td>1</td>\n",
       "      <td>0</td>\n",
       "    </tr>\n",
       "    <tr>\n",
       "      <th>3</th>\n",
       "      <td>Nike</td>\n",
       "      <td>100</td>\n",
       "      <td>FD7039-200</td>\n",
       "      <td>21 Shops</td>\n",
       "      <td>Available in several sizes</td>\n",
       "      <td>45%</td>\n",
       "      <td>83</td>\n",
       "      <td>1</td>\n",
       "      <td>0</td>\n",
       "    </tr>\n",
       "    <tr>\n",
       "      <th>4</th>\n",
       "      <td>Nike</td>\n",
       "      <td>Air Max 1 SC Light Dust</td>\n",
       "      <td>FB9660-002</td>\n",
       "      <td>21 Shops</td>\n",
       "      <td>Available in several sizes</td>\n",
       "      <td>45%</td>\n",
       "      <td>96</td>\n",
       "      <td>1</td>\n",
       "      <td>0</td>\n",
       "    </tr>\n",
       "    <tr>\n",
       "      <th>...</th>\n",
       "      <td>...</td>\n",
       "      <td>...</td>\n",
       "      <td>...</td>\n",
       "      <td>...</td>\n",
       "      <td>...</td>\n",
       "      <td>...</td>\n",
       "      <td>...</td>\n",
       "      <td>...</td>\n",
       "      <td>...</td>\n",
       "    </tr>\n",
       "    <tr>\n",
       "      <th>194712</th>\n",
       "      <td>Adidas</td>\n",
       "      <td>Tubular Runner Primeknit</td>\n",
       "      <td>B25573</td>\n",
       "      <td>1 Shops</td>\n",
       "      <td>Available in several sizes</td>\n",
       "      <td>Diskon tidak tersedia</td>\n",
       "      <td>110</td>\n",
       "      <td>0</td>\n",
       "      <td>1</td>\n",
       "    </tr>\n",
       "    <tr>\n",
       "      <th>194713</th>\n",
       "      <td>Adidas</td>\n",
       "      <td>Superstar 80S Primeknit</td>\n",
       "      <td>S82780</td>\n",
       "      <td>1 Shops</td>\n",
       "      <td>Available in several sizes</td>\n",
       "      <td>Diskon tidak tersedia</td>\n",
       "      <td>119</td>\n",
       "      <td>0</td>\n",
       "      <td>1</td>\n",
       "    </tr>\n",
       "    <tr>\n",
       "      <th>194714</th>\n",
       "      <td>Adidas</td>\n",
       "      <td>Y 3 Qr Run</td>\n",
       "      <td>AQ5497</td>\n",
       "      <td>1 Shops</td>\n",
       "      <td>Available in several sizes</td>\n",
       "      <td>Diskon tidak tersedia</td>\n",
       "      <td>406</td>\n",
       "      <td>0</td>\n",
       "      <td>1</td>\n",
       "    </tr>\n",
       "    <tr>\n",
       "      <th>194715</th>\n",
       "      <td>Adidas</td>\n",
       "      <td>Y 3 Retro Boost</td>\n",
       "      <td>AQ5494</td>\n",
       "      <td>1 Shops</td>\n",
       "      <td>Available in several sizes</td>\n",
       "      <td>Diskon tidak tersedia</td>\n",
       "      <td>706</td>\n",
       "      <td>0</td>\n",
       "      <td>1</td>\n",
       "    </tr>\n",
       "    <tr>\n",
       "      <th>194716</th>\n",
       "      <td>Adidas</td>\n",
       "      <td>Superstar 80S</td>\n",
       "      <td>S75056</td>\n",
       "      <td>1 Shops</td>\n",
       "      <td>NaN</td>\n",
       "      <td>Diskon tidak tersedia</td>\n",
       "      <td>2486</td>\n",
       "      <td>0</td>\n",
       "      <td>1</td>\n",
       "    </tr>\n",
       "  </tbody>\n",
       "</table>\n",
       "<p>149902 rows × 9 columns</p>\n",
       "</div>"
      ],
      "text/plain": [
       "       Merek Sneaker              Nama Sneaker  ID Sneaker Jml Toko Jual  \\\n",
       "0               Nike                Killshot 2  FZ5630-100      21 Shops   \n",
       "1             Jordan                         1  553558-072      21 Shops   \n",
       "2               Nike      Air Max 1 87 Leopard  FV6605-200      21 Shops   \n",
       "3               Nike                       100  FD7039-200      21 Shops   \n",
       "4               Nike   Air Max 1 SC Light Dust  FB9660-002      21 Shops   \n",
       "...              ...                       ...         ...           ...   \n",
       "194712        Adidas  Tubular Runner Primeknit      B25573       1 Shops   \n",
       "194713        Adidas   Superstar 80S Primeknit      S82780       1 Shops   \n",
       "194714        Adidas                Y 3 Qr Run      AQ5497       1 Shops   \n",
       "194715        Adidas           Y 3 Retro Boost      AQ5494       1 Shops   \n",
       "194716        Adidas             Superstar 80S      S75056       1 Shops   \n",
       "\n",
       "                         Available                 Diskon Harga  euro  dolar  \n",
       "0       Available in several sizes                    20%    76     1      0  \n",
       "1       Available in several sizes                    30%    73     1      0  \n",
       "2       Available in several sizes                    10%   144     1      0  \n",
       "3       Available in several sizes                    45%    83     1      0  \n",
       "4       Available in several sizes                    45%    96     1      0  \n",
       "...                            ...                    ...   ...   ...    ...  \n",
       "194712  Available in several sizes  Diskon tidak tersedia   110     0      1  \n",
       "194713  Available in several sizes  Diskon tidak tersedia   119     0      1  \n",
       "194714  Available in several sizes  Diskon tidak tersedia   406     0      1  \n",
       "194715  Available in several sizes  Diskon tidak tersedia   706     0      1  \n",
       "194716                         NaN  Diskon tidak tersedia  2486     0      1  \n",
       "\n",
       "[149902 rows x 9 columns]"
      ]
     },
     "execution_count": 28,
     "metadata": {},
     "output_type": "execute_result"
    }
   ],
   "source": [
    "data['Harga'] = data.apply(hapus_titik_jika_euro, axis=1)\n",
    "data"
   ]
  },
  {
   "cell_type": "code",
   "execution_count": 31,
   "id": "24438601",
   "metadata": {},
   "outputs": [],
   "source": [
    "data['Harga'] = data['Harga'].astype(float)"
   ]
  },
  {
   "cell_type": "code",
   "execution_count": 33,
   "id": "39e65d5b",
   "metadata": {},
   "outputs": [],
   "source": [
    "def harga_rupiah(baris):\n",
    "    if baris['dolar'] == 1:\n",
    "        return baris['Harga'] * 16235 # dolar to idr\n",
    "    elif baris['euro'] == 1:\n",
    "        return baris['Harga'] * 17294.30 # euro to idr\n",
    "    else:\n",
    "        return baris['Harga'] "
   ]
  },
  {
   "cell_type": "code",
   "execution_count": 34,
   "id": "f6b24ca8",
   "metadata": {},
   "outputs": [],
   "source": [
    "data['Harga (Rp)'] = data.apply(harga_rupiah, axis=1)"
   ]
  },
  {
   "cell_type": "code",
   "execution_count": null,
   "id": "a03d0c52",
   "metadata": {},
   "outputs": [],
   "source": [
    "data = data.drop('Harga', axis=1)"
   ]
  },
  {
   "cell_type": "code",
   "execution_count": null,
   "id": "206eb71e",
   "metadata": {},
   "outputs": [],
   "source": [
    "data = data.rename(columns={'Jml Toko Jual': 'Jumlah Toko'})"
   ]
  },
  {
   "cell_type": "code",
   "execution_count": 40,
   "id": "6ee0f779",
   "metadata": {},
   "outputs": [
    {
     "data": {
      "text/plain": [
       "array(['Available in several sizes', nan], dtype=object)"
      ]
     },
     "execution_count": 40,
     "metadata": {},
     "output_type": "execute_result"
    }
   ],
   "source": [
    "data['Available'].unique()"
   ]
  },
  {
   "cell_type": "code",
   "execution_count": 41,
   "id": "5e8d3280",
   "metadata": {},
   "outputs": [
    {
     "data": {
      "application/javascript": [
       "\n",
       "        if (window._pyforest_update_imports_cell) { window._pyforest_update_imports_cell('import matplotlib.pyplot as plt\\nimport numpy as np\\nimport pandas as pd'); }\n",
       "    "
      ],
      "text/plain": [
       "<IPython.core.display.Javascript object>"
      ]
     },
     "metadata": {},
     "output_type": "display_data"
    }
   ],
   "source": [
    "data['Available'] = np.where(data['Available'] == 'Available in several sizes', 1, 0) # if tapi bisa lgs ke integr"
   ]
  },
  {
   "cell_type": "code",
   "execution_count": 45,
   "id": "a12c1ed5",
   "metadata": {},
   "outputs": [],
   "source": [
    "data['Diskon'] = data['Diskon'].str.replace('%', '')"
   ]
  },
  {
   "cell_type": "code",
   "execution_count": 47,
   "id": "015427a0",
   "metadata": {},
   "outputs": [
    {
     "data": {
      "application/javascript": [
       "\n",
       "        if (window._pyforest_update_imports_cell) { window._pyforest_update_imports_cell('import matplotlib.pyplot as plt\\nimport numpy as np\\nimport pandas as pd'); }\n",
       "    "
      ],
      "text/plain": [
       "<IPython.core.display.Javascript object>"
      ]
     },
     "metadata": {},
     "output_type": "display_data"
    }
   ],
   "source": [
    "data['Diskon'] = np.where(data['Diskon'] == 'Diskon tidak tersedia', 0, data['Diskon'])"
   ]
  },
  {
   "cell_type": "code",
   "execution_count": 49,
   "id": "66e01fd1",
   "metadata": {},
   "outputs": [
    {
     "data": {
      "text/plain": [
       "array(['21 Shops', '20 Shops', '19 Shops', '18 Shops', '17 Shops',\n",
       "       '16 Shops', '15 Shops', '14 Shops', '13 Shops', '12 Shops',\n",
       "       '11 Shops', '10 Shops', '9 Shops', '8 Shops', '7 Shops', '6 Shops',\n",
       "       '5 Shops', '4 Shops', '3 Shops', '2 Shops', '1 Shops'],\n",
       "      dtype=object)"
      ]
     },
     "execution_count": 49,
     "metadata": {},
     "output_type": "execute_result"
    }
   ],
   "source": [
    "data['Jumlah Toko'].unique()"
   ]
  },
  {
   "cell_type": "markdown",
   "id": "1be66bcf",
   "metadata": {},
   "source": [
    "dikarenakan fitur Jumlah Toko itu merupakan data kategorikal ordinal. maka aku terapin label encoding, selain itu juga sepertinya kolom sedikit"
   ]
  },
  {
   "cell_type": "code",
   "execution_count": 51,
   "id": "d70b6bee",
   "metadata": {},
   "outputs": [],
   "source": [
    "from sklearn.preprocessing import LabelEncoder\n",
    "label_encoder = LabelEncoder()"
   ]
  },
  {
   "cell_type": "code",
   "execution_count": 52,
   "id": "0f1b6a0b",
   "metadata": {},
   "outputs": [],
   "source": [
    "data['Jumlah Toko Encoded'] = label_encoder.fit_transform(data['Jumlah Toko'])"
   ]
  },
  {
   "cell_type": "code",
   "execution_count": 54,
   "id": "e222ea1b",
   "metadata": {},
   "outputs": [
    {
     "name": "stdout",
     "output_type": "stream",
     "text": [
      "<class 'pandas.core.frame.DataFrame'>\n",
      "Index: 149902 entries, 0 to 194716\n",
      "Data columns (total 10 columns):\n",
      " #   Column               Non-Null Count   Dtype  \n",
      "---  ------               --------------   -----  \n",
      " 0   Merek Sneaker        149898 non-null  object \n",
      " 1   Nama Sneaker         149897 non-null  object \n",
      " 2   ID Sneaker           149901 non-null  object \n",
      " 3   Jumlah Toko          149902 non-null  object \n",
      " 4   Available            149902 non-null  int32  \n",
      " 5   Diskon               149902 non-null  object \n",
      " 6   euro                 149902 non-null  int64  \n",
      " 7   dolar                149902 non-null  int64  \n",
      " 8   Harga (Rp)           149902 non-null  float64\n",
      " 9   Jumlah Toko Encoded  149902 non-null  int32  \n",
      "dtypes: float64(1), int32(2), int64(2), object(5)\n",
      "memory usage: 11.4+ MB\n"
     ]
    }
   ],
   "source": [
    "data.info()"
   ]
  },
  {
   "cell_type": "code",
   "execution_count": 56,
   "id": "2fa7d8d5",
   "metadata": {},
   "outputs": [
    {
     "data": {
      "text/plain": [
       "array([13, 12, 10,  9,  8,  7,  6,  5,  4,  3,  2,  1, 20, 19, 18, 17, 16,\n",
       "       15, 14, 11,  0])"
      ]
     },
     "execution_count": 56,
     "metadata": {},
     "output_type": "execute_result"
    }
   ],
   "source": [
    "data['Jumlah Toko Encoded'].unique()"
   ]
  },
  {
   "cell_type": "code",
   "execution_count": 61,
   "id": "45fae099",
   "metadata": {},
   "outputs": [
    {
     "name": "stdout",
     "output_type": "stream",
     "text": [
      "Data berhasil disimpan ke: C:/Users/Asus/dataset/sneaker_clean.csv\n"
     ]
    }
   ],
   "source": [
    "pat4 = 'C:/Users/Asus/dataset/'\n",
    "\n",
    "nama_file_17 = 'sneaker_clean.csv'\n",
    "\n",
    "full_path_17 = pat4 + nama_file_17\n",
    "\n",
    "data.to_csv(full_path_17, index=False)\n",
    "\n",
    "print(f\"Data berhasil disimpan ke: {full_path_17}\")"
   ]
  },
  {
   "cell_type": "code",
   "execution_count": 62,
   "id": "0e2736b2",
   "metadata": {},
   "outputs": [
    {
     "data": {
      "text/html": [
       "<div>\n",
       "<style scoped>\n",
       "    .dataframe tbody tr th:only-of-type {\n",
       "        vertical-align: middle;\n",
       "    }\n",
       "\n",
       "    .dataframe tbody tr th {\n",
       "        vertical-align: top;\n",
       "    }\n",
       "\n",
       "    .dataframe thead th {\n",
       "        text-align: right;\n",
       "    }\n",
       "</style>\n",
       "<table border=\"1\" class=\"dataframe\">\n",
       "  <thead>\n",
       "    <tr style=\"text-align: right;\">\n",
       "      <th></th>\n",
       "      <th>Merek Sneaker</th>\n",
       "      <th>Nama Sneaker</th>\n",
       "      <th>ID Sneaker</th>\n",
       "      <th>Jumlah Toko</th>\n",
       "      <th>Available</th>\n",
       "      <th>Diskon</th>\n",
       "      <th>euro</th>\n",
       "      <th>dolar</th>\n",
       "      <th>Harga (Rp)</th>\n",
       "      <th>Jumlah Toko Encoded</th>\n",
       "    </tr>\n",
       "  </thead>\n",
       "  <tbody>\n",
       "    <tr>\n",
       "      <th>0</th>\n",
       "      <td>Nike</td>\n",
       "      <td>Killshot 2</td>\n",
       "      <td>FZ5630-100</td>\n",
       "      <td>21 Shops</td>\n",
       "      <td>1</td>\n",
       "      <td>20</td>\n",
       "      <td>1</td>\n",
       "      <td>0</td>\n",
       "      <td>1314366.8</td>\n",
       "      <td>13</td>\n",
       "    </tr>\n",
       "    <tr>\n",
       "      <th>1</th>\n",
       "      <td>Jordan</td>\n",
       "      <td>1</td>\n",
       "      <td>553558-072</td>\n",
       "      <td>21 Shops</td>\n",
       "      <td>1</td>\n",
       "      <td>30</td>\n",
       "      <td>1</td>\n",
       "      <td>0</td>\n",
       "      <td>1262483.9</td>\n",
       "      <td>13</td>\n",
       "    </tr>\n",
       "    <tr>\n",
       "      <th>2</th>\n",
       "      <td>Nike</td>\n",
       "      <td>Air Max 1 87 Leopard</td>\n",
       "      <td>FV6605-200</td>\n",
       "      <td>21 Shops</td>\n",
       "      <td>1</td>\n",
       "      <td>10</td>\n",
       "      <td>1</td>\n",
       "      <td>0</td>\n",
       "      <td>2490379.2</td>\n",
       "      <td>13</td>\n",
       "    </tr>\n",
       "    <tr>\n",
       "      <th>3</th>\n",
       "      <td>Nike</td>\n",
       "      <td>100</td>\n",
       "      <td>FD7039-200</td>\n",
       "      <td>21 Shops</td>\n",
       "      <td>1</td>\n",
       "      <td>45</td>\n",
       "      <td>1</td>\n",
       "      <td>0</td>\n",
       "      <td>1435426.9</td>\n",
       "      <td>13</td>\n",
       "    </tr>\n",
       "    <tr>\n",
       "      <th>4</th>\n",
       "      <td>Nike</td>\n",
       "      <td>Air Max 1 SC Light Dust</td>\n",
       "      <td>FB9660-002</td>\n",
       "      <td>21 Shops</td>\n",
       "      <td>1</td>\n",
       "      <td>45</td>\n",
       "      <td>1</td>\n",
       "      <td>0</td>\n",
       "      <td>1660252.8</td>\n",
       "      <td>13</td>\n",
       "    </tr>\n",
       "    <tr>\n",
       "      <th>...</th>\n",
       "      <td>...</td>\n",
       "      <td>...</td>\n",
       "      <td>...</td>\n",
       "      <td>...</td>\n",
       "      <td>...</td>\n",
       "      <td>...</td>\n",
       "      <td>...</td>\n",
       "      <td>...</td>\n",
       "      <td>...</td>\n",
       "      <td>...</td>\n",
       "    </tr>\n",
       "    <tr>\n",
       "      <th>194712</th>\n",
       "      <td>Adidas</td>\n",
       "      <td>Tubular Runner Primeknit</td>\n",
       "      <td>B25573</td>\n",
       "      <td>1 Shops</td>\n",
       "      <td>1</td>\n",
       "      <td>0</td>\n",
       "      <td>0</td>\n",
       "      <td>1</td>\n",
       "      <td>1785850.0</td>\n",
       "      <td>0</td>\n",
       "    </tr>\n",
       "    <tr>\n",
       "      <th>194713</th>\n",
       "      <td>Adidas</td>\n",
       "      <td>Superstar 80S Primeknit</td>\n",
       "      <td>S82780</td>\n",
       "      <td>1 Shops</td>\n",
       "      <td>1</td>\n",
       "      <td>0</td>\n",
       "      <td>0</td>\n",
       "      <td>1</td>\n",
       "      <td>1931965.0</td>\n",
       "      <td>0</td>\n",
       "    </tr>\n",
       "    <tr>\n",
       "      <th>194714</th>\n",
       "      <td>Adidas</td>\n",
       "      <td>Y 3 Qr Run</td>\n",
       "      <td>AQ5497</td>\n",
       "      <td>1 Shops</td>\n",
       "      <td>1</td>\n",
       "      <td>0</td>\n",
       "      <td>0</td>\n",
       "      <td>1</td>\n",
       "      <td>6591410.0</td>\n",
       "      <td>0</td>\n",
       "    </tr>\n",
       "    <tr>\n",
       "      <th>194715</th>\n",
       "      <td>Adidas</td>\n",
       "      <td>Y 3 Retro Boost</td>\n",
       "      <td>AQ5494</td>\n",
       "      <td>1 Shops</td>\n",
       "      <td>1</td>\n",
       "      <td>0</td>\n",
       "      <td>0</td>\n",
       "      <td>1</td>\n",
       "      <td>11461910.0</td>\n",
       "      <td>0</td>\n",
       "    </tr>\n",
       "    <tr>\n",
       "      <th>194716</th>\n",
       "      <td>Adidas</td>\n",
       "      <td>Superstar 80S</td>\n",
       "      <td>S75056</td>\n",
       "      <td>1 Shops</td>\n",
       "      <td>0</td>\n",
       "      <td>0</td>\n",
       "      <td>0</td>\n",
       "      <td>1</td>\n",
       "      <td>40360210.0</td>\n",
       "      <td>0</td>\n",
       "    </tr>\n",
       "  </tbody>\n",
       "</table>\n",
       "<p>149902 rows × 10 columns</p>\n",
       "</div>"
      ],
      "text/plain": [
       "       Merek Sneaker              Nama Sneaker  ID Sneaker Jumlah Toko  \\\n",
       "0               Nike                Killshot 2  FZ5630-100    21 Shops   \n",
       "1             Jordan                         1  553558-072    21 Shops   \n",
       "2               Nike      Air Max 1 87 Leopard  FV6605-200    21 Shops   \n",
       "3               Nike                       100  FD7039-200    21 Shops   \n",
       "4               Nike   Air Max 1 SC Light Dust  FB9660-002    21 Shops   \n",
       "...              ...                       ...         ...         ...   \n",
       "194712        Adidas  Tubular Runner Primeknit      B25573     1 Shops   \n",
       "194713        Adidas   Superstar 80S Primeknit      S82780     1 Shops   \n",
       "194714        Adidas                Y 3 Qr Run      AQ5497     1 Shops   \n",
       "194715        Adidas           Y 3 Retro Boost      AQ5494     1 Shops   \n",
       "194716        Adidas             Superstar 80S      S75056     1 Shops   \n",
       "\n",
       "        Available Diskon  euro  dolar  Harga (Rp)  Jumlah Toko Encoded  \n",
       "0               1     20     1      0   1314366.8                   13  \n",
       "1               1     30     1      0   1262483.9                   13  \n",
       "2               1     10     1      0   2490379.2                   13  \n",
       "3               1     45     1      0   1435426.9                   13  \n",
       "4               1     45     1      0   1660252.8                   13  \n",
       "...           ...    ...   ...    ...         ...                  ...  \n",
       "194712          1      0     0      1   1785850.0                    0  \n",
       "194713          1      0     0      1   1931965.0                    0  \n",
       "194714          1      0     0      1   6591410.0                    0  \n",
       "194715          1      0     0      1  11461910.0                    0  \n",
       "194716          0      0     0      1  40360210.0                    0  \n",
       "\n",
       "[149902 rows x 10 columns]"
      ]
     },
     "execution_count": 62,
     "metadata": {},
     "output_type": "execute_result"
    }
   ],
   "source": [
    "data"
   ]
  }
 ],
 "metadata": {
  "kernelspec": {
   "display_name": "Python 3 (ipykernel)",
   "language": "python",
   "name": "python3"
  },
  "language_info": {
   "codemirror_mode": {
    "name": "ipython",
    "version": 3
   },
   "file_extension": ".py",
   "mimetype": "text/x-python",
   "name": "python",
   "nbconvert_exporter": "python",
   "pygments_lexer": "ipython3",
   "version": "3.11.5"
  }
 },
 "nbformat": 4,
 "nbformat_minor": 5
}
